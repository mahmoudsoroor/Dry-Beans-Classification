{
 "cells": [
  {
   "cell_type": "markdown",
   "id": "ee208203",
   "metadata": {
    "papermill": {
     "duration": 0.029847,
     "end_time": "2022-05-30T13:13:16.430135",
     "exception": false,
     "start_time": "2022-05-30T13:13:16.400288",
     "status": "completed"
    },
    "tags": []
   },
   "source": [
    "# Data Set Information:\n",
    "\n",
    "Seven different types of dry beans were used in this research, taking into account the features such as form, shape, type, and structure by the market situation. A computer vision system was developed to distinguish seven different registered varieties of dry beans with similar features in order to obtain uniform seed classification. For the classification model, images of 13,611 grains of 7 different registered dry beans were taken with a high-resolution camera. Bean images obtained by computer vision system were subjected to segmentation and feature extraction stages, and a total of 16 features; 12 dimensions and 4 shape forms, were obtained from the grains."
   ]
  },
  {
   "cell_type": "code",
   "execution_count": 1,
   "id": "44ac9292",
   "metadata": {
    "execution": {
     "iopub.execute_input": "2022-05-30T13:13:16.491960Z",
     "iopub.status.busy": "2022-05-30T13:13:16.491405Z",
     "iopub.status.idle": "2022-05-30T13:13:20.181470Z",
     "shell.execute_reply": "2022-05-30T13:13:20.180027Z"
    },
    "papermill": {
     "duration": 3.723634,
     "end_time": "2022-05-30T13:13:20.184865",
     "exception": false,
     "start_time": "2022-05-30T13:13:16.461231",
     "status": "completed"
    },
    "tags": []
   },
   "outputs": [
    {
     "data": {
      "text/html": [
       "<style type='text/css'>\n",
       ".datatable table.frame { margin-bottom: 0; }\n",
       ".datatable table.frame thead { border-bottom: none; }\n",
       ".datatable table.frame tr.coltypes td {  color: #FFFFFF;  line-height: 6px;  padding: 0 0.5em;}\n",
       ".datatable .bool    { background: #DDDD99; }\n",
       ".datatable .object  { background: #565656; }\n",
       ".datatable .int     { background: #5D9E5D; }\n",
       ".datatable .float   { background: #4040CC; }\n",
       ".datatable .str     { background: #CC4040; }\n",
       ".datatable .time    { background: #40CC40; }\n",
       ".datatable .row_index {  background: var(--jp-border-color3);  border-right: 1px solid var(--jp-border-color0);  color: var(--jp-ui-font-color3);  font-size: 9px;}\n",
       ".datatable .frame tbody td { text-align: left; }\n",
       ".datatable .frame tr.coltypes .row_index {  background: var(--jp-border-color0);}\n",
       ".datatable th:nth-child(2) { padding-left: 12px; }\n",
       ".datatable .hellipsis {  color: var(--jp-cell-editor-border-color);}\n",
       ".datatable .vellipsis {  background: var(--jp-layout-color0);  color: var(--jp-cell-editor-border-color);}\n",
       ".datatable .na {  color: var(--jp-cell-editor-border-color);  font-size: 80%;}\n",
       ".datatable .sp {  opacity: 0.25;}\n",
       ".datatable .footer { font-size: 9px; }\n",
       ".datatable .frame_dimensions {  background: var(--jp-border-color3);  border-top: 1px solid var(--jp-border-color0);  color: var(--jp-ui-font-color3);  display: inline-block;  opacity: 0.6;  padding: 1px 10px 1px 5px;}\n",
       "</style>\n"
      ],
      "text/plain": [
       "<IPython.core.display.HTML object>"
      ]
     },
     "metadata": {},
     "output_type": "display_data"
    }
   ],
   "source": [
    "import numpy as np\n",
    "import pandas as pd\n",
    "# import pandas_profiling as pp\n",
    "import matplotlib.pyplot as plt\n",
    "import seaborn as sns\n",
    "%matplotlib inline\n",
    "from sklearn.metrics import accuracy_score, precision_score, recall_score, f1_score , confusion_matrix , classification_report\n",
    "from sklearn.ensemble import  RandomForestClassifier\n",
    "from sklearn.neighbors import KNeighborsClassifier\n",
    "from sklearn.preprocessing import RobustScaler , PowerTransformer , MinMaxScaler , StandardScaler , LabelEncoder , Normalizer , MaxAbsScaler\n",
    "from sklearn.model_selection import train_test_split, StratifiedKFold, cross_val_score\n",
    "from sklearn.linear_model import LogisticRegression\n",
    "from sklearn.svm import SVC\n",
    "from sklearn.tree import DecisionTreeClassifier\n",
    "from lightgbm import LGBMClassifier\n",
    "from xgboost import XGBClassifier\n",
    "from sklearn.ensemble import RandomForestClassifier,AdaBoostClassifier,BaggingClassifier,ExtraTreesClassifier,VotingClassifier,\\\n",
    "GradientBoostingClassifier,StackingClassifier,VotingClassifier\n",
    "from catboost import CatBoostClassifier\n",
    "from sklearn.neighbors import KNeighborsClassifier\n",
    "from sklearn.neural_network import MLPClassifier\n",
    "from sklearn.model_selection import GridSearchCV\n",
    "from imblearn.over_sampling import SMOTE, ADASYN,BorderlineSMOTE,KMeansSMOTE,SVMSMOTE\n",
    "from imblearn.under_sampling import RandomUnderSampler\n",
    "from sklearn.pipeline import Pipeline, make_pipeline\n",
    "from sklearn.decomposition import PCA\n",
    "import warnings\n",
    "warnings.filterwarnings(\"ignore\")"
   ]
  },
  {
   "cell_type": "markdown",
   "id": "3f940a45",
   "metadata": {
    "papermill": {
     "duration": 0.027352,
     "end_time": "2022-05-30T13:13:20.242962",
     "exception": false,
     "start_time": "2022-05-30T13:13:20.215610",
     "status": "completed"
    },
    "tags": []
   },
   "source": [
    "# read train_dataset"
   ]
  },
  {
   "cell_type": "code",
   "execution_count": 2,
   "id": "6455efbb",
   "metadata": {
    "execution": {
     "iopub.execute_input": "2022-05-30T13:13:20.302062Z",
     "iopub.status.busy": "2022-05-30T13:13:20.301458Z",
     "iopub.status.idle": "2022-05-30T13:13:20.424661Z",
     "shell.execute_reply": "2022-05-30T13:13:20.423676Z"
    },
    "papermill": {
     "duration": 0.1551,
     "end_time": "2022-05-30T13:13:20.427246",
     "exception": false,
     "start_time": "2022-05-30T13:13:20.272146",
     "status": "completed"
    },
    "tags": []
   },
   "outputs": [],
   "source": [
    "df=pd.read_csv(\"../input/dry-beans-classification-iti-ai-pro-intake02/train.csv\",index_col='ID')"
   ]
  },
  {
   "cell_type": "code",
   "execution_count": 3,
   "id": "11bd575a",
   "metadata": {
    "execution": {
     "iopub.execute_input": "2022-05-30T13:13:20.487395Z",
     "iopub.status.busy": "2022-05-30T13:13:20.485913Z",
     "iopub.status.idle": "2022-05-30T13:13:20.493148Z",
     "shell.execute_reply": "2022-05-30T13:13:20.492106Z"
    },
    "papermill": {
     "duration": 0.040446,
     "end_time": "2022-05-30T13:13:20.495828",
     "exception": false,
     "start_time": "2022-05-30T13:13:20.455382",
     "status": "completed"
    },
    "tags": []
   },
   "outputs": [],
   "source": [
    "# create a copy of the file.\n",
    "data=df.copy()"
   ]
  },
  {
   "cell_type": "code",
   "execution_count": 4,
   "id": "827e93a0",
   "metadata": {
    "execution": {
     "iopub.execute_input": "2022-05-30T13:13:20.556333Z",
     "iopub.status.busy": "2022-05-30T13:13:20.555471Z",
     "iopub.status.idle": "2022-05-30T13:13:20.589095Z",
     "shell.execute_reply": "2022-05-30T13:13:20.587959Z"
    },
    "papermill": {
     "duration": 0.067682,
     "end_time": "2022-05-30T13:13:20.592514",
     "exception": false,
     "start_time": "2022-05-30T13:13:20.524832",
     "status": "completed"
    },
    "tags": []
   },
   "outputs": [
    {
     "data": {
      "text/html": [
       "<div>\n",
       "<style scoped>\n",
       "    .dataframe tbody tr th:only-of-type {\n",
       "        vertical-align: middle;\n",
       "    }\n",
       "\n",
       "    .dataframe tbody tr th {\n",
       "        vertical-align: top;\n",
       "    }\n",
       "\n",
       "    .dataframe thead th {\n",
       "        text-align: right;\n",
       "    }\n",
       "</style>\n",
       "<table border=\"1\" class=\"dataframe\">\n",
       "  <thead>\n",
       "    <tr style=\"text-align: right;\">\n",
       "      <th></th>\n",
       "      <th>Area</th>\n",
       "      <th>Perimeter</th>\n",
       "      <th>MajorAxisLength</th>\n",
       "      <th>MinorAxisLength</th>\n",
       "      <th>AspectRation</th>\n",
       "      <th>Eccentricity</th>\n",
       "      <th>ConvexArea</th>\n",
       "      <th>EquivDiameter</th>\n",
       "      <th>Extent</th>\n",
       "      <th>Solidity</th>\n",
       "      <th>roundness</th>\n",
       "      <th>Compactness</th>\n",
       "      <th>ShapeFactor1</th>\n",
       "      <th>ShapeFactor2</th>\n",
       "      <th>ShapeFactor3</th>\n",
       "      <th>ShapeFactor4</th>\n",
       "      <th>y</th>\n",
       "    </tr>\n",
       "    <tr>\n",
       "      <th>ID</th>\n",
       "      <th></th>\n",
       "      <th></th>\n",
       "      <th></th>\n",
       "      <th></th>\n",
       "      <th></th>\n",
       "      <th></th>\n",
       "      <th></th>\n",
       "      <th></th>\n",
       "      <th></th>\n",
       "      <th></th>\n",
       "      <th></th>\n",
       "      <th></th>\n",
       "      <th></th>\n",
       "      <th></th>\n",
       "      <th></th>\n",
       "      <th></th>\n",
       "      <th></th>\n",
       "    </tr>\n",
       "  </thead>\n",
       "  <tbody>\n",
       "    <tr>\n",
       "      <th>0</th>\n",
       "      <td>58238</td>\n",
       "      <td>971.303</td>\n",
       "      <td>397.202654</td>\n",
       "      <td>186.945510</td>\n",
       "      <td>2.124697</td>\n",
       "      <td>0.882317</td>\n",
       "      <td>58977</td>\n",
       "      <td>272.306674</td>\n",
       "      <td>0.604756</td>\n",
       "      <td>0.987470</td>\n",
       "      <td>0.775723</td>\n",
       "      <td>0.685561</td>\n",
       "      <td>0.006820</td>\n",
       "      <td>0.000929</td>\n",
       "      <td>0.469994</td>\n",
       "      <td>0.998595</td>\n",
       "      <td>HOROZ</td>\n",
       "    </tr>\n",
       "    <tr>\n",
       "      <th>1</th>\n",
       "      <td>44515</td>\n",
       "      <td>757.601</td>\n",
       "      <td>265.590470</td>\n",
       "      <td>213.967453</td>\n",
       "      <td>1.241266</td>\n",
       "      <td>0.592420</td>\n",
       "      <td>44780</td>\n",
       "      <td>238.071960</td>\n",
       "      <td>0.771745</td>\n",
       "      <td>0.994082</td>\n",
       "      <td>0.974620</td>\n",
       "      <td>0.896387</td>\n",
       "      <td>0.005966</td>\n",
       "      <td>0.002376</td>\n",
       "      <td>0.803510</td>\n",
       "      <td>0.997370</td>\n",
       "      <td>SEKER</td>\n",
       "    </tr>\n",
       "    <tr>\n",
       "      <th>2</th>\n",
       "      <td>31662</td>\n",
       "      <td>653.783</td>\n",
       "      <td>239.902428</td>\n",
       "      <td>168.421505</td>\n",
       "      <td>1.424417</td>\n",
       "      <td>0.712136</td>\n",
       "      <td>32034</td>\n",
       "      <td>200.781748</td>\n",
       "      <td>0.801407</td>\n",
       "      <td>0.988387</td>\n",
       "      <td>0.930853</td>\n",
       "      <td>0.836931</td>\n",
       "      <td>0.007577</td>\n",
       "      <td>0.002293</td>\n",
       "      <td>0.700453</td>\n",
       "      <td>0.997737</td>\n",
       "      <td>DERMASON</td>\n",
       "    </tr>\n",
       "    <tr>\n",
       "      <th>3</th>\n",
       "      <td>38778</td>\n",
       "      <td>734.020</td>\n",
       "      <td>268.446281</td>\n",
       "      <td>184.061923</td>\n",
       "      <td>1.458456</td>\n",
       "      <td>0.727925</td>\n",
       "      <td>39208</td>\n",
       "      <td>222.201897</td>\n",
       "      <td>0.766137</td>\n",
       "      <td>0.989033</td>\n",
       "      <td>0.904439</td>\n",
       "      <td>0.827733</td>\n",
       "      <td>0.006923</td>\n",
       "      <td>0.002005</td>\n",
       "      <td>0.685142</td>\n",
       "      <td>0.999250</td>\n",
       "      <td>DERMASON</td>\n",
       "    </tr>\n",
       "    <tr>\n",
       "      <th>4</th>\n",
       "      <td>42530</td>\n",
       "      <td>775.403</td>\n",
       "      <td>281.212824</td>\n",
       "      <td>193.236878</td>\n",
       "      <td>1.455275</td>\n",
       "      <td>0.726511</td>\n",
       "      <td>43028</td>\n",
       "      <td>232.703412</td>\n",
       "      <td>0.729816</td>\n",
       "      <td>0.988426</td>\n",
       "      <td>0.888895</td>\n",
       "      <td>0.827499</td>\n",
       "      <td>0.006612</td>\n",
       "      <td>0.001912</td>\n",
       "      <td>0.684755</td>\n",
       "      <td>0.996507</td>\n",
       "      <td>SIRA</td>\n",
       "    </tr>\n",
       "    <tr>\n",
       "      <th>5</th>\n",
       "      <td>34771</td>\n",
       "      <td>683.109</td>\n",
       "      <td>230.586519</td>\n",
       "      <td>192.185558</td>\n",
       "      <td>1.199812</td>\n",
       "      <td>0.552574</td>\n",
       "      <td>35163</td>\n",
       "      <td>210.408679</td>\n",
       "      <td>0.783978</td>\n",
       "      <td>0.988852</td>\n",
       "      <td>0.936369</td>\n",
       "      <td>0.912493</td>\n",
       "      <td>0.006632</td>\n",
       "      <td>0.002836</td>\n",
       "      <td>0.832644</td>\n",
       "      <td>0.999016</td>\n",
       "      <td>SEKER</td>\n",
       "    </tr>\n",
       "    <tr>\n",
       "      <th>6</th>\n",
       "      <td>45817</td>\n",
       "      <td>862.123</td>\n",
       "      <td>333.458920</td>\n",
       "      <td>175.910473</td>\n",
       "      <td>1.895617</td>\n",
       "      <td>0.849535</td>\n",
       "      <td>46654</td>\n",
       "      <td>241.528500</td>\n",
       "      <td>0.757932</td>\n",
       "      <td>0.982059</td>\n",
       "      <td>0.774637</td>\n",
       "      <td>0.724313</td>\n",
       "      <td>0.007278</td>\n",
       "      <td>0.001236</td>\n",
       "      <td>0.524629</td>\n",
       "      <td>0.994495</td>\n",
       "      <td>HOROZ</td>\n",
       "    </tr>\n",
       "    <tr>\n",
       "      <th>7</th>\n",
       "      <td>38449</td>\n",
       "      <td>746.242</td>\n",
       "      <td>284.788951</td>\n",
       "      <td>172.925734</td>\n",
       "      <td>1.646886</td>\n",
       "      <td>0.794544</td>\n",
       "      <td>38944</td>\n",
       "      <td>221.257287</td>\n",
       "      <td>0.804878</td>\n",
       "      <td>0.987289</td>\n",
       "      <td>0.867632</td>\n",
       "      <td>0.776917</td>\n",
       "      <td>0.007407</td>\n",
       "      <td>0.001665</td>\n",
       "      <td>0.603600</td>\n",
       "      <td>0.994060</td>\n",
       "      <td>SIRA</td>\n",
       "    </tr>\n",
       "    <tr>\n",
       "      <th>8</th>\n",
       "      <td>38396</td>\n",
       "      <td>709.443</td>\n",
       "      <td>250.380456</td>\n",
       "      <td>195.738890</td>\n",
       "      <td>1.279155</td>\n",
       "      <td>0.623572</td>\n",
       "      <td>38723</td>\n",
       "      <td>221.104739</td>\n",
       "      <td>0.748431</td>\n",
       "      <td>0.991555</td>\n",
       "      <td>0.958652</td>\n",
       "      <td>0.883075</td>\n",
       "      <td>0.006521</td>\n",
       "      <td>0.002446</td>\n",
       "      <td>0.779822</td>\n",
       "      <td>0.997513</td>\n",
       "      <td>SEKER</td>\n",
       "    </tr>\n",
       "    <tr>\n",
       "      <th>9</th>\n",
       "      <td>44492</td>\n",
       "      <td>785.831</td>\n",
       "      <td>297.953914</td>\n",
       "      <td>190.455857</td>\n",
       "      <td>1.564425</td>\n",
       "      <td>0.769030</td>\n",
       "      <td>44870</td>\n",
       "      <td>238.010449</td>\n",
       "      <td>0.772431</td>\n",
       "      <td>0.991576</td>\n",
       "      <td>0.905385</td>\n",
       "      <td>0.798816</td>\n",
       "      <td>0.006697</td>\n",
       "      <td>0.001682</td>\n",
       "      <td>0.638108</td>\n",
       "      <td>0.998271</td>\n",
       "      <td>SIRA</td>\n",
       "    </tr>\n",
       "  </tbody>\n",
       "</table>\n",
       "</div>"
      ],
      "text/plain": [
       "     Area  Perimeter  MajorAxisLength  MinorAxisLength  AspectRation  \\\n",
       "ID                                                                     \n",
       "0   58238    971.303       397.202654       186.945510      2.124697   \n",
       "1   44515    757.601       265.590470       213.967453      1.241266   \n",
       "2   31662    653.783       239.902428       168.421505      1.424417   \n",
       "3   38778    734.020       268.446281       184.061923      1.458456   \n",
       "4   42530    775.403       281.212824       193.236878      1.455275   \n",
       "5   34771    683.109       230.586519       192.185558      1.199812   \n",
       "6   45817    862.123       333.458920       175.910473      1.895617   \n",
       "7   38449    746.242       284.788951       172.925734      1.646886   \n",
       "8   38396    709.443       250.380456       195.738890      1.279155   \n",
       "9   44492    785.831       297.953914       190.455857      1.564425   \n",
       "\n",
       "    Eccentricity  ConvexArea  EquivDiameter    Extent  Solidity  roundness  \\\n",
       "ID                                                                           \n",
       "0       0.882317       58977     272.306674  0.604756  0.987470   0.775723   \n",
       "1       0.592420       44780     238.071960  0.771745  0.994082   0.974620   \n",
       "2       0.712136       32034     200.781748  0.801407  0.988387   0.930853   \n",
       "3       0.727925       39208     222.201897  0.766137  0.989033   0.904439   \n",
       "4       0.726511       43028     232.703412  0.729816  0.988426   0.888895   \n",
       "5       0.552574       35163     210.408679  0.783978  0.988852   0.936369   \n",
       "6       0.849535       46654     241.528500  0.757932  0.982059   0.774637   \n",
       "7       0.794544       38944     221.257287  0.804878  0.987289   0.867632   \n",
       "8       0.623572       38723     221.104739  0.748431  0.991555   0.958652   \n",
       "9       0.769030       44870     238.010449  0.772431  0.991576   0.905385   \n",
       "\n",
       "    Compactness  ShapeFactor1  ShapeFactor2  ShapeFactor3  ShapeFactor4  \\\n",
       "ID                                                                        \n",
       "0      0.685561      0.006820      0.000929      0.469994      0.998595   \n",
       "1      0.896387      0.005966      0.002376      0.803510      0.997370   \n",
       "2      0.836931      0.007577      0.002293      0.700453      0.997737   \n",
       "3      0.827733      0.006923      0.002005      0.685142      0.999250   \n",
       "4      0.827499      0.006612      0.001912      0.684755      0.996507   \n",
       "5      0.912493      0.006632      0.002836      0.832644      0.999016   \n",
       "6      0.724313      0.007278      0.001236      0.524629      0.994495   \n",
       "7      0.776917      0.007407      0.001665      0.603600      0.994060   \n",
       "8      0.883075      0.006521      0.002446      0.779822      0.997513   \n",
       "9      0.798816      0.006697      0.001682      0.638108      0.998271   \n",
       "\n",
       "           y  \n",
       "ID            \n",
       "0      HOROZ  \n",
       "1      SEKER  \n",
       "2   DERMASON  \n",
       "3   DERMASON  \n",
       "4       SIRA  \n",
       "5      SEKER  \n",
       "6      HOROZ  \n",
       "7       SIRA  \n",
       "8      SEKER  \n",
       "9       SIRA  "
      ]
     },
     "execution_count": 4,
     "metadata": {},
     "output_type": "execute_result"
    }
   ],
   "source": [
    "data.head(10)"
   ]
  },
  {
   "cell_type": "markdown",
   "id": "662e3d86",
   "metadata": {
    "papermill": {
     "duration": 0.028525,
     "end_time": "2022-05-30T13:13:20.649298",
     "exception": false,
     "start_time": "2022-05-30T13:13:20.620773",
     "status": "completed"
    },
    "tags": []
   },
   "source": [
    "# Attribute Information:\n",
    "\n",
    "* **Area (A)**: The area of a bean zone and the number of pixels within its boundaries.\n",
    "* **Perimeter (P)**: Bean circumference is defined as the length of its border.\n",
    "* **Major axis length (L)**: The distance between the ends of the longest line that can be drawn from a bean.\n",
    "* **Minor axis length (l)**: The longest line that can be drawn from the bean while standing perpendicular to the main axis.\n",
    "* **Aspect ratio (K)**: Defines the relationship between L and l.\n",
    "* **Eccentricity (Ec)**: Eccentricity of the ellipse having the same moments as the region.\n",
    "* **Convex area (C)**: Number of pixels in the smallest convex polygon that can contain the area of a bean seed.\n",
    "* **Equivalent diameter (Ed)**: The diameter of a circle having the same area as a bean seed area.\n",
    "* **Extent (Ex)**: The ratio of the pixels in the bounding box to the bean area.\n",
    "* **Solidity (S)**: Also known as convexity. The ratio of the pixels in the convex shell to those found in beans.\n",
    "* **Roundness (R)**: Calculated with the following formula: (4piA)/(P^2)\n",
    "* **Compactness (CO)**: Measures the roundness of an object: Ed/L\n",
    "* **ShapeFactor1 (SF1)**\n",
    "* **ShapeFactor2 (SF2)**\n",
    "* **ShapeFactor3 (SF3)**\n",
    "* **ShapeFactor4 (SF4)**\n",
    "* **Class (Seker, Barbunya, Bombay, Cali, Dermosan, Horoz and Sira)**"
   ]
  },
  {
   "cell_type": "markdown",
   "id": "4e3754a6",
   "metadata": {
    "papermill": {
     "duration": 0.028319,
     "end_time": "2022-05-30T13:13:20.706272",
     "exception": false,
     "start_time": "2022-05-30T13:13:20.677953",
     "status": "completed"
    },
    "tags": []
   },
   "source": [
    "# Class Exploration"
   ]
  },
  {
   "cell_type": "code",
   "execution_count": 5,
   "id": "0a36519e",
   "metadata": {
    "execution": {
     "iopub.execute_input": "2022-05-30T13:13:20.769418Z",
     "iopub.status.busy": "2022-05-30T13:13:20.768871Z",
     "iopub.status.idle": "2022-05-30T13:13:20.779923Z",
     "shell.execute_reply": "2022-05-30T13:13:20.778793Z"
    },
    "papermill": {
     "duration": 0.046578,
     "end_time": "2022-05-30T13:13:20.783323",
     "exception": false,
     "start_time": "2022-05-30T13:13:20.736745",
     "status": "completed"
    },
    "tags": []
   },
   "outputs": [
    {
     "name": "stdout",
     "output_type": "stream",
     "text": [
      "['HOROZ' 'SEKER' 'DERMASON' 'SIRA' 'BARBUNYA' 'CALI' 'BOMBAY']\n"
     ]
    }
   ],
   "source": [
    "print(data['y'].unique())"
   ]
  },
  {
   "cell_type": "markdown",
   "id": "2c87d501",
   "metadata": {
    "papermill": {
     "duration": 0.028944,
     "end_time": "2022-05-30T13:13:20.843175",
     "exception": false,
     "start_time": "2022-05-30T13:13:20.814231",
     "status": "completed"
    },
    "tags": []
   },
   "source": [
    "<img src=\"https://i.postimg.cc/vb5PhqNM/visualsupdated.png\"/>"
   ]
  },
  {
   "cell_type": "code",
   "execution_count": 6,
   "id": "2ad7f497",
   "metadata": {
    "execution": {
     "iopub.execute_input": "2022-05-30T13:13:20.902461Z",
     "iopub.status.busy": "2022-05-30T13:13:20.901918Z",
     "iopub.status.idle": "2022-05-30T13:13:20.908999Z",
     "shell.execute_reply": "2022-05-30T13:13:20.907764Z"
    },
    "papermill": {
     "duration": 0.040785,
     "end_time": "2022-05-30T13:13:20.911998",
     "exception": false,
     "start_time": "2022-05-30T13:13:20.871213",
     "status": "completed"
    },
    "tags": []
   },
   "outputs": [
    {
     "name": "stdout",
     "output_type": "stream",
     "text": [
      "Data set contains 10834 rows and 17 columns\n"
     ]
    }
   ],
   "source": [
    "# check the number of columns and rows\n",
    "print(\"Data set contains {a} rows and {b} columns\".format(a=data.shape[0],b=data.shape[1]))\n",
    "# print(\"the shape of training_data is : \",data.shape)"
   ]
  },
  {
   "cell_type": "markdown",
   "id": "6c1f6690",
   "metadata": {
    "papermill": {
     "duration": 0.02849,
     "end_time": "2022-05-30T13:13:20.970690",
     "exception": false,
     "start_time": "2022-05-30T13:13:20.942200",
     "status": "completed"
    },
    "tags": []
   },
   "source": [
    "# Exploratory data analysis"
   ]
  },
  {
   "cell_type": "code",
   "execution_count": 7,
   "id": "741e22a3",
   "metadata": {
    "execution": {
     "iopub.execute_input": "2022-05-30T13:13:21.036585Z",
     "iopub.status.busy": "2022-05-30T13:13:21.035768Z",
     "iopub.status.idle": "2022-05-30T13:13:21.057869Z",
     "shell.execute_reply": "2022-05-30T13:13:21.056679Z"
    },
    "papermill": {
     "duration": 0.062386,
     "end_time": "2022-05-30T13:13:21.061446",
     "exception": false,
     "start_time": "2022-05-30T13:13:20.999060",
     "status": "completed"
    },
    "tags": []
   },
   "outputs": [
    {
     "name": "stdout",
     "output_type": "stream",
     "text": [
      "<class 'pandas.core.frame.DataFrame'>\n",
      "Int64Index: 10834 entries, 0 to 10833\n",
      "Data columns (total 17 columns):\n",
      " #   Column           Non-Null Count  Dtype  \n",
      "---  ------           --------------  -----  \n",
      " 0   Area             10834 non-null  int64  \n",
      " 1   Perimeter        10834 non-null  float64\n",
      " 2   MajorAxisLength  10834 non-null  float64\n",
      " 3   MinorAxisLength  10834 non-null  float64\n",
      " 4   AspectRation     10834 non-null  float64\n",
      " 5   Eccentricity     10834 non-null  float64\n",
      " 6   ConvexArea       10834 non-null  int64  \n",
      " 7   EquivDiameter    10834 non-null  float64\n",
      " 8   Extent           10834 non-null  float64\n",
      " 9   Solidity         10834 non-null  float64\n",
      " 10  roundness        10834 non-null  float64\n",
      " 11  Compactness      10834 non-null  float64\n",
      " 12  ShapeFactor1     10834 non-null  float64\n",
      " 13  ShapeFactor2     10834 non-null  float64\n",
      " 14  ShapeFactor3     10834 non-null  float64\n",
      " 15  ShapeFactor4     10834 non-null  float64\n",
      " 16  y                10834 non-null  object \n",
      "dtypes: float64(14), int64(2), object(1)\n",
      "memory usage: 1.5+ MB\n"
     ]
    }
   ],
   "source": [
    "data.info()"
   ]
  },
  {
   "cell_type": "code",
   "execution_count": 8,
   "id": "807016ce",
   "metadata": {
    "execution": {
     "iopub.execute_input": "2022-05-30T13:13:21.123794Z",
     "iopub.status.busy": "2022-05-30T13:13:21.123296Z",
     "iopub.status.idle": "2022-05-30T13:13:21.146804Z",
     "shell.execute_reply": "2022-05-30T13:13:21.145242Z"
    },
    "papermill": {
     "duration": 0.057701,
     "end_time": "2022-05-30T13:13:21.149726",
     "exception": false,
     "start_time": "2022-05-30T13:13:21.092025",
     "status": "completed"
    },
    "tags": []
   },
   "outputs": [
    {
     "name": "stdout",
     "output_type": "stream",
     "text": [
      "<class 'pandas.core.frame.DataFrame'>\n",
      "Int64Index: 10834 entries, 0 to 10833\n",
      "Data columns (total 17 columns):\n",
      " #   Column           Non-Null Count  Dtype   \n",
      "---  ------           --------------  -----   \n",
      " 0   Area             10834 non-null  int64   \n",
      " 1   Perimeter        10834 non-null  float64 \n",
      " 2   MajorAxisLength  10834 non-null  float64 \n",
      " 3   MinorAxisLength  10834 non-null  float64 \n",
      " 4   AspectRation     10834 non-null  float64 \n",
      " 5   Eccentricity     10834 non-null  float64 \n",
      " 6   ConvexArea       10834 non-null  int64   \n",
      " 7   EquivDiameter    10834 non-null  float64 \n",
      " 8   Extent           10834 non-null  float64 \n",
      " 9   Solidity         10834 non-null  float64 \n",
      " 10  roundness        10834 non-null  float64 \n",
      " 11  Compactness      10834 non-null  float64 \n",
      " 12  ShapeFactor1     10834 non-null  float64 \n",
      " 13  ShapeFactor2     10834 non-null  float64 \n",
      " 14  ShapeFactor3     10834 non-null  float64 \n",
      " 15  ShapeFactor4     10834 non-null  float64 \n",
      " 16  y                10834 non-null  category\n",
      "dtypes: category(1), float64(14), int64(2)\n",
      "memory usage: 1.4 MB\n"
     ]
    }
   ],
   "source": [
    "df.y = df.y.astype('category')\n",
    "df.info()"
   ]
  },
  {
   "cell_type": "code",
   "execution_count": 9,
   "id": "8bdaf0b5",
   "metadata": {
    "execution": {
     "iopub.execute_input": "2022-05-30T13:13:21.211428Z",
     "iopub.status.busy": "2022-05-30T13:13:21.210593Z",
     "iopub.status.idle": "2022-05-30T13:13:21.222240Z",
     "shell.execute_reply": "2022-05-30T13:13:21.221210Z"
    },
    "papermill": {
     "duration": 0.045642,
     "end_time": "2022-05-30T13:13:21.224432",
     "exception": false,
     "start_time": "2022-05-30T13:13:21.178790",
     "status": "completed"
    },
    "tags": []
   },
   "outputs": [
    {
     "data": {
      "text/plain": [
       "Area               0\n",
       "Perimeter          0\n",
       "MajorAxisLength    0\n",
       "MinorAxisLength    0\n",
       "AspectRation       0\n",
       "Eccentricity       0\n",
       "ConvexArea         0\n",
       "EquivDiameter      0\n",
       "Extent             0\n",
       "Solidity           0\n",
       "roundness          0\n",
       "Compactness        0\n",
       "ShapeFactor1       0\n",
       "ShapeFactor2       0\n",
       "ShapeFactor3       0\n",
       "ShapeFactor4       0\n",
       "y                  0\n",
       "dtype: int64"
      ]
     },
     "execution_count": 9,
     "metadata": {},
     "output_type": "execute_result"
    }
   ],
   "source": [
    "data.isnull().sum()"
   ]
  },
  {
   "cell_type": "code",
   "execution_count": 10,
   "id": "93a90e04",
   "metadata": {
    "execution": {
     "iopub.execute_input": "2022-05-30T13:13:21.286837Z",
     "iopub.status.busy": "2022-05-30T13:13:21.286037Z",
     "iopub.status.idle": "2022-05-30T13:13:21.367181Z",
     "shell.execute_reply": "2022-05-30T13:13:21.365470Z"
    },
    "papermill": {
     "duration": 0.116005,
     "end_time": "2022-05-30T13:13:21.370309",
     "exception": false,
     "start_time": "2022-05-30T13:13:21.254304",
     "status": "completed"
    },
    "tags": []
   },
   "outputs": [
    {
     "data": {
      "text/html": [
       "<div>\n",
       "<style scoped>\n",
       "    .dataframe tbody tr th:only-of-type {\n",
       "        vertical-align: middle;\n",
       "    }\n",
       "\n",
       "    .dataframe tbody tr th {\n",
       "        vertical-align: top;\n",
       "    }\n",
       "\n",
       "    .dataframe thead th {\n",
       "        text-align: right;\n",
       "    }\n",
       "</style>\n",
       "<table border=\"1\" class=\"dataframe\">\n",
       "  <thead>\n",
       "    <tr style=\"text-align: right;\">\n",
       "      <th></th>\n",
       "      <th>count</th>\n",
       "      <th>mean</th>\n",
       "      <th>std</th>\n",
       "      <th>min</th>\n",
       "      <th>25%</th>\n",
       "      <th>50%</th>\n",
       "      <th>75%</th>\n",
       "      <th>max</th>\n",
       "    </tr>\n",
       "  </thead>\n",
       "  <tbody>\n",
       "    <tr>\n",
       "      <th>Area</th>\n",
       "      <td>10834.0</td>\n",
       "      <td>53095.675189</td>\n",
       "      <td>29542.542580</td>\n",
       "      <td>20420.000000</td>\n",
       "      <td>36343.500000</td>\n",
       "      <td>44645.000000</td>\n",
       "      <td>61295.000000</td>\n",
       "      <td>254616.000000</td>\n",
       "    </tr>\n",
       "    <tr>\n",
       "      <th>Perimeter</th>\n",
       "      <td>10834.0</td>\n",
       "      <td>855.274892</td>\n",
       "      <td>214.991122</td>\n",
       "      <td>524.932000</td>\n",
       "      <td>703.601250</td>\n",
       "      <td>793.739500</td>\n",
       "      <td>975.517500</td>\n",
       "      <td>1985.370000</td>\n",
       "    </tr>\n",
       "    <tr>\n",
       "      <th>MajorAxisLength</th>\n",
       "      <td>10834.0</td>\n",
       "      <td>320.036169</td>\n",
       "      <td>85.961630</td>\n",
       "      <td>183.601165</td>\n",
       "      <td>253.501071</td>\n",
       "      <td>296.377365</td>\n",
       "      <td>376.068399</td>\n",
       "      <td>738.860153</td>\n",
       "    </tr>\n",
       "    <tr>\n",
       "      <th>MinorAxisLength</th>\n",
       "      <td>10834.0</td>\n",
       "      <td>202.410342</td>\n",
       "      <td>45.113965</td>\n",
       "      <td>129.576207</td>\n",
       "      <td>175.927024</td>\n",
       "      <td>192.525040</td>\n",
       "      <td>217.315195</td>\n",
       "      <td>450.926187</td>\n",
       "    </tr>\n",
       "    <tr>\n",
       "      <th>AspectRation</th>\n",
       "      <td>10834.0</td>\n",
       "      <td>1.581294</td>\n",
       "      <td>0.244314</td>\n",
       "      <td>1.024868</td>\n",
       "      <td>1.432985</td>\n",
       "      <td>1.550761</td>\n",
       "      <td>1.703029</td>\n",
       "      <td>2.388873</td>\n",
       "    </tr>\n",
       "    <tr>\n",
       "      <th>Eccentricity</th>\n",
       "      <td>10834.0</td>\n",
       "      <td>0.750588</td>\n",
       "      <td>0.091481</td>\n",
       "      <td>0.218951</td>\n",
       "      <td>0.716250</td>\n",
       "      <td>0.764314</td>\n",
       "      <td>0.809450</td>\n",
       "      <td>0.908167</td>\n",
       "    </tr>\n",
       "    <tr>\n",
       "      <th>ConvexArea</th>\n",
       "      <td>10834.0</td>\n",
       "      <td>53816.205926</td>\n",
       "      <td>29999.710739</td>\n",
       "      <td>20684.000000</td>\n",
       "      <td>36731.250000</td>\n",
       "      <td>45148.000000</td>\n",
       "      <td>62251.500000</td>\n",
       "      <td>263261.000000</td>\n",
       "    </tr>\n",
       "    <tr>\n",
       "      <th>EquivDiameter</th>\n",
       "      <td>10834.0</td>\n",
       "      <td>253.123583</td>\n",
       "      <td>59.433080</td>\n",
       "      <td>161.243764</td>\n",
       "      <td>215.113880</td>\n",
       "      <td>238.419335</td>\n",
       "      <td>279.362162</td>\n",
       "      <td>569.374358</td>\n",
       "    </tr>\n",
       "    <tr>\n",
       "      <th>Extent</th>\n",
       "      <td>10834.0</td>\n",
       "      <td>0.749937</td>\n",
       "      <td>0.048949</td>\n",
       "      <td>0.555315</td>\n",
       "      <td>0.718778</td>\n",
       "      <td>0.760141</td>\n",
       "      <td>0.786871</td>\n",
       "      <td>0.866195</td>\n",
       "    </tr>\n",
       "    <tr>\n",
       "      <th>Solidity</th>\n",
       "      <td>10834.0</td>\n",
       "      <td>0.987152</td>\n",
       "      <td>0.004626</td>\n",
       "      <td>0.919246</td>\n",
       "      <td>0.985627</td>\n",
       "      <td>0.988290</td>\n",
       "      <td>0.990014</td>\n",
       "      <td>0.994677</td>\n",
       "    </tr>\n",
       "    <tr>\n",
       "      <th>roundness</th>\n",
       "      <td>10834.0</td>\n",
       "      <td>0.873647</td>\n",
       "      <td>0.059344</td>\n",
       "      <td>0.489618</td>\n",
       "      <td>0.833479</td>\n",
       "      <td>0.883472</td>\n",
       "      <td>0.916883</td>\n",
       "      <td>0.990685</td>\n",
       "    </tr>\n",
       "    <tr>\n",
       "      <th>Compactness</th>\n",
       "      <td>10834.0</td>\n",
       "      <td>0.800244</td>\n",
       "      <td>0.061228</td>\n",
       "      <td>0.645368</td>\n",
       "      <td>0.763378</td>\n",
       "      <td>0.801428</td>\n",
       "      <td>0.834068</td>\n",
       "      <td>0.987303</td>\n",
       "    </tr>\n",
       "    <tr>\n",
       "      <th>ShapeFactor1</th>\n",
       "      <td>10834.0</td>\n",
       "      <td>0.006559</td>\n",
       "      <td>0.001127</td>\n",
       "      <td>0.002856</td>\n",
       "      <td>0.005888</td>\n",
       "      <td>0.006643</td>\n",
       "      <td>0.007268</td>\n",
       "      <td>0.009897</td>\n",
       "    </tr>\n",
       "    <tr>\n",
       "      <th>ShapeFactor2</th>\n",
       "      <td>10834.0</td>\n",
       "      <td>0.001718</td>\n",
       "      <td>0.000593</td>\n",
       "      <td>0.000564</td>\n",
       "      <td>0.001161</td>\n",
       "      <td>0.001700</td>\n",
       "      <td>0.002169</td>\n",
       "      <td>0.003665</td>\n",
       "    </tr>\n",
       "    <tr>\n",
       "      <th>ShapeFactor3</th>\n",
       "      <td>10834.0</td>\n",
       "      <td>0.644139</td>\n",
       "      <td>0.098268</td>\n",
       "      <td>0.416499</td>\n",
       "      <td>0.582747</td>\n",
       "      <td>0.642287</td>\n",
       "      <td>0.695670</td>\n",
       "      <td>0.974767</td>\n",
       "    </tr>\n",
       "    <tr>\n",
       "      <th>ShapeFactor4</th>\n",
       "      <td>10834.0</td>\n",
       "      <td>0.995083</td>\n",
       "      <td>0.004306</td>\n",
       "      <td>0.947687</td>\n",
       "      <td>0.993690</td>\n",
       "      <td>0.996397</td>\n",
       "      <td>0.997895</td>\n",
       "      <td>0.999733</td>\n",
       "    </tr>\n",
       "  </tbody>\n",
       "</table>\n",
       "</div>"
      ],
      "text/plain": [
       "                   count          mean           std           min  \\\n",
       "Area             10834.0  53095.675189  29542.542580  20420.000000   \n",
       "Perimeter        10834.0    855.274892    214.991122    524.932000   \n",
       "MajorAxisLength  10834.0    320.036169     85.961630    183.601165   \n",
       "MinorAxisLength  10834.0    202.410342     45.113965    129.576207   \n",
       "AspectRation     10834.0      1.581294      0.244314      1.024868   \n",
       "Eccentricity     10834.0      0.750588      0.091481      0.218951   \n",
       "ConvexArea       10834.0  53816.205926  29999.710739  20684.000000   \n",
       "EquivDiameter    10834.0    253.123583     59.433080    161.243764   \n",
       "Extent           10834.0      0.749937      0.048949      0.555315   \n",
       "Solidity         10834.0      0.987152      0.004626      0.919246   \n",
       "roundness        10834.0      0.873647      0.059344      0.489618   \n",
       "Compactness      10834.0      0.800244      0.061228      0.645368   \n",
       "ShapeFactor1     10834.0      0.006559      0.001127      0.002856   \n",
       "ShapeFactor2     10834.0      0.001718      0.000593      0.000564   \n",
       "ShapeFactor3     10834.0      0.644139      0.098268      0.416499   \n",
       "ShapeFactor4     10834.0      0.995083      0.004306      0.947687   \n",
       "\n",
       "                          25%           50%           75%            max  \n",
       "Area             36343.500000  44645.000000  61295.000000  254616.000000  \n",
       "Perimeter          703.601250    793.739500    975.517500    1985.370000  \n",
       "MajorAxisLength    253.501071    296.377365    376.068399     738.860153  \n",
       "MinorAxisLength    175.927024    192.525040    217.315195     450.926187  \n",
       "AspectRation         1.432985      1.550761      1.703029       2.388873  \n",
       "Eccentricity         0.716250      0.764314      0.809450       0.908167  \n",
       "ConvexArea       36731.250000  45148.000000  62251.500000  263261.000000  \n",
       "EquivDiameter      215.113880    238.419335    279.362162     569.374358  \n",
       "Extent               0.718778      0.760141      0.786871       0.866195  \n",
       "Solidity             0.985627      0.988290      0.990014       0.994677  \n",
       "roundness            0.833479      0.883472      0.916883       0.990685  \n",
       "Compactness          0.763378      0.801428      0.834068       0.987303  \n",
       "ShapeFactor1         0.005888      0.006643      0.007268       0.009897  \n",
       "ShapeFactor2         0.001161      0.001700      0.002169       0.003665  \n",
       "ShapeFactor3         0.582747      0.642287      0.695670       0.974767  \n",
       "ShapeFactor4         0.993690      0.996397      0.997895       0.999733  "
      ]
     },
     "execution_count": 10,
     "metadata": {},
     "output_type": "execute_result"
    }
   ],
   "source": [
    "data.describe().T"
   ]
  },
  {
   "cell_type": "code",
   "execution_count": 11,
   "id": "653cbe38",
   "metadata": {
    "execution": {
     "iopub.execute_input": "2022-05-30T13:13:21.431813Z",
     "iopub.status.busy": "2022-05-30T13:13:21.431338Z",
     "iopub.status.idle": "2022-05-30T13:13:21.462557Z",
     "shell.execute_reply": "2022-05-30T13:13:21.461354Z"
    },
    "papermill": {
     "duration": 0.066099,
     "end_time": "2022-05-30T13:13:21.465605",
     "exception": false,
     "start_time": "2022-05-30T13:13:21.399506",
     "status": "completed"
    },
    "tags": []
   },
   "outputs": [],
   "source": [
    "df1=data[data['y']=='HOROZ']\n",
    "df2=data[data['y']=='SEKER']\n",
    "df3=data[data['y']=='DERMASON']\n",
    "df4=data[data['y']=='SIRA']\n",
    "df5=data[data['y']=='BARBUNYA']\n",
    "df6=data[data['y']=='CALI']\n",
    "df7=data[data['y']=='BOMBAY']"
   ]
  },
  {
   "cell_type": "code",
   "execution_count": 12,
   "id": "291a5c06",
   "metadata": {
    "execution": {
     "iopub.execute_input": "2022-05-30T13:13:21.528502Z",
     "iopub.status.busy": "2022-05-30T13:13:21.527613Z",
     "iopub.status.idle": "2022-05-30T13:13:21.973368Z",
     "shell.execute_reply": "2022-05-30T13:13:21.972144Z"
    },
    "papermill": {
     "duration": 0.481541,
     "end_time": "2022-05-30T13:13:21.976283",
     "exception": false,
     "start_time": "2022-05-30T13:13:21.494742",
     "status": "completed"
    },
    "tags": []
   },
   "outputs": [
    {
     "name": "stdout",
     "output_type": "stream",
     "text": [
      "['HOROZ']\n"
     ]
    },
    {
     "data": {
      "text/html": [
       "<div>\n",
       "<style scoped>\n",
       "    .dataframe tbody tr th:only-of-type {\n",
       "        vertical-align: middle;\n",
       "    }\n",
       "\n",
       "    .dataframe tbody tr th {\n",
       "        vertical-align: top;\n",
       "    }\n",
       "\n",
       "    .dataframe thead th {\n",
       "        text-align: right;\n",
       "    }\n",
       "</style>\n",
       "<table border=\"1\" class=\"dataframe\">\n",
       "  <thead>\n",
       "    <tr style=\"text-align: right;\">\n",
       "      <th></th>\n",
       "      <th>count</th>\n",
       "      <th>mean</th>\n",
       "      <th>std</th>\n",
       "      <th>min</th>\n",
       "      <th>25%</th>\n",
       "      <th>50%</th>\n",
       "      <th>75%</th>\n",
       "      <th>max</th>\n",
       "    </tr>\n",
       "  </thead>\n",
       "  <tbody>\n",
       "    <tr>\n",
       "      <th>Area</th>\n",
       "      <td>1488.0</td>\n",
       "      <td>53621.056452</td>\n",
       "      <td>7331.434249</td>\n",
       "      <td>33263.000000</td>\n",
       "      <td>48882.250000</td>\n",
       "      <td>53777.000000</td>\n",
       "      <td>58421.250000</td>\n",
       "      <td>81929.000000</td>\n",
       "    </tr>\n",
       "    <tr>\n",
       "      <th>Perimeter</th>\n",
       "      <td>1488.0</td>\n",
       "      <td>919.560155</td>\n",
       "      <td>70.281609</td>\n",
       "      <td>689.294000</td>\n",
       "      <td>877.292500</td>\n",
       "      <td>921.395500</td>\n",
       "      <td>965.075500</td>\n",
       "      <td>1162.588000</td>\n",
       "    </tr>\n",
       "    <tr>\n",
       "      <th>MajorAxisLength</th>\n",
       "      <td>1488.0</td>\n",
       "      <td>372.380849</td>\n",
       "      <td>30.374371</td>\n",
       "      <td>264.630743</td>\n",
       "      <td>356.269876</td>\n",
       "      <td>374.783402</td>\n",
       "      <td>391.147621</td>\n",
       "      <td>456.758154</td>\n",
       "    </tr>\n",
       "    <tr>\n",
       "      <th>MinorAxisLength</th>\n",
       "      <td>1488.0</td>\n",
       "      <td>184.168612</td>\n",
       "      <td>13.357369</td>\n",
       "      <td>148.167484</td>\n",
       "      <td>175.074409</td>\n",
       "      <td>183.836913</td>\n",
       "      <td>193.332505</td>\n",
       "      <td>237.899946</td>\n",
       "    </tr>\n",
       "    <tr>\n",
       "      <th>AspectRation</th>\n",
       "      <td>1488.0</td>\n",
       "      <td>2.024993</td>\n",
       "      <td>0.136411</td>\n",
       "      <td>1.462019</td>\n",
       "      <td>1.945729</td>\n",
       "      <td>2.031860</td>\n",
       "      <td>2.115267</td>\n",
       "      <td>2.388873</td>\n",
       "    </tr>\n",
       "    <tr>\n",
       "      <th>Eccentricity</th>\n",
       "      <td>1488.0</td>\n",
       "      <td>0.867238</td>\n",
       "      <td>0.021386</td>\n",
       "      <td>0.729496</td>\n",
       "      <td>0.857822</td>\n",
       "      <td>0.870505</td>\n",
       "      <td>0.881195</td>\n",
       "      <td>0.908167</td>\n",
       "    </tr>\n",
       "    <tr>\n",
       "      <th>ConvexArea</th>\n",
       "      <td>1488.0</td>\n",
       "      <td>54406.622312</td>\n",
       "      <td>7440.111236</td>\n",
       "      <td>33892.000000</td>\n",
       "      <td>49609.750000</td>\n",
       "      <td>54526.500000</td>\n",
       "      <td>59282.750000</td>\n",
       "      <td>83019.000000</td>\n",
       "    </tr>\n",
       "    <tr>\n",
       "      <th>EquivDiameter</th>\n",
       "      <td>1488.0</td>\n",
       "      <td>260.666343</td>\n",
       "      <td>18.047882</td>\n",
       "      <td>205.795449</td>\n",
       "      <td>249.477080</td>\n",
       "      <td>261.669643</td>\n",
       "      <td>272.734753</td>\n",
       "      <td>322.978703</td>\n",
       "    </tr>\n",
       "    <tr>\n",
       "      <th>Extent</th>\n",
       "      <td>1488.0</td>\n",
       "      <td>0.705175</td>\n",
       "      <td>0.075159</td>\n",
       "      <td>0.555315</td>\n",
       "      <td>0.636327</td>\n",
       "      <td>0.701406</td>\n",
       "      <td>0.776824</td>\n",
       "      <td>0.866195</td>\n",
       "    </tr>\n",
       "    <tr>\n",
       "      <th>Solidity</th>\n",
       "      <td>1488.0</td>\n",
       "      <td>0.985576</td>\n",
       "      <td>0.005866</td>\n",
       "      <td>0.944568</td>\n",
       "      <td>0.984754</td>\n",
       "      <td>0.987005</td>\n",
       "      <td>0.988622</td>\n",
       "      <td>0.992798</td>\n",
       "    </tr>\n",
       "    <tr>\n",
       "      <th>roundness</th>\n",
       "      <td>1488.0</td>\n",
       "      <td>0.794607</td>\n",
       "      <td>0.032172</td>\n",
       "      <td>0.556766</td>\n",
       "      <td>0.779806</td>\n",
       "      <td>0.796389</td>\n",
       "      <td>0.812629</td>\n",
       "      <td>0.921059</td>\n",
       "    </tr>\n",
       "    <tr>\n",
       "      <th>Compactness</th>\n",
       "      <td>1488.0</td>\n",
       "      <td>0.701112</td>\n",
       "      <td>0.023915</td>\n",
       "      <td>0.645368</td>\n",
       "      <td>0.685402</td>\n",
       "      <td>0.698623</td>\n",
       "      <td>0.714001</td>\n",
       "      <td>0.825812</td>\n",
       "    </tr>\n",
       "    <tr>\n",
       "      <th>ShapeFactor1</th>\n",
       "      <td>1488.0</td>\n",
       "      <td>0.007006</td>\n",
       "      <td>0.000501</td>\n",
       "      <td>0.005402</td>\n",
       "      <td>0.006652</td>\n",
       "      <td>0.006976</td>\n",
       "      <td>0.007324</td>\n",
       "      <td>0.008675</td>\n",
       "    </tr>\n",
       "    <tr>\n",
       "      <th>ShapeFactor2</th>\n",
       "      <td>1488.0</td>\n",
       "      <td>0.001049</td>\n",
       "      <td>0.000153</td>\n",
       "      <td>0.000751</td>\n",
       "      <td>0.000954</td>\n",
       "      <td>0.001024</td>\n",
       "      <td>0.001113</td>\n",
       "      <td>0.001931</td>\n",
       "    </tr>\n",
       "    <tr>\n",
       "      <th>ShapeFactor3</th>\n",
       "      <td>1488.0</td>\n",
       "      <td>0.492130</td>\n",
       "      <td>0.034072</td>\n",
       "      <td>0.416499</td>\n",
       "      <td>0.469775</td>\n",
       "      <td>0.488074</td>\n",
       "      <td>0.509797</td>\n",
       "      <td>0.681966</td>\n",
       "    </tr>\n",
       "    <tr>\n",
       "      <th>ShapeFactor4</th>\n",
       "      <td>1488.0</td>\n",
       "      <td>0.991963</td>\n",
       "      <td>0.006176</td>\n",
       "      <td>0.955032</td>\n",
       "      <td>0.990504</td>\n",
       "      <td>0.993723</td>\n",
       "      <td>0.995748</td>\n",
       "      <td>0.999016</td>\n",
       "    </tr>\n",
       "  </tbody>\n",
       "</table>\n",
       "</div>"
      ],
      "text/plain": [
       "                  count          mean          std           min  \\\n",
       "Area             1488.0  53621.056452  7331.434249  33263.000000   \n",
       "Perimeter        1488.0    919.560155    70.281609    689.294000   \n",
       "MajorAxisLength  1488.0    372.380849    30.374371    264.630743   \n",
       "MinorAxisLength  1488.0    184.168612    13.357369    148.167484   \n",
       "AspectRation     1488.0      2.024993     0.136411      1.462019   \n",
       "Eccentricity     1488.0      0.867238     0.021386      0.729496   \n",
       "ConvexArea       1488.0  54406.622312  7440.111236  33892.000000   \n",
       "EquivDiameter    1488.0    260.666343    18.047882    205.795449   \n",
       "Extent           1488.0      0.705175     0.075159      0.555315   \n",
       "Solidity         1488.0      0.985576     0.005866      0.944568   \n",
       "roundness        1488.0      0.794607     0.032172      0.556766   \n",
       "Compactness      1488.0      0.701112     0.023915      0.645368   \n",
       "ShapeFactor1     1488.0      0.007006     0.000501      0.005402   \n",
       "ShapeFactor2     1488.0      0.001049     0.000153      0.000751   \n",
       "ShapeFactor3     1488.0      0.492130     0.034072      0.416499   \n",
       "ShapeFactor4     1488.0      0.991963     0.006176      0.955032   \n",
       "\n",
       "                          25%           50%           75%           max  \n",
       "Area             48882.250000  53777.000000  58421.250000  81929.000000  \n",
       "Perimeter          877.292500    921.395500    965.075500   1162.588000  \n",
       "MajorAxisLength    356.269876    374.783402    391.147621    456.758154  \n",
       "MinorAxisLength    175.074409    183.836913    193.332505    237.899946  \n",
       "AspectRation         1.945729      2.031860      2.115267      2.388873  \n",
       "Eccentricity         0.857822      0.870505      0.881195      0.908167  \n",
       "ConvexArea       49609.750000  54526.500000  59282.750000  83019.000000  \n",
       "EquivDiameter      249.477080    261.669643    272.734753    322.978703  \n",
       "Extent               0.636327      0.701406      0.776824      0.866195  \n",
       "Solidity             0.984754      0.987005      0.988622      0.992798  \n",
       "roundness            0.779806      0.796389      0.812629      0.921059  \n",
       "Compactness          0.685402      0.698623      0.714001      0.825812  \n",
       "ShapeFactor1         0.006652      0.006976      0.007324      0.008675  \n",
       "ShapeFactor2         0.000954      0.001024      0.001113      0.001931  \n",
       "ShapeFactor3         0.469775      0.488074      0.509797      0.681966  \n",
       "ShapeFactor4         0.990504      0.993723      0.995748      0.999016  "
      ]
     },
     "metadata": {},
     "output_type": "display_data"
    },
    {
     "name": "stdout",
     "output_type": "stream",
     "text": [
      "['SEKER']\n"
     ]
    },
    {
     "data": {
      "text/html": [
       "<div>\n",
       "<style scoped>\n",
       "    .dataframe tbody tr th:only-of-type {\n",
       "        vertical-align: middle;\n",
       "    }\n",
       "\n",
       "    .dataframe tbody tr th {\n",
       "        vertical-align: top;\n",
       "    }\n",
       "\n",
       "    .dataframe thead th {\n",
       "        text-align: right;\n",
       "    }\n",
       "</style>\n",
       "<table border=\"1\" class=\"dataframe\">\n",
       "  <thead>\n",
       "    <tr style=\"text-align: right;\">\n",
       "      <th></th>\n",
       "      <th>count</th>\n",
       "      <th>mean</th>\n",
       "      <th>std</th>\n",
       "      <th>min</th>\n",
       "      <th>25%</th>\n",
       "      <th>50%</th>\n",
       "      <th>75%</th>\n",
       "      <th>max</th>\n",
       "    </tr>\n",
       "  </thead>\n",
       "  <tbody>\n",
       "    <tr>\n",
       "      <th>Area</th>\n",
       "      <td>1621.0</td>\n",
       "      <td>39966.113510</td>\n",
       "      <td>4856.696876</td>\n",
       "      <td>28395.000000</td>\n",
       "      <td>36463.000000</td>\n",
       "      <td>39202.000000</td>\n",
       "      <td>42749.000000</td>\n",
       "      <td>61150.000000</td>\n",
       "    </tr>\n",
       "    <tr>\n",
       "      <th>Perimeter</th>\n",
       "      <td>1621.0</td>\n",
       "      <td>728.639407</td>\n",
       "      <td>48.905528</td>\n",
       "      <td>610.291000</td>\n",
       "      <td>693.059000</td>\n",
       "      <td>721.543000</td>\n",
       "      <td>755.940000</td>\n",
       "      <td>933.372000</td>\n",
       "    </tr>\n",
       "    <tr>\n",
       "      <th>MajorAxisLength</th>\n",
       "      <td>1621.0</td>\n",
       "      <td>251.701676</td>\n",
       "      <td>20.220738</td>\n",
       "      <td>200.524796</td>\n",
       "      <td>237.386827</td>\n",
       "      <td>249.177437</td>\n",
       "      <td>263.351276</td>\n",
       "      <td>339.931533</td>\n",
       "    </tr>\n",
       "    <tr>\n",
       "      <th>MinorAxisLength</th>\n",
       "      <td>1621.0</td>\n",
       "      <td>201.998695</td>\n",
       "      <td>11.098162</td>\n",
       "      <td>171.210559</td>\n",
       "      <td>194.084494</td>\n",
       "      <td>200.353567</td>\n",
       "      <td>208.769629</td>\n",
       "      <td>252.287649</td>\n",
       "    </tr>\n",
       "    <tr>\n",
       "      <th>AspectRation</th>\n",
       "      <td>1621.0</td>\n",
       "      <td>1.246667</td>\n",
       "      <td>0.082991</td>\n",
       "      <td>1.024868</td>\n",
       "      <td>1.192692</td>\n",
       "      <td>1.237435</td>\n",
       "      <td>1.289020</td>\n",
       "      <td>1.679979</td>\n",
       "    </tr>\n",
       "    <tr>\n",
       "      <th>Eccentricity</th>\n",
       "      <td>1621.0</td>\n",
       "      <td>0.585945</td>\n",
       "      <td>0.071724</td>\n",
       "      <td>0.218951</td>\n",
       "      <td>0.544995</td>\n",
       "      <td>0.589013</td>\n",
       "      <td>0.630999</td>\n",
       "      <td>0.803544</td>\n",
       "    </tr>\n",
       "    <tr>\n",
       "      <th>ConvexArea</th>\n",
       "      <td>1621.0</td>\n",
       "      <td>40356.480568</td>\n",
       "      <td>4903.014571</td>\n",
       "      <td>28715.000000</td>\n",
       "      <td>36825.000000</td>\n",
       "      <td>39567.000000</td>\n",
       "      <td>43131.000000</td>\n",
       "      <td>61640.000000</td>\n",
       "    </tr>\n",
       "    <tr>\n",
       "      <th>EquivDiameter</th>\n",
       "      <td>1621.0</td>\n",
       "      <td>225.177160</td>\n",
       "      <td>13.483130</td>\n",
       "      <td>190.141097</td>\n",
       "      <td>215.467245</td>\n",
       "      <td>223.413376</td>\n",
       "      <td>233.301773</td>\n",
       "      <td>279.031536</td>\n",
       "    </tr>\n",
       "    <tr>\n",
       "      <th>Extent</th>\n",
       "      <td>1621.0</td>\n",
       "      <td>0.771686</td>\n",
       "      <td>0.018906</td>\n",
       "      <td>0.671871</td>\n",
       "      <td>0.760201</td>\n",
       "      <td>0.774296</td>\n",
       "      <td>0.784746</td>\n",
       "      <td>0.826104</td>\n",
       "    </tr>\n",
       "    <tr>\n",
       "      <th>Solidity</th>\n",
       "      <td>1621.0</td>\n",
       "      <td>0.990323</td>\n",
       "      <td>0.003178</td>\n",
       "      <td>0.919246</td>\n",
       "      <td>0.989501</td>\n",
       "      <td>0.990950</td>\n",
       "      <td>0.991960</td>\n",
       "      <td>0.994082</td>\n",
       "    </tr>\n",
       "    <tr>\n",
       "      <th>roundness</th>\n",
       "      <td>1621.0</td>\n",
       "      <td>0.944050</td>\n",
       "      <td>0.033471</td>\n",
       "      <td>0.595048</td>\n",
       "      <td>0.935641</td>\n",
       "      <td>0.951588</td>\n",
       "      <td>0.962699</td>\n",
       "      <td>0.990685</td>\n",
       "    </tr>\n",
       "    <tr>\n",
       "      <th>Compactness</th>\n",
       "      <td>1621.0</td>\n",
       "      <td>0.896320</td>\n",
       "      <td>0.028938</td>\n",
       "      <td>0.770126</td>\n",
       "      <td>0.879948</td>\n",
       "      <td>0.898221</td>\n",
       "      <td>0.914875</td>\n",
       "      <td>0.987303</td>\n",
       "    </tr>\n",
       "    <tr>\n",
       "      <th>ShapeFactor1</th>\n",
       "      <td>1621.0</td>\n",
       "      <td>0.006332</td>\n",
       "      <td>0.000338</td>\n",
       "      <td>0.005056</td>\n",
       "      <td>0.006110</td>\n",
       "      <td>0.006365</td>\n",
       "      <td>0.006571</td>\n",
       "      <td>0.007474</td>\n",
       "    </tr>\n",
       "    <tr>\n",
       "      <th>ShapeFactor2</th>\n",
       "      <td>1621.0</td>\n",
       "      <td>0.002534</td>\n",
       "      <td>0.000328</td>\n",
       "      <td>0.001405</td>\n",
       "      <td>0.002330</td>\n",
       "      <td>0.002536</td>\n",
       "      <td>0.002741</td>\n",
       "      <td>0.003665</td>\n",
       "    </tr>\n",
       "    <tr>\n",
       "      <th>ShapeFactor3</th>\n",
       "      <td>1621.0</td>\n",
       "      <td>0.804226</td>\n",
       "      <td>0.051475</td>\n",
       "      <td>0.593094</td>\n",
       "      <td>0.774309</td>\n",
       "      <td>0.806801</td>\n",
       "      <td>0.836996</td>\n",
       "      <td>0.974767</td>\n",
       "    </tr>\n",
       "    <tr>\n",
       "      <th>ShapeFactor4</th>\n",
       "      <td>1621.0</td>\n",
       "      <td>0.998362</td>\n",
       "      <td>0.001622</td>\n",
       "      <td>0.947687</td>\n",
       "      <td>0.998069</td>\n",
       "      <td>0.998633</td>\n",
       "      <td>0.999018</td>\n",
       "      <td>0.999733</td>\n",
       "    </tr>\n",
       "  </tbody>\n",
       "</table>\n",
       "</div>"
      ],
      "text/plain": [
       "                  count          mean          std           min  \\\n",
       "Area             1621.0  39966.113510  4856.696876  28395.000000   \n",
       "Perimeter        1621.0    728.639407    48.905528    610.291000   \n",
       "MajorAxisLength  1621.0    251.701676    20.220738    200.524796   \n",
       "MinorAxisLength  1621.0    201.998695    11.098162    171.210559   \n",
       "AspectRation     1621.0      1.246667     0.082991      1.024868   \n",
       "Eccentricity     1621.0      0.585945     0.071724      0.218951   \n",
       "ConvexArea       1621.0  40356.480568  4903.014571  28715.000000   \n",
       "EquivDiameter    1621.0    225.177160    13.483130    190.141097   \n",
       "Extent           1621.0      0.771686     0.018906      0.671871   \n",
       "Solidity         1621.0      0.990323     0.003178      0.919246   \n",
       "roundness        1621.0      0.944050     0.033471      0.595048   \n",
       "Compactness      1621.0      0.896320     0.028938      0.770126   \n",
       "ShapeFactor1     1621.0      0.006332     0.000338      0.005056   \n",
       "ShapeFactor2     1621.0      0.002534     0.000328      0.001405   \n",
       "ShapeFactor3     1621.0      0.804226     0.051475      0.593094   \n",
       "ShapeFactor4     1621.0      0.998362     0.001622      0.947687   \n",
       "\n",
       "                          25%           50%           75%           max  \n",
       "Area             36463.000000  39202.000000  42749.000000  61150.000000  \n",
       "Perimeter          693.059000    721.543000    755.940000    933.372000  \n",
       "MajorAxisLength    237.386827    249.177437    263.351276    339.931533  \n",
       "MinorAxisLength    194.084494    200.353567    208.769629    252.287649  \n",
       "AspectRation         1.192692      1.237435      1.289020      1.679979  \n",
       "Eccentricity         0.544995      0.589013      0.630999      0.803544  \n",
       "ConvexArea       36825.000000  39567.000000  43131.000000  61640.000000  \n",
       "EquivDiameter      215.467245    223.413376    233.301773    279.031536  \n",
       "Extent               0.760201      0.774296      0.784746      0.826104  \n",
       "Solidity             0.989501      0.990950      0.991960      0.994082  \n",
       "roundness            0.935641      0.951588      0.962699      0.990685  \n",
       "Compactness          0.879948      0.898221      0.914875      0.987303  \n",
       "ShapeFactor1         0.006110      0.006365      0.006571      0.007474  \n",
       "ShapeFactor2         0.002330      0.002536      0.002741      0.003665  \n",
       "ShapeFactor3         0.774309      0.806801      0.836996      0.974767  \n",
       "ShapeFactor4         0.998069      0.998633      0.999018      0.999733  "
      ]
     },
     "metadata": {},
     "output_type": "display_data"
    },
    {
     "name": "stdout",
     "output_type": "stream",
     "text": [
      "['DERMASON']\n"
     ]
    },
    {
     "data": {
      "text/html": [
       "<div>\n",
       "<style scoped>\n",
       "    .dataframe tbody tr th:only-of-type {\n",
       "        vertical-align: middle;\n",
       "    }\n",
       "\n",
       "    .dataframe tbody tr th {\n",
       "        vertical-align: top;\n",
       "    }\n",
       "\n",
       "    .dataframe thead th {\n",
       "        text-align: right;\n",
       "    }\n",
       "</style>\n",
       "<table border=\"1\" class=\"dataframe\">\n",
       "  <thead>\n",
       "    <tr style=\"text-align: right;\">\n",
       "      <th></th>\n",
       "      <th>count</th>\n",
       "      <th>mean</th>\n",
       "      <th>std</th>\n",
       "      <th>min</th>\n",
       "      <th>25%</th>\n",
       "      <th>50%</th>\n",
       "      <th>75%</th>\n",
       "      <th>max</th>\n",
       "    </tr>\n",
       "  </thead>\n",
       "  <tbody>\n",
       "    <tr>\n",
       "      <th>Area</th>\n",
       "      <td>2837.0</td>\n",
       "      <td>32197.808601</td>\n",
       "      <td>4676.539286</td>\n",
       "      <td>20420.000000</td>\n",
       "      <td>28654.000000</td>\n",
       "      <td>31966.000000</td>\n",
       "      <td>35660.000000</td>\n",
       "      <td>42159.000000</td>\n",
       "    </tr>\n",
       "    <tr>\n",
       "      <th>Perimeter</th>\n",
       "      <td>2837.0</td>\n",
       "      <td>666.160614</td>\n",
       "      <td>50.495187</td>\n",
       "      <td>524.932000</td>\n",
       "      <td>629.561000</td>\n",
       "      <td>665.248000</td>\n",
       "      <td>703.664000</td>\n",
       "      <td>908.265000</td>\n",
       "    </tr>\n",
       "    <tr>\n",
       "      <th>MajorAxisLength</th>\n",
       "      <td>2837.0</td>\n",
       "      <td>246.902856</td>\n",
       "      <td>20.688208</td>\n",
       "      <td>183.601165</td>\n",
       "      <td>231.927096</td>\n",
       "      <td>246.658741</td>\n",
       "      <td>261.565812</td>\n",
       "      <td>308.262336</td>\n",
       "    </tr>\n",
       "    <tr>\n",
       "      <th>MinorAxisLength</th>\n",
       "      <td>2837.0</td>\n",
       "      <td>165.832284</td>\n",
       "      <td>12.513679</td>\n",
       "      <td>129.576207</td>\n",
       "      <td>156.778177</td>\n",
       "      <td>165.938045</td>\n",
       "      <td>175.298702</td>\n",
       "      <td>199.153179</td>\n",
       "    </tr>\n",
       "    <tr>\n",
       "      <th>AspectRation</th>\n",
       "      <td>2837.0</td>\n",
       "      <td>1.490935</td>\n",
       "      <td>0.096173</td>\n",
       "      <td>1.190922</td>\n",
       "      <td>1.426308</td>\n",
       "      <td>1.484028</td>\n",
       "      <td>1.551294</td>\n",
       "      <td>1.965673</td>\n",
       "    </tr>\n",
       "    <tr>\n",
       "      <th>Eccentricity</th>\n",
       "      <td>2837.0</td>\n",
       "      <td>0.736859</td>\n",
       "      <td>0.040038</td>\n",
       "      <td>0.543073</td>\n",
       "      <td>0.713052</td>\n",
       "      <td>0.738876</td>\n",
       "      <td>0.764500</td>\n",
       "      <td>0.860925</td>\n",
       "    </tr>\n",
       "    <tr>\n",
       "      <th>ConvexArea</th>\n",
       "      <td>2837.0</td>\n",
       "      <td>32578.775467</td>\n",
       "      <td>4711.345487</td>\n",
       "      <td>20684.000000</td>\n",
       "      <td>29030.000000</td>\n",
       "      <td>32346.000000</td>\n",
       "      <td>36056.000000</td>\n",
       "      <td>42667.000000</td>\n",
       "    </tr>\n",
       "    <tr>\n",
       "      <th>EquivDiameter</th>\n",
       "      <td>2837.0</td>\n",
       "      <td>201.934210</td>\n",
       "      <td>14.770748</td>\n",
       "      <td>161.243764</td>\n",
       "      <td>191.006298</td>\n",
       "      <td>201.743340</td>\n",
       "      <td>213.081492</td>\n",
       "      <td>231.686223</td>\n",
       "    </tr>\n",
       "    <tr>\n",
       "      <th>Extent</th>\n",
       "      <td>2837.0</td>\n",
       "      <td>0.752885</td>\n",
       "      <td>0.037449</td>\n",
       "      <td>0.652881</td>\n",
       "      <td>0.721655</td>\n",
       "      <td>0.754358</td>\n",
       "      <td>0.785047</td>\n",
       "      <td>0.852841</td>\n",
       "    </tr>\n",
       "    <tr>\n",
       "      <th>Solidity</th>\n",
       "      <td>2837.0</td>\n",
       "      <td>0.988218</td>\n",
       "      <td>0.003000</td>\n",
       "      <td>0.946634</td>\n",
       "      <td>0.987325</td>\n",
       "      <td>0.988727</td>\n",
       "      <td>0.989862</td>\n",
       "      <td>0.993629</td>\n",
       "    </tr>\n",
       "    <tr>\n",
       "      <th>roundness</th>\n",
       "      <td>2837.0</td>\n",
       "      <td>0.907802</td>\n",
       "      <td>0.029867</td>\n",
       "      <td>0.489618</td>\n",
       "      <td>0.897034</td>\n",
       "      <td>0.912241</td>\n",
       "      <td>0.924760</td>\n",
       "      <td>0.964450</td>\n",
       "    </tr>\n",
       "    <tr>\n",
       "      <th>Compactness</th>\n",
       "      <td>2837.0</td>\n",
       "      <td>0.818983</td>\n",
       "      <td>0.026283</td>\n",
       "      <td>0.711975</td>\n",
       "      <td>0.801688</td>\n",
       "      <td>0.819599</td>\n",
       "      <td>0.836137</td>\n",
       "      <td>0.915760</td>\n",
       "    </tr>\n",
       "    <tr>\n",
       "      <th>ShapeFactor1</th>\n",
       "      <td>2837.0</td>\n",
       "      <td>0.007746</td>\n",
       "      <td>0.000595</td>\n",
       "      <td>0.006411</td>\n",
       "      <td>0.007286</td>\n",
       "      <td>0.007696</td>\n",
       "      <td>0.008147</td>\n",
       "      <td>0.009897</td>\n",
       "    </tr>\n",
       "    <tr>\n",
       "      <th>ShapeFactor2</th>\n",
       "      <td>2837.0</td>\n",
       "      <td>0.002157</td>\n",
       "      <td>0.000283</td>\n",
       "      <td>0.001383</td>\n",
       "      <td>0.001962</td>\n",
       "      <td>0.002129</td>\n",
       "      <td>0.002332</td>\n",
       "      <td>0.003470</td>\n",
       "    </tr>\n",
       "    <tr>\n",
       "      <th>ShapeFactor3</th>\n",
       "      <td>2837.0</td>\n",
       "      <td>0.671424</td>\n",
       "      <td>0.043040</td>\n",
       "      <td>0.506909</td>\n",
       "      <td>0.642703</td>\n",
       "      <td>0.671742</td>\n",
       "      <td>0.699124</td>\n",
       "      <td>0.838616</td>\n",
       "    </tr>\n",
       "    <tr>\n",
       "      <th>ShapeFactor4</th>\n",
       "      <td>2837.0</td>\n",
       "      <td>0.996933</td>\n",
       "      <td>0.001914</td>\n",
       "      <td>0.976325</td>\n",
       "      <td>0.996283</td>\n",
       "      <td>0.997376</td>\n",
       "      <td>0.998135</td>\n",
       "      <td>0.999709</td>\n",
       "    </tr>\n",
       "  </tbody>\n",
       "</table>\n",
       "</div>"
      ],
      "text/plain": [
       "                  count          mean          std           min  \\\n",
       "Area             2837.0  32197.808601  4676.539286  20420.000000   \n",
       "Perimeter        2837.0    666.160614    50.495187    524.932000   \n",
       "MajorAxisLength  2837.0    246.902856    20.688208    183.601165   \n",
       "MinorAxisLength  2837.0    165.832284    12.513679    129.576207   \n",
       "AspectRation     2837.0      1.490935     0.096173      1.190922   \n",
       "Eccentricity     2837.0      0.736859     0.040038      0.543073   \n",
       "ConvexArea       2837.0  32578.775467  4711.345487  20684.000000   \n",
       "EquivDiameter    2837.0    201.934210    14.770748    161.243764   \n",
       "Extent           2837.0      0.752885     0.037449      0.652881   \n",
       "Solidity         2837.0      0.988218     0.003000      0.946634   \n",
       "roundness        2837.0      0.907802     0.029867      0.489618   \n",
       "Compactness      2837.0      0.818983     0.026283      0.711975   \n",
       "ShapeFactor1     2837.0      0.007746     0.000595      0.006411   \n",
       "ShapeFactor2     2837.0      0.002157     0.000283      0.001383   \n",
       "ShapeFactor3     2837.0      0.671424     0.043040      0.506909   \n",
       "ShapeFactor4     2837.0      0.996933     0.001914      0.976325   \n",
       "\n",
       "                          25%           50%           75%           max  \n",
       "Area             28654.000000  31966.000000  35660.000000  42159.000000  \n",
       "Perimeter          629.561000    665.248000    703.664000    908.265000  \n",
       "MajorAxisLength    231.927096    246.658741    261.565812    308.262336  \n",
       "MinorAxisLength    156.778177    165.938045    175.298702    199.153179  \n",
       "AspectRation         1.426308      1.484028      1.551294      1.965673  \n",
       "Eccentricity         0.713052      0.738876      0.764500      0.860925  \n",
       "ConvexArea       29030.000000  32346.000000  36056.000000  42667.000000  \n",
       "EquivDiameter      191.006298    201.743340    213.081492    231.686223  \n",
       "Extent               0.721655      0.754358      0.785047      0.852841  \n",
       "Solidity             0.987325      0.988727      0.989862      0.993629  \n",
       "roundness            0.897034      0.912241      0.924760      0.964450  \n",
       "Compactness          0.801688      0.819599      0.836137      0.915760  \n",
       "ShapeFactor1         0.007286      0.007696      0.008147      0.009897  \n",
       "ShapeFactor2         0.001962      0.002129      0.002332      0.003470  \n",
       "ShapeFactor3         0.642703      0.671742      0.699124      0.838616  \n",
       "ShapeFactor4         0.996283      0.997376      0.998135      0.999709  "
      ]
     },
     "metadata": {},
     "output_type": "display_data"
    },
    {
     "name": "stdout",
     "output_type": "stream",
     "text": [
      "['SIRA']\n"
     ]
    },
    {
     "data": {
      "text/html": [
       "<div>\n",
       "<style scoped>\n",
       "    .dataframe tbody tr th:only-of-type {\n",
       "        vertical-align: middle;\n",
       "    }\n",
       "\n",
       "    .dataframe tbody tr th {\n",
       "        vertical-align: top;\n",
       "    }\n",
       "\n",
       "    .dataframe thead th {\n",
       "        text-align: right;\n",
       "    }\n",
       "</style>\n",
       "<table border=\"1\" class=\"dataframe\">\n",
       "  <thead>\n",
       "    <tr style=\"text-align: right;\">\n",
       "      <th></th>\n",
       "      <th>count</th>\n",
       "      <th>mean</th>\n",
       "      <th>std</th>\n",
       "      <th>min</th>\n",
       "      <th>25%</th>\n",
       "      <th>50%</th>\n",
       "      <th>75%</th>\n",
       "      <th>max</th>\n",
       "    </tr>\n",
       "  </thead>\n",
       "  <tbody>\n",
       "    <tr>\n",
       "      <th>Area</th>\n",
       "      <td>2109.0</td>\n",
       "      <td>44712.792793</td>\n",
       "      <td>4565.500512</td>\n",
       "      <td>31519.000000</td>\n",
       "      <td>41565.000000</td>\n",
       "      <td>44591.000000</td>\n",
       "      <td>47767.000000</td>\n",
       "      <td>63612.000000</td>\n",
       "    </tr>\n",
       "    <tr>\n",
       "      <th>Perimeter</th>\n",
       "      <td>2109.0</td>\n",
       "      <td>796.230031</td>\n",
       "      <td>44.572266</td>\n",
       "      <td>668.106000</td>\n",
       "      <td>765.979000</td>\n",
       "      <td>794.368000</td>\n",
       "      <td>825.869000</td>\n",
       "      <td>984.282000</td>\n",
       "    </tr>\n",
       "    <tr>\n",
       "      <th>MajorAxisLength</th>\n",
       "      <td>2109.0</td>\n",
       "      <td>299.294500</td>\n",
       "      <td>20.757204</td>\n",
       "      <td>233.804968</td>\n",
       "      <td>285.037774</td>\n",
       "      <td>298.193007</td>\n",
       "      <td>313.146018</td>\n",
       "      <td>400.931467</td>\n",
       "    </tr>\n",
       "    <tr>\n",
       "      <th>MinorAxisLength</th>\n",
       "      <td>2109.0</td>\n",
       "      <td>190.774824</td>\n",
       "      <td>9.196401</td>\n",
       "      <td>157.802740</td>\n",
       "      <td>184.918962</td>\n",
       "      <td>191.002940</td>\n",
       "      <td>197.036412</td>\n",
       "      <td>224.729309</td>\n",
       "    </tr>\n",
       "    <tr>\n",
       "      <th>AspectRation</th>\n",
       "      <td>2109.0</td>\n",
       "      <td>1.569822</td>\n",
       "      <td>0.095906</td>\n",
       "      <td>1.259251</td>\n",
       "      <td>1.504058</td>\n",
       "      <td>1.561117</td>\n",
       "      <td>1.628937</td>\n",
       "      <td>2.006989</td>\n",
       "    </tr>\n",
       "    <tr>\n",
       "      <th>Eccentricity</th>\n",
       "      <td>2109.0</td>\n",
       "      <td>0.767235</td>\n",
       "      <td>0.032584</td>\n",
       "      <td>0.607757</td>\n",
       "      <td>0.746961</td>\n",
       "      <td>0.767902</td>\n",
       "      <td>0.789386</td>\n",
       "      <td>0.867028</td>\n",
       "    </tr>\n",
       "    <tr>\n",
       "      <th>ConvexArea</th>\n",
       "      <td>2109.0</td>\n",
       "      <td>45256.706022</td>\n",
       "      <td>4615.799961</td>\n",
       "      <td>32065.000000</td>\n",
       "      <td>42093.000000</td>\n",
       "      <td>45122.000000</td>\n",
       "      <td>48361.000000</td>\n",
       "      <td>64581.000000</td>\n",
       "    </tr>\n",
       "    <tr>\n",
       "      <th>EquivDiameter</th>\n",
       "      <td>2109.0</td>\n",
       "      <td>238.289177</td>\n",
       "      <td>12.183371</td>\n",
       "      <td>200.327824</td>\n",
       "      <td>230.048259</td>\n",
       "      <td>238.275103</td>\n",
       "      <td>246.614747</td>\n",
       "      <td>284.593243</td>\n",
       "    </tr>\n",
       "    <tr>\n",
       "      <th>Extent</th>\n",
       "      <td>2109.0</td>\n",
       "      <td>0.749626</td>\n",
       "      <td>0.044413</td>\n",
       "      <td>0.627527</td>\n",
       "      <td>0.711219</td>\n",
       "      <td>0.752663</td>\n",
       "      <td>0.789365</td>\n",
       "      <td>0.835327</td>\n",
       "    </tr>\n",
       "    <tr>\n",
       "      <th>Solidity</th>\n",
       "      <td>2109.0</td>\n",
       "      <td>0.987971</td>\n",
       "      <td>0.002798</td>\n",
       "      <td>0.969256</td>\n",
       "      <td>0.986883</td>\n",
       "      <td>0.988548</td>\n",
       "      <td>0.989778</td>\n",
       "      <td>0.992717</td>\n",
       "    </tr>\n",
       "    <tr>\n",
       "      <th>roundness</th>\n",
       "      <td>2109.0</td>\n",
       "      <td>0.884742</td>\n",
       "      <td>0.023977</td>\n",
       "      <td>0.677837</td>\n",
       "      <td>0.871914</td>\n",
       "      <td>0.886866</td>\n",
       "      <td>0.900021</td>\n",
       "      <td>0.954104</td>\n",
       "    </tr>\n",
       "    <tr>\n",
       "      <th>Compactness</th>\n",
       "      <td>2109.0</td>\n",
       "      <td>0.797405</td>\n",
       "      <td>0.024361</td>\n",
       "      <td>0.704454</td>\n",
       "      <td>0.781593</td>\n",
       "      <td>0.798559</td>\n",
       "      <td>0.813679</td>\n",
       "      <td>0.889525</td>\n",
       "    </tr>\n",
       "    <tr>\n",
       "      <th>ShapeFactor1</th>\n",
       "      <td>2109.0</td>\n",
       "      <td>0.006721</td>\n",
       "      <td>0.000328</td>\n",
       "      <td>0.005686</td>\n",
       "      <td>0.006494</td>\n",
       "      <td>0.006693</td>\n",
       "      <td>0.006913</td>\n",
       "      <td>0.008093</td>\n",
       "    </tr>\n",
       "    <tr>\n",
       "      <th>ShapeFactor2</th>\n",
       "      <td>2109.0</td>\n",
       "      <td>0.001683</td>\n",
       "      <td>0.000204</td>\n",
       "      <td>0.000987</td>\n",
       "      <td>0.001542</td>\n",
       "      <td>0.001677</td>\n",
       "      <td>0.001815</td>\n",
       "      <td>0.002571</td>\n",
       "    </tr>\n",
       "    <tr>\n",
       "      <th>ShapeFactor3</th>\n",
       "      <td>2109.0</td>\n",
       "      <td>0.636447</td>\n",
       "      <td>0.038820</td>\n",
       "      <td>0.496256</td>\n",
       "      <td>0.610887</td>\n",
       "      <td>0.637696</td>\n",
       "      <td>0.662074</td>\n",
       "      <td>0.791255</td>\n",
       "    </tr>\n",
       "    <tr>\n",
       "      <th>ShapeFactor4</th>\n",
       "      <td>2109.0</td>\n",
       "      <td>0.995405</td>\n",
       "      <td>0.002690</td>\n",
       "      <td>0.971228</td>\n",
       "      <td>0.994269</td>\n",
       "      <td>0.996024</td>\n",
       "      <td>0.997197</td>\n",
       "      <td>0.999515</td>\n",
       "    </tr>\n",
       "  </tbody>\n",
       "</table>\n",
       "</div>"
      ],
      "text/plain": [
       "                  count          mean          std           min  \\\n",
       "Area             2109.0  44712.792793  4565.500512  31519.000000   \n",
       "Perimeter        2109.0    796.230031    44.572266    668.106000   \n",
       "MajorAxisLength  2109.0    299.294500    20.757204    233.804968   \n",
       "MinorAxisLength  2109.0    190.774824     9.196401    157.802740   \n",
       "AspectRation     2109.0      1.569822     0.095906      1.259251   \n",
       "Eccentricity     2109.0      0.767235     0.032584      0.607757   \n",
       "ConvexArea       2109.0  45256.706022  4615.799961  32065.000000   \n",
       "EquivDiameter    2109.0    238.289177    12.183371    200.327824   \n",
       "Extent           2109.0      0.749626     0.044413      0.627527   \n",
       "Solidity         2109.0      0.987971     0.002798      0.969256   \n",
       "roundness        2109.0      0.884742     0.023977      0.677837   \n",
       "Compactness      2109.0      0.797405     0.024361      0.704454   \n",
       "ShapeFactor1     2109.0      0.006721     0.000328      0.005686   \n",
       "ShapeFactor2     2109.0      0.001683     0.000204      0.000987   \n",
       "ShapeFactor3     2109.0      0.636447     0.038820      0.496256   \n",
       "ShapeFactor4     2109.0      0.995405     0.002690      0.971228   \n",
       "\n",
       "                          25%           50%           75%           max  \n",
       "Area             41565.000000  44591.000000  47767.000000  63612.000000  \n",
       "Perimeter          765.979000    794.368000    825.869000    984.282000  \n",
       "MajorAxisLength    285.037774    298.193007    313.146018    400.931467  \n",
       "MinorAxisLength    184.918962    191.002940    197.036412    224.729309  \n",
       "AspectRation         1.504058      1.561117      1.628937      2.006989  \n",
       "Eccentricity         0.746961      0.767902      0.789386      0.867028  \n",
       "ConvexArea       42093.000000  45122.000000  48361.000000  64581.000000  \n",
       "EquivDiameter      230.048259    238.275103    246.614747    284.593243  \n",
       "Extent               0.711219      0.752663      0.789365      0.835327  \n",
       "Solidity             0.986883      0.988548      0.989778      0.992717  \n",
       "roundness            0.871914      0.886866      0.900021      0.954104  \n",
       "Compactness          0.781593      0.798559      0.813679      0.889525  \n",
       "ShapeFactor1         0.006494      0.006693      0.006913      0.008093  \n",
       "ShapeFactor2         0.001542      0.001677      0.001815      0.002571  \n",
       "ShapeFactor3         0.610887      0.637696      0.662074      0.791255  \n",
       "ShapeFactor4         0.994269      0.996024      0.997197      0.999515  "
      ]
     },
     "metadata": {},
     "output_type": "display_data"
    },
    {
     "name": "stdout",
     "output_type": "stream",
     "text": [
      "['BARBUNYA']\n"
     ]
    },
    {
     "data": {
      "text/html": [
       "<div>\n",
       "<style scoped>\n",
       "    .dataframe tbody tr th:only-of-type {\n",
       "        vertical-align: middle;\n",
       "    }\n",
       "\n",
       "    .dataframe tbody tr th {\n",
       "        vertical-align: top;\n",
       "    }\n",
       "\n",
       "    .dataframe thead th {\n",
       "        text-align: right;\n",
       "    }\n",
       "</style>\n",
       "<table border=\"1\" class=\"dataframe\">\n",
       "  <thead>\n",
       "    <tr style=\"text-align: right;\">\n",
       "      <th></th>\n",
       "      <th>count</th>\n",
       "      <th>mean</th>\n",
       "      <th>std</th>\n",
       "      <th>min</th>\n",
       "      <th>25%</th>\n",
       "      <th>50%</th>\n",
       "      <th>75%</th>\n",
       "      <th>max</th>\n",
       "    </tr>\n",
       "  </thead>\n",
       "  <tbody>\n",
       "    <tr>\n",
       "      <th>Area</th>\n",
       "      <td>1057.0</td>\n",
       "      <td>69673.259224</td>\n",
       "      <td>10236.328007</td>\n",
       "      <td>41488.000000</td>\n",
       "      <td>62831.000000</td>\n",
       "      <td>69509.000000</td>\n",
       "      <td>76098.000000</td>\n",
       "      <td>105542.000000</td>\n",
       "    </tr>\n",
       "    <tr>\n",
       "      <th>Perimeter</th>\n",
       "      <td>1057.0</td>\n",
       "      <td>1044.961395</td>\n",
       "      <td>89.748831</td>\n",
       "      <td>759.552000</td>\n",
       "      <td>988.076000</td>\n",
       "      <td>1043.643000</td>\n",
       "      <td>1101.834000</td>\n",
       "      <td>1338.893000</td>\n",
       "    </tr>\n",
       "    <tr>\n",
       "      <th>MajorAxisLength</th>\n",
       "      <td>1057.0</td>\n",
       "      <td>369.943828</td>\n",
       "      <td>32.397344</td>\n",
       "      <td>266.700396</td>\n",
       "      <td>348.145910</td>\n",
       "      <td>369.458839</td>\n",
       "      <td>392.550268</td>\n",
       "      <td>483.691256</td>\n",
       "    </tr>\n",
       "    <tr>\n",
       "      <th>MinorAxisLength</th>\n",
       "      <td>1057.0</td>\n",
       "      <td>239.931629</td>\n",
       "      <td>19.566263</td>\n",
       "      <td>185.657600</td>\n",
       "      <td>226.706349</td>\n",
       "      <td>239.516479</td>\n",
       "      <td>252.656933</td>\n",
       "      <td>295.713214</td>\n",
       "    </tr>\n",
       "    <tr>\n",
       "      <th>AspectRation</th>\n",
       "      <td>1057.0</td>\n",
       "      <td>1.546140</td>\n",
       "      <td>0.124621</td>\n",
       "      <td>1.135792</td>\n",
       "      <td>1.466019</td>\n",
       "      <td>1.549647</td>\n",
       "      <td>1.630251</td>\n",
       "      <td>1.950371</td>\n",
       "    </tr>\n",
       "    <tr>\n",
       "      <th>Eccentricity</th>\n",
       "      <td>1057.0</td>\n",
       "      <td>0.755427</td>\n",
       "      <td>0.049874</td>\n",
       "      <td>0.474152</td>\n",
       "      <td>0.731241</td>\n",
       "      <td>0.763922</td>\n",
       "      <td>0.789770</td>\n",
       "      <td>0.858554</td>\n",
       "    </tr>\n",
       "    <tr>\n",
       "      <th>ConvexArea</th>\n",
       "      <td>1057.0</td>\n",
       "      <td>70896.676443</td>\n",
       "      <td>10421.020741</td>\n",
       "      <td>42005.000000</td>\n",
       "      <td>63945.000000</td>\n",
       "      <td>70724.000000</td>\n",
       "      <td>77435.000000</td>\n",
       "      <td>107112.000000</td>\n",
       "    </tr>\n",
       "    <tr>\n",
       "      <th>EquivDiameter</th>\n",
       "      <td>1057.0</td>\n",
       "      <td>297.034177</td>\n",
       "      <td>21.952277</td>\n",
       "      <td>229.835076</td>\n",
       "      <td>282.840792</td>\n",
       "      <td>297.492197</td>\n",
       "      <td>311.273164</td>\n",
       "      <td>366.579116</td>\n",
       "    </tr>\n",
       "    <tr>\n",
       "      <th>Extent</th>\n",
       "      <td>1057.0</td>\n",
       "      <td>0.749779</td>\n",
       "      <td>0.040514</td>\n",
       "      <td>0.639787</td>\n",
       "      <td>0.716571</td>\n",
       "      <td>0.751011</td>\n",
       "      <td>0.783168</td>\n",
       "      <td>0.840577</td>\n",
       "    </tr>\n",
       "    <tr>\n",
       "      <th>Solidity</th>\n",
       "      <td>1057.0</td>\n",
       "      <td>0.982758</td>\n",
       "      <td>0.004056</td>\n",
       "      <td>0.961840</td>\n",
       "      <td>0.980607</td>\n",
       "      <td>0.983035</td>\n",
       "      <td>0.985427</td>\n",
       "      <td>0.992549</td>\n",
       "    </tr>\n",
       "    <tr>\n",
       "      <th>roundness</th>\n",
       "      <td>1057.0</td>\n",
       "      <td>0.800488</td>\n",
       "      <td>0.048406</td>\n",
       "      <td>0.593708</td>\n",
       "      <td>0.773131</td>\n",
       "      <td>0.802919</td>\n",
       "      <td>0.835331</td>\n",
       "      <td>0.931959</td>\n",
       "    </tr>\n",
       "    <tr>\n",
       "      <th>Compactness</th>\n",
       "      <td>1057.0</td>\n",
       "      <td>0.804484</td>\n",
       "      <td>0.033147</td>\n",
       "      <td>0.714494</td>\n",
       "      <td>0.781819</td>\n",
       "      <td>0.801701</td>\n",
       "      <td>0.824284</td>\n",
       "      <td>0.937007</td>\n",
       "    </tr>\n",
       "    <tr>\n",
       "      <th>ShapeFactor1</th>\n",
       "      <td>1057.0</td>\n",
       "      <td>0.005365</td>\n",
       "      <td>0.000441</td>\n",
       "      <td>0.004328</td>\n",
       "      <td>0.005062</td>\n",
       "      <td>0.005338</td>\n",
       "      <td>0.005635</td>\n",
       "      <td>0.006874</td>\n",
       "    </tr>\n",
       "    <tr>\n",
       "      <th>ShapeFactor2</th>\n",
       "      <td>1057.0</td>\n",
       "      <td>0.001393</td>\n",
       "      <td>0.000214</td>\n",
       "      <td>0.000843</td>\n",
       "      <td>0.001236</td>\n",
       "      <td>0.001365</td>\n",
       "      <td>0.001518</td>\n",
       "      <td>0.002433</td>\n",
       "    </tr>\n",
       "    <tr>\n",
       "      <th>ShapeFactor3</th>\n",
       "      <td>1057.0</td>\n",
       "      <td>0.648292</td>\n",
       "      <td>0.053896</td>\n",
       "      <td>0.510502</td>\n",
       "      <td>0.611241</td>\n",
       "      <td>0.642725</td>\n",
       "      <td>0.679444</td>\n",
       "      <td>0.877981</td>\n",
       "    </tr>\n",
       "    <tr>\n",
       "      <th>ShapeFactor4</th>\n",
       "      <td>1057.0</td>\n",
       "      <td>0.995689</td>\n",
       "      <td>0.002643</td>\n",
       "      <td>0.976512</td>\n",
       "      <td>0.994548</td>\n",
       "      <td>0.996347</td>\n",
       "      <td>0.997457</td>\n",
       "      <td>0.999351</td>\n",
       "    </tr>\n",
       "  </tbody>\n",
       "</table>\n",
       "</div>"
      ],
      "text/plain": [
       "                  count          mean           std           min  \\\n",
       "Area             1057.0  69673.259224  10236.328007  41488.000000   \n",
       "Perimeter        1057.0   1044.961395     89.748831    759.552000   \n",
       "MajorAxisLength  1057.0    369.943828     32.397344    266.700396   \n",
       "MinorAxisLength  1057.0    239.931629     19.566263    185.657600   \n",
       "AspectRation     1057.0      1.546140      0.124621      1.135792   \n",
       "Eccentricity     1057.0      0.755427      0.049874      0.474152   \n",
       "ConvexArea       1057.0  70896.676443  10421.020741  42005.000000   \n",
       "EquivDiameter    1057.0    297.034177     21.952277    229.835076   \n",
       "Extent           1057.0      0.749779      0.040514      0.639787   \n",
       "Solidity         1057.0      0.982758      0.004056      0.961840   \n",
       "roundness        1057.0      0.800488      0.048406      0.593708   \n",
       "Compactness      1057.0      0.804484      0.033147      0.714494   \n",
       "ShapeFactor1     1057.0      0.005365      0.000441      0.004328   \n",
       "ShapeFactor2     1057.0      0.001393      0.000214      0.000843   \n",
       "ShapeFactor3     1057.0      0.648292      0.053896      0.510502   \n",
       "ShapeFactor4     1057.0      0.995689      0.002643      0.976512   \n",
       "\n",
       "                          25%           50%           75%            max  \n",
       "Area             62831.000000  69509.000000  76098.000000  105542.000000  \n",
       "Perimeter          988.076000   1043.643000   1101.834000    1338.893000  \n",
       "MajorAxisLength    348.145910    369.458839    392.550268     483.691256  \n",
       "MinorAxisLength    226.706349    239.516479    252.656933     295.713214  \n",
       "AspectRation         1.466019      1.549647      1.630251       1.950371  \n",
       "Eccentricity         0.731241      0.763922      0.789770       0.858554  \n",
       "ConvexArea       63945.000000  70724.000000  77435.000000  107112.000000  \n",
       "EquivDiameter      282.840792    297.492197    311.273164     366.579116  \n",
       "Extent               0.716571      0.751011      0.783168       0.840577  \n",
       "Solidity             0.980607      0.983035      0.985427       0.992549  \n",
       "roundness            0.773131      0.802919      0.835331       0.931959  \n",
       "Compactness          0.781819      0.801701      0.824284       0.937007  \n",
       "ShapeFactor1         0.005062      0.005338      0.005635       0.006874  \n",
       "ShapeFactor2         0.001236      0.001365      0.001518       0.002433  \n",
       "ShapeFactor3         0.611241      0.642725      0.679444       0.877981  \n",
       "ShapeFactor4         0.994548      0.996347      0.997457       0.999351  "
      ]
     },
     "metadata": {},
     "output_type": "display_data"
    },
    {
     "name": "stdout",
     "output_type": "stream",
     "text": [
      "['CALI']\n"
     ]
    },
    {
     "data": {
      "text/html": [
       "<div>\n",
       "<style scoped>\n",
       "    .dataframe tbody tr th:only-of-type {\n",
       "        vertical-align: middle;\n",
       "    }\n",
       "\n",
       "    .dataframe tbody tr th {\n",
       "        vertical-align: top;\n",
       "    }\n",
       "\n",
       "    .dataframe thead th {\n",
       "        text-align: right;\n",
       "    }\n",
       "</style>\n",
       "<table border=\"1\" class=\"dataframe\">\n",
       "  <thead>\n",
       "    <tr style=\"text-align: right;\">\n",
       "      <th></th>\n",
       "      <th>count</th>\n",
       "      <th>mean</th>\n",
       "      <th>std</th>\n",
       "      <th>min</th>\n",
       "      <th>25%</th>\n",
       "      <th>50%</th>\n",
       "      <th>75%</th>\n",
       "      <th>max</th>\n",
       "    </tr>\n",
       "  </thead>\n",
       "  <tbody>\n",
       "    <tr>\n",
       "      <th>Area</th>\n",
       "      <td>1304.0</td>\n",
       "      <td>75440.769939</td>\n",
       "      <td>9444.316811</td>\n",
       "      <td>45504.000000</td>\n",
       "      <td>69089.250000</td>\n",
       "      <td>74641.500000</td>\n",
       "      <td>81403.000000</td>\n",
       "      <td>116272.000000</td>\n",
       "    </tr>\n",
       "    <tr>\n",
       "      <th>Perimeter</th>\n",
       "      <td>1304.0</td>\n",
       "      <td>1056.743706</td>\n",
       "      <td>68.183166</td>\n",
       "      <td>789.770000</td>\n",
       "      <td>1014.042500</td>\n",
       "      <td>1054.177500</td>\n",
       "      <td>1101.476000</td>\n",
       "      <td>1326.583000</td>\n",
       "    </tr>\n",
       "    <tr>\n",
       "      <th>MajorAxisLength</th>\n",
       "      <td>1304.0</td>\n",
       "      <td>409.101924</td>\n",
       "      <td>29.899404</td>\n",
       "      <td>274.863357</td>\n",
       "      <td>390.318496</td>\n",
       "      <td>408.122242</td>\n",
       "      <td>428.265987</td>\n",
       "      <td>534.484404</td>\n",
       "    </tr>\n",
       "    <tr>\n",
       "      <th>MinorAxisLength</th>\n",
       "      <td>1304.0</td>\n",
       "      <td>236.272249</td>\n",
       "      <td>14.596991</td>\n",
       "      <td>179.834691</td>\n",
       "      <td>226.728431</td>\n",
       "      <td>235.507339</td>\n",
       "      <td>244.986501</td>\n",
       "      <td>291.873017</td>\n",
       "    </tr>\n",
       "    <tr>\n",
       "      <th>AspectRation</th>\n",
       "      <td>1304.0</td>\n",
       "      <td>1.732528</td>\n",
       "      <td>0.091205</td>\n",
       "      <td>1.297228</td>\n",
       "      <td>1.675483</td>\n",
       "      <td>1.732188</td>\n",
       "      <td>1.793295</td>\n",
       "      <td>2.008074</td>\n",
       "    </tr>\n",
       "    <tr>\n",
       "      <th>Eccentricity</th>\n",
       "      <td>1304.0</td>\n",
       "      <td>0.814531</td>\n",
       "      <td>0.023004</td>\n",
       "      <td>0.636987</td>\n",
       "      <td>0.802358</td>\n",
       "      <td>0.816529</td>\n",
       "      <td>0.830088</td>\n",
       "      <td>0.867183</td>\n",
       "    </tr>\n",
       "    <tr>\n",
       "      <th>ConvexArea</th>\n",
       "      <td>1304.0</td>\n",
       "      <td>76588.358896</td>\n",
       "      <td>9583.276139</td>\n",
       "      <td>45972.000000</td>\n",
       "      <td>70214.000000</td>\n",
       "      <td>75742.500000</td>\n",
       "      <td>82594.500000</td>\n",
       "      <td>118144.000000</td>\n",
       "    </tr>\n",
       "    <tr>\n",
       "      <th>EquivDiameter</th>\n",
       "      <td>1304.0</td>\n",
       "      <td>309.325305</td>\n",
       "      <td>19.295410</td>\n",
       "      <td>240.702082</td>\n",
       "      <td>296.592589</td>\n",
       "      <td>308.279921</td>\n",
       "      <td>321.940241</td>\n",
       "      <td>384.762405</td>\n",
       "    </tr>\n",
       "    <tr>\n",
       "      <th>Extent</th>\n",
       "      <td>1304.0</td>\n",
       "      <td>0.759241</td>\n",
       "      <td>0.041885</td>\n",
       "      <td>0.631988</td>\n",
       "      <td>0.734091</td>\n",
       "      <td>0.766648</td>\n",
       "      <td>0.792768</td>\n",
       "      <td>0.850251</td>\n",
       "    </tr>\n",
       "    <tr>\n",
       "      <th>Solidity</th>\n",
       "      <td>1304.0</td>\n",
       "      <td>0.985028</td>\n",
       "      <td>0.005685</td>\n",
       "      <td>0.960667</td>\n",
       "      <td>0.981515</td>\n",
       "      <td>0.986158</td>\n",
       "      <td>0.989448</td>\n",
       "      <td>0.994260</td>\n",
       "    </tr>\n",
       "    <tr>\n",
       "      <th>roundness</th>\n",
       "      <td>1304.0</td>\n",
       "      <td>0.846216</td>\n",
       "      <td>0.023338</td>\n",
       "      <td>0.727194</td>\n",
       "      <td>0.831120</td>\n",
       "      <td>0.846627</td>\n",
       "      <td>0.862021</td>\n",
       "      <td>0.920029</td>\n",
       "    </tr>\n",
       "    <tr>\n",
       "      <th>Compactness</th>\n",
       "      <td>1304.0</td>\n",
       "      <td>0.756959</td>\n",
       "      <td>0.020598</td>\n",
       "      <td>0.701215</td>\n",
       "      <td>0.743059</td>\n",
       "      <td>0.755899</td>\n",
       "      <td>0.769182</td>\n",
       "      <td>0.877273</td>\n",
       "    </tr>\n",
       "    <tr>\n",
       "      <th>ShapeFactor1</th>\n",
       "      <td>1304.0</td>\n",
       "      <td>0.005461</td>\n",
       "      <td>0.000336</td>\n",
       "      <td>0.004399</td>\n",
       "      <td>0.005247</td>\n",
       "      <td>0.005462</td>\n",
       "      <td>0.005667</td>\n",
       "      <td>0.007161</td>\n",
       "    </tr>\n",
       "    <tr>\n",
       "      <th>ShapeFactor2</th>\n",
       "      <td>1304.0</td>\n",
       "      <td>0.001110</td>\n",
       "      <td>0.000132</td>\n",
       "      <td>0.000762</td>\n",
       "      <td>0.001021</td>\n",
       "      <td>0.001093</td>\n",
       "      <td>0.001179</td>\n",
       "      <td>0.002199</td>\n",
       "    </tr>\n",
       "    <tr>\n",
       "      <th>ShapeFactor3</th>\n",
       "      <td>1304.0</td>\n",
       "      <td>0.573411</td>\n",
       "      <td>0.031442</td>\n",
       "      <td>0.491702</td>\n",
       "      <td>0.552137</td>\n",
       "      <td>0.571384</td>\n",
       "      <td>0.591640</td>\n",
       "      <td>0.769608</td>\n",
       "    </tr>\n",
       "    <tr>\n",
       "      <th>ShapeFactor4</th>\n",
       "      <td>1304.0</td>\n",
       "      <td>0.990608</td>\n",
       "      <td>0.004393</td>\n",
       "      <td>0.970210</td>\n",
       "      <td>0.988232</td>\n",
       "      <td>0.991269</td>\n",
       "      <td>0.993781</td>\n",
       "      <td>0.999368</td>\n",
       "    </tr>\n",
       "  </tbody>\n",
       "</table>\n",
       "</div>"
      ],
      "text/plain": [
       "                  count          mean          std           min  \\\n",
       "Area             1304.0  75440.769939  9444.316811  45504.000000   \n",
       "Perimeter        1304.0   1056.743706    68.183166    789.770000   \n",
       "MajorAxisLength  1304.0    409.101924    29.899404    274.863357   \n",
       "MinorAxisLength  1304.0    236.272249    14.596991    179.834691   \n",
       "AspectRation     1304.0      1.732528     0.091205      1.297228   \n",
       "Eccentricity     1304.0      0.814531     0.023004      0.636987   \n",
       "ConvexArea       1304.0  76588.358896  9583.276139  45972.000000   \n",
       "EquivDiameter    1304.0    309.325305    19.295410    240.702082   \n",
       "Extent           1304.0      0.759241     0.041885      0.631988   \n",
       "Solidity         1304.0      0.985028     0.005685      0.960667   \n",
       "roundness        1304.0      0.846216     0.023338      0.727194   \n",
       "Compactness      1304.0      0.756959     0.020598      0.701215   \n",
       "ShapeFactor1     1304.0      0.005461     0.000336      0.004399   \n",
       "ShapeFactor2     1304.0      0.001110     0.000132      0.000762   \n",
       "ShapeFactor3     1304.0      0.573411     0.031442      0.491702   \n",
       "ShapeFactor4     1304.0      0.990608     0.004393      0.970210   \n",
       "\n",
       "                          25%           50%           75%            max  \n",
       "Area             69089.250000  74641.500000  81403.000000  116272.000000  \n",
       "Perimeter         1014.042500   1054.177500   1101.476000    1326.583000  \n",
       "MajorAxisLength    390.318496    408.122242    428.265987     534.484404  \n",
       "MinorAxisLength    226.728431    235.507339    244.986501     291.873017  \n",
       "AspectRation         1.675483      1.732188      1.793295       2.008074  \n",
       "Eccentricity         0.802358      0.816529      0.830088       0.867183  \n",
       "ConvexArea       70214.000000  75742.500000  82594.500000  118144.000000  \n",
       "EquivDiameter      296.592589    308.279921    321.940241     384.762405  \n",
       "Extent               0.734091      0.766648      0.792768       0.850251  \n",
       "Solidity             0.981515      0.986158      0.989448       0.994260  \n",
       "roundness            0.831120      0.846627      0.862021       0.920029  \n",
       "Compactness          0.743059      0.755899      0.769182       0.877273  \n",
       "ShapeFactor1         0.005247      0.005462      0.005667       0.007161  \n",
       "ShapeFactor2         0.001021      0.001093      0.001179       0.002199  \n",
       "ShapeFactor3         0.552137      0.571384      0.591640       0.769608  \n",
       "ShapeFactor4         0.988232      0.991269      0.993781       0.999368  "
      ]
     },
     "metadata": {},
     "output_type": "display_data"
    },
    {
     "name": "stdout",
     "output_type": "stream",
     "text": [
      "['BOMBAY']\n"
     ]
    },
    {
     "data": {
      "text/html": [
       "<div>\n",
       "<style scoped>\n",
       "    .dataframe tbody tr th:only-of-type {\n",
       "        vertical-align: middle;\n",
       "    }\n",
       "\n",
       "    .dataframe tbody tr th {\n",
       "        vertical-align: top;\n",
       "    }\n",
       "\n",
       "    .dataframe thead th {\n",
       "        text-align: right;\n",
       "    }\n",
       "</style>\n",
       "<table border=\"1\" class=\"dataframe\">\n",
       "  <thead>\n",
       "    <tr style=\"text-align: right;\">\n",
       "      <th></th>\n",
       "      <th>count</th>\n",
       "      <th>mean</th>\n",
       "      <th>std</th>\n",
       "      <th>min</th>\n",
       "      <th>25%</th>\n",
       "      <th>50%</th>\n",
       "      <th>75%</th>\n",
       "      <th>max</th>\n",
       "    </tr>\n",
       "  </thead>\n",
       "  <tbody>\n",
       "    <tr>\n",
       "      <th>Area</th>\n",
       "      <td>418.0</td>\n",
       "      <td>174644.691388</td>\n",
       "      <td>22940.608097</td>\n",
       "      <td>114004.000000</td>\n",
       "      <td>157937.250000</td>\n",
       "      <td>172856.500000</td>\n",
       "      <td>187630.750000</td>\n",
       "      <td>254616.000000</td>\n",
       "    </tr>\n",
       "    <tr>\n",
       "      <th>Perimeter</th>\n",
       "      <td>418.0</td>\n",
       "      <td>1590.797629</td>\n",
       "      <td>114.378978</td>\n",
       "      <td>1265.926000</td>\n",
       "      <td>1510.819750</td>\n",
       "      <td>1591.361500</td>\n",
       "      <td>1659.780750</td>\n",
       "      <td>1985.370000</td>\n",
       "    </tr>\n",
       "    <tr>\n",
       "      <th>MajorAxisLength</th>\n",
       "      <td>418.0</td>\n",
       "      <td>595.659564</td>\n",
       "      <td>52.756584</td>\n",
       "      <td>425.923787</td>\n",
       "      <td>561.896391</td>\n",
       "      <td>593.206795</td>\n",
       "      <td>631.702808</td>\n",
       "      <td>738.860153</td>\n",
       "    </tr>\n",
       "    <tr>\n",
       "      <th>MinorAxisLength</th>\n",
       "      <td>418.0</td>\n",
       "      <td>375.391936</td>\n",
       "      <td>22.508302</td>\n",
       "      <td>323.747996</td>\n",
       "      <td>359.689993</td>\n",
       "      <td>373.196086</td>\n",
       "      <td>388.677220</td>\n",
       "      <td>450.926187</td>\n",
       "    </tr>\n",
       "    <tr>\n",
       "      <th>AspectRation</th>\n",
       "      <td>418.0</td>\n",
       "      <td>1.587750</td>\n",
       "      <td>0.118775</td>\n",
       "      <td>1.212715</td>\n",
       "      <td>1.506043</td>\n",
       "      <td>1.586837</td>\n",
       "      <td>1.656309</td>\n",
       "      <td>1.933856</td>\n",
       "    </tr>\n",
       "    <tr>\n",
       "      <th>Eccentricity</th>\n",
       "      <td>418.0</td>\n",
       "      <td>0.771276</td>\n",
       "      <td>0.041032</td>\n",
       "      <td>0.565722</td>\n",
       "      <td>0.747740</td>\n",
       "      <td>0.776445</td>\n",
       "      <td>0.797172</td>\n",
       "      <td>0.855924</td>\n",
       "    </tr>\n",
       "    <tr>\n",
       "      <th>ConvexArea</th>\n",
       "      <td>418.0</td>\n",
       "      <td>177005.933014</td>\n",
       "      <td>23472.141932</td>\n",
       "      <td>115298.000000</td>\n",
       "      <td>160031.500000</td>\n",
       "      <td>175301.500000</td>\n",
       "      <td>189987.500000</td>\n",
       "      <td>263261.000000</td>\n",
       "    </tr>\n",
       "    <tr>\n",
       "      <th>EquivDiameter</th>\n",
       "      <td>418.0</td>\n",
       "      <td>470.556590</td>\n",
       "      <td>30.712860</td>\n",
       "      <td>380.991340</td>\n",
       "      <td>448.432770</td>\n",
       "      <td>469.135065</td>\n",
       "      <td>488.772841</td>\n",
       "      <td>569.374358</td>\n",
       "    </tr>\n",
       "    <tr>\n",
       "      <th>Extent</th>\n",
       "      <td>418.0</td>\n",
       "      <td>0.777878</td>\n",
       "      <td>0.038236</td>\n",
       "      <td>0.607021</td>\n",
       "      <td>0.757506</td>\n",
       "      <td>0.784117</td>\n",
       "      <td>0.806246</td>\n",
       "      <td>0.858420</td>\n",
       "    </tr>\n",
       "    <tr>\n",
       "      <th>Solidity</th>\n",
       "      <td>418.0</td>\n",
       "      <td>0.986825</td>\n",
       "      <td>0.005328</td>\n",
       "      <td>0.957261</td>\n",
       "      <td>0.984958</td>\n",
       "      <td>0.988297</td>\n",
       "      <td>0.990276</td>\n",
       "      <td>0.994677</td>\n",
       "    </tr>\n",
       "    <tr>\n",
       "      <th>roundness</th>\n",
       "      <td>418.0</td>\n",
       "      <td>0.864766</td>\n",
       "      <td>0.026789</td>\n",
       "      <td>0.758417</td>\n",
       "      <td>0.846881</td>\n",
       "      <td>0.865019</td>\n",
       "      <td>0.884115</td>\n",
       "      <td>0.950104</td>\n",
       "    </tr>\n",
       "    <tr>\n",
       "      <th>Compactness</th>\n",
       "      <td>418.0</td>\n",
       "      <td>0.792012</td>\n",
       "      <td>0.030682</td>\n",
       "      <td>0.713613</td>\n",
       "      <td>0.772886</td>\n",
       "      <td>0.790355</td>\n",
       "      <td>0.811974</td>\n",
       "      <td>0.906315</td>\n",
       "    </tr>\n",
       "    <tr>\n",
       "      <th>ShapeFactor1</th>\n",
       "      <td>418.0</td>\n",
       "      <td>0.003432</td>\n",
       "      <td>0.000200</td>\n",
       "      <td>0.002856</td>\n",
       "      <td>0.003301</td>\n",
       "      <td>0.003439</td>\n",
       "      <td>0.003580</td>\n",
       "      <td>0.003959</td>\n",
       "    </tr>\n",
       "    <tr>\n",
       "      <th>ShapeFactor2</th>\n",
       "      <td>418.0</td>\n",
       "      <td>0.000839</td>\n",
       "      <td>0.000134</td>\n",
       "      <td>0.000564</td>\n",
       "      <td>0.000743</td>\n",
       "      <td>0.000822</td>\n",
       "      <td>0.000924</td>\n",
       "      <td>0.001515</td>\n",
       "    </tr>\n",
       "    <tr>\n",
       "      <th>ShapeFactor3</th>\n",
       "      <td>418.0</td>\n",
       "      <td>0.628223</td>\n",
       "      <td>0.048859</td>\n",
       "      <td>0.509244</td>\n",
       "      <td>0.597353</td>\n",
       "      <td>0.624661</td>\n",
       "      <td>0.659302</td>\n",
       "      <td>0.821407</td>\n",
       "    </tr>\n",
       "    <tr>\n",
       "      <th>ShapeFactor4</th>\n",
       "      <td>418.0</td>\n",
       "      <td>0.991713</td>\n",
       "      <td>0.004545</td>\n",
       "      <td>0.968842</td>\n",
       "      <td>0.989596</td>\n",
       "      <td>0.992476</td>\n",
       "      <td>0.994890</td>\n",
       "      <td>0.999148</td>\n",
       "    </tr>\n",
       "  </tbody>\n",
       "</table>\n",
       "</div>"
      ],
      "text/plain": [
       "                 count           mean           std            min  \\\n",
       "Area             418.0  174644.691388  22940.608097  114004.000000   \n",
       "Perimeter        418.0    1590.797629    114.378978    1265.926000   \n",
       "MajorAxisLength  418.0     595.659564     52.756584     425.923787   \n",
       "MinorAxisLength  418.0     375.391936     22.508302     323.747996   \n",
       "AspectRation     418.0       1.587750      0.118775       1.212715   \n",
       "Eccentricity     418.0       0.771276      0.041032       0.565722   \n",
       "ConvexArea       418.0  177005.933014  23472.141932  115298.000000   \n",
       "EquivDiameter    418.0     470.556590     30.712860     380.991340   \n",
       "Extent           418.0       0.777878      0.038236       0.607021   \n",
       "Solidity         418.0       0.986825      0.005328       0.957261   \n",
       "roundness        418.0       0.864766      0.026789       0.758417   \n",
       "Compactness      418.0       0.792012      0.030682       0.713613   \n",
       "ShapeFactor1     418.0       0.003432      0.000200       0.002856   \n",
       "ShapeFactor2     418.0       0.000839      0.000134       0.000564   \n",
       "ShapeFactor3     418.0       0.628223      0.048859       0.509244   \n",
       "ShapeFactor4     418.0       0.991713      0.004545       0.968842   \n",
       "\n",
       "                           25%            50%            75%            max  \n",
       "Area             157937.250000  172856.500000  187630.750000  254616.000000  \n",
       "Perimeter          1510.819750    1591.361500    1659.780750    1985.370000  \n",
       "MajorAxisLength     561.896391     593.206795     631.702808     738.860153  \n",
       "MinorAxisLength     359.689993     373.196086     388.677220     450.926187  \n",
       "AspectRation          1.506043       1.586837       1.656309       1.933856  \n",
       "Eccentricity          0.747740       0.776445       0.797172       0.855924  \n",
       "ConvexArea       160031.500000  175301.500000  189987.500000  263261.000000  \n",
       "EquivDiameter       448.432770     469.135065     488.772841     569.374358  \n",
       "Extent                0.757506       0.784117       0.806246       0.858420  \n",
       "Solidity              0.984958       0.988297       0.990276       0.994677  \n",
       "roundness             0.846881       0.865019       0.884115       0.950104  \n",
       "Compactness           0.772886       0.790355       0.811974       0.906315  \n",
       "ShapeFactor1          0.003301       0.003439       0.003580       0.003959  \n",
       "ShapeFactor2          0.000743       0.000822       0.000924       0.001515  \n",
       "ShapeFactor3          0.597353       0.624661       0.659302       0.821407  \n",
       "ShapeFactor4          0.989596       0.992476       0.994890       0.999148  "
      ]
     },
     "metadata": {},
     "output_type": "display_data"
    }
   ],
   "source": [
    "dfs=[df1,df2,df3,df4,df5,df6,df7]\n",
    "for i in dfs:\n",
    "    print(i['y'].unique())\n",
    "    display(i.describe().T)"
   ]
  },
  {
   "cell_type": "code",
   "execution_count": 13,
   "id": "f3bf40ae",
   "metadata": {
    "execution": {
     "iopub.execute_input": "2022-05-30T13:13:22.051478Z",
     "iopub.status.busy": "2022-05-30T13:13:22.050760Z",
     "iopub.status.idle": "2022-05-30T13:13:22.085888Z",
     "shell.execute_reply": "2022-05-30T13:13:22.084650Z"
    },
    "papermill": {
     "duration": 0.079596,
     "end_time": "2022-05-30T13:13:22.089619",
     "exception": false,
     "start_time": "2022-05-30T13:13:22.010023",
     "status": "completed"
    },
    "tags": []
   },
   "outputs": [
    {
     "data": {
      "text/plain": [
       "Area               0.0\n",
       "Perimeter          0.0\n",
       "MajorAxisLength    0.0\n",
       "MinorAxisLength    0.0\n",
       "AspectRation       0.0\n",
       "Eccentricity       0.0\n",
       "ConvexArea         0.0\n",
       "EquivDiameter      0.0\n",
       "Extent             0.0\n",
       "Solidity           0.0\n",
       "roundness          0.0\n",
       "Compactness        0.0\n",
       "ShapeFactor1       0.0\n",
       "ShapeFactor2       0.0\n",
       "ShapeFactor3       0.0\n",
       "ShapeFactor4       0.0\n",
       "y                  0.0\n",
       "dtype: float64"
      ]
     },
     "execution_count": 13,
     "metadata": {},
     "output_type": "execute_result"
    }
   ],
   "source": [
    "data.loc[data.duplicated(),:].sum()"
   ]
  },
  {
   "cell_type": "code",
   "execution_count": 14,
   "id": "75d5a6f9",
   "metadata": {
    "execution": {
     "iopub.execute_input": "2022-05-30T13:13:22.170081Z",
     "iopub.status.busy": "2022-05-30T13:13:22.169512Z",
     "iopub.status.idle": "2022-05-30T13:13:22.174039Z",
     "shell.execute_reply": "2022-05-30T13:13:22.173017Z"
    },
    "papermill": {
     "duration": 0.048048,
     "end_time": "2022-05-30T13:13:22.176897",
     "exception": false,
     "start_time": "2022-05-30T13:13:22.128849",
     "status": "completed"
    },
    "tags": []
   },
   "outputs": [],
   "source": [
    "# pp.ProfileReport(data)"
   ]
  },
  {
   "cell_type": "markdown",
   "id": "46aa465a",
   "metadata": {
    "papermill": {
     "duration": 0.032185,
     "end_time": "2022-05-30T13:13:22.241530",
     "exception": false,
     "start_time": "2022-05-30T13:13:22.209345",
     "status": "completed"
    },
    "tags": []
   },
   "source": [
    "# Univariate Exploration\n",
    "            * we will explore each variable distribution"
   ]
  },
  {
   "cell_type": "markdown",
   "id": "bf4dec24",
   "metadata": {
    "papermill": {
     "duration": 0.032067,
     "end_time": "2022-05-30T13:13:22.306057",
     "exception": false,
     "start_time": "2022-05-30T13:13:22.273990",
     "status": "completed"
    },
    "tags": []
   },
   "source": [
    "* the Target Distribution "
   ]
  },
  {
   "cell_type": "code",
   "execution_count": 15,
   "id": "96c53467",
   "metadata": {
    "execution": {
     "iopub.execute_input": "2022-05-30T13:13:22.375617Z",
     "iopub.status.busy": "2022-05-30T13:13:22.374209Z",
     "iopub.status.idle": "2022-05-30T13:13:22.757499Z",
     "shell.execute_reply": "2022-05-30T13:13:22.756288Z"
    },
    "papermill": {
     "duration": 0.4209,
     "end_time": "2022-05-30T13:13:22.760407",
     "exception": false,
     "start_time": "2022-05-30T13:13:22.339507",
     "status": "completed"
    },
    "tags": []
   },
   "outputs": [
    {
     "data": {
      "image/png": "[encoded data removed]",
      "text/plain": [
       "<Figure size 360x360 with 1 Axes>"
      ]
     },
     "metadata": {
      "needs_background": "light"
     },
     "output_type": "display_data"
    }
   ],
   "source": [
    "sns.catplot(data = data,x='y',kind='count',orient='v')\n",
    "plt.show()"
   ]
  },
  {
   "cell_type": "code",
   "execution_count": 16,
   "id": "9c233b51",
   "metadata": {
    "execution": {
     "iopub.execute_input": "2022-05-30T13:13:22.832962Z",
     "iopub.status.busy": "2022-05-30T13:13:22.832364Z",
     "iopub.status.idle": "2022-05-30T13:13:22.842714Z",
     "shell.execute_reply": "2022-05-30T13:13:22.841535Z"
    },
    "papermill": {
     "duration": 0.050732,
     "end_time": "2022-05-30T13:13:22.844850",
     "exception": false,
     "start_time": "2022-05-30T13:13:22.794118",
     "status": "completed"
    },
    "tags": []
   },
   "outputs": [],
   "source": [
    "# This function takes the numerical column as the input and returns the boxplots and histogram \n",
    "\n",
    "\n",
    "def histogram_boxplot(feature, figsize=(10,5)):\n",
    "\n",
    "    f2, (ax_box2, ax_hist2) = plt.subplots(nrows = 2, # Number of rows of the subplot grid= 2\n",
    "                                           sharex = True, # x-axis will be shared among all subplots\n",
    "                                           gridspec_kw = {\"height_ratios\": (.25, .75)}, \n",
    "                                           figsize = figsize \n",
    "                                           ) # creating the 2 subplots\n",
    "    sns.boxplot(x=feature, ax=ax_box2,  color='c') # boxplot will be created and a star will indicate the mean value of the column\n",
    "    sns.histplot(feature, kde=False, ax=ax_hist2) # For histogram\n",
    "    ax_hist2.axvline(np.mean(feature), color='r', linestyle='--') # Add mean to the histogram\n",
    "    ax_hist2.axvline(np.median(feature), color='black', linestyle='-') # Add median to the histogram"
   ]
  },
  {
   "cell_type": "code",
   "execution_count": 17,
   "id": "33c2cc98",
   "metadata": {
    "execution": {
     "iopub.execute_input": "2022-05-30T13:13:22.913941Z",
     "iopub.status.busy": "2022-05-30T13:13:22.913212Z",
     "iopub.status.idle": "2022-05-30T13:13:23.693758Z",
     "shell.execute_reply": "2022-05-30T13:13:23.692304Z"
    },
    "papermill": {
     "duration": 0.818191,
     "end_time": "2022-05-30T13:13:23.696319",
     "exception": false,
     "start_time": "2022-05-30T13:13:22.878128",
     "status": "completed"
    },
    "tags": []
   },
   "outputs": [
    {
     "data": {
      "image/png": "[encoded data removed]",
      "text/plain": [
       "<Figure size 720x360 with 2 Axes>"
      ]
     },
     "metadata": {
      "needs_background": "light"
     },
     "output_type": "display_data"
    }
   ],
   "source": [
    "# ditribution of Area\n",
    "histogram_boxplot(data['Area'])"
   ]
  },
  {
   "cell_type": "markdown",
   "id": "93281125",
   "metadata": {
    "papermill": {
     "duration": 0.032643,
     "end_time": "2022-05-30T13:13:23.763472",
     "exception": false,
     "start_time": "2022-05-30T13:13:23.730829",
     "status": "completed"
    },
    "tags": []
   },
   "source": [
    "* we can observe few extreme values after 210000"
   ]
  },
  {
   "cell_type": "code",
   "execution_count": 18,
   "id": "9b225586",
   "metadata": {
    "execution": {
     "iopub.execute_input": "2022-05-30T13:13:23.833459Z",
     "iopub.status.busy": "2022-05-30T13:13:23.832996Z",
     "iopub.status.idle": "2022-05-30T13:13:24.342144Z",
     "shell.execute_reply": "2022-05-30T13:13:24.340882Z"
    },
    "papermill": {
     "duration": 0.547363,
     "end_time": "2022-05-30T13:13:24.345304",
     "exception": false,
     "start_time": "2022-05-30T13:13:23.797941",
     "status": "completed"
    },
    "tags": []
   },
   "outputs": [
    {
     "data": {
      "image/png": "[encoded data removed]",
      "text/plain": [
       "<Figure size 720x360 with 2 Axes>"
      ]
     },
     "metadata": {
      "needs_background": "light"
     },
     "output_type": "display_data"
    }
   ],
   "source": [
    "# ditribution of Perimeter\n",
    "histogram_boxplot(data['Perimeter'])"
   ]
  },
  {
   "cell_type": "markdown",
   "id": "d3968d5e",
   "metadata": {
    "papermill": {
     "duration": 0.035446,
     "end_time": "2022-05-30T13:13:24.415023",
     "exception": false,
     "start_time": "2022-05-30T13:13:24.379577",
     "status": "completed"
    },
    "tags": []
   },
   "source": [
    "* We can observe that the Perimeter is right-skewed data with max outliers; from 1900 onwards, we can see few data points having significantly higher values."
   ]
  },
  {
   "cell_type": "code",
   "execution_count": 19,
   "id": "c9e84744",
   "metadata": {
    "execution": {
     "iopub.execute_input": "2022-05-30T13:13:24.486795Z",
     "iopub.status.busy": "2022-05-30T13:13:24.485955Z",
     "iopub.status.idle": "2022-05-30T13:13:24.955854Z",
     "shell.execute_reply": "2022-05-30T13:13:24.954471Z"
    },
    "papermill": {
     "duration": 0.508876,
     "end_time": "2022-05-30T13:13:24.958616",
     "exception": false,
     "start_time": "2022-05-30T13:13:24.449740",
     "status": "completed"
    },
    "tags": []
   },
   "outputs": [
    {
     "data": {
      "image/png": "[encoded data removed]",
      "text/plain": [
       "<Figure size 720x360 with 2 Axes>"
      ]
     },
     "metadata": {
      "needs_background": "light"
     },
     "output_type": "display_data"
    }
   ],
   "source": [
    "# ditribution of MajorAxisLength\n",
    "histogram_boxplot(data['MajorAxisLength'])"
   ]
  },
  {
   "cell_type": "markdown",
   "id": "9392f957",
   "metadata": {
    "papermill": {
     "duration": 0.039886,
     "end_time": "2022-05-30T13:13:25.038817",
     "exception": false,
     "start_time": "2022-05-30T13:13:24.998931",
     "status": "completed"
    },
    "tags": []
   },
   "source": [
    "*  We can observe that the Major Axis Length is right-skewed data with max outliers; from 700 onwards, we can see few data points having significantly higher values"
   ]
  },
  {
   "cell_type": "code",
   "execution_count": 20,
   "id": "e2af7f9a",
   "metadata": {
    "execution": {
     "iopub.execute_input": "2022-05-30T13:13:25.116864Z",
     "iopub.status.busy": "2022-05-30T13:13:25.115407Z",
     "iopub.status.idle": "2022-05-30T13:13:25.685458Z",
     "shell.execute_reply": "2022-05-30T13:13:25.684093Z"
    },
    "papermill": {
     "duration": 0.612574,
     "end_time": "2022-05-30T13:13:25.688841",
     "exception": false,
     "start_time": "2022-05-30T13:13:25.076267",
     "status": "completed"
    },
    "tags": []
   },
   "outputs": [
    {
     "data": {
      "image/png": "[encoded data removed]",
      "text/plain": [
       "<Figure size 720x360 with 2 Axes>"
      ]
     },
     "metadata": {
      "needs_background": "light"
     },
     "output_type": "display_data"
    }
   ],
   "source": [
    "# ditribution of MinorAxisLength\n",
    "histogram_boxplot(data['MinorAxisLength'])"
   ]
  },
  {
   "cell_type": "markdown",
   "id": "070fd434",
   "metadata": {
    "papermill": {
     "duration": 0.036353,
     "end_time": "2022-05-30T13:13:25.763498",
     "exception": false,
     "start_time": "2022-05-30T13:13:25.727145",
     "status": "completed"
    },
    "tags": []
   },
   "source": [
    "* We can observe that the Minor Axis Length is right-skewed data with max outliers; from 300 onwards, we can see significantly higher values"
   ]
  },
  {
   "cell_type": "code",
   "execution_count": 21,
   "id": "e418eaf5",
   "metadata": {
    "execution": {
     "iopub.execute_input": "2022-05-30T13:13:25.841398Z",
     "iopub.status.busy": "2022-05-30T13:13:25.840821Z",
     "iopub.status.idle": "2022-05-30T13:13:26.378862Z",
     "shell.execute_reply": "2022-05-30T13:13:26.376763Z"
    },
    "papermill": {
     "duration": 0.581152,
     "end_time": "2022-05-30T13:13:26.382783",
     "exception": false,
     "start_time": "2022-05-30T13:13:25.801631",
     "status": "completed"
    },
    "tags": []
   },
   "outputs": [
    {
     "data": {
      "image/png": "[encoded data removed]",
      "text/plain": [
       "<Figure size 720x360 with 2 Axes>"
      ]
     },
     "metadata": {
      "needs_background": "light"
     },
     "output_type": "display_data"
    }
   ],
   "source": [
    "# ditribution of AspectRation\n",
    "histogram_boxplot(data['AspectRation'])"
   ]
  },
  {
   "cell_type": "markdown",
   "id": "47ba51d4",
   "metadata": {
    "papermill": {
     "duration": 0.037602,
     "end_time": "2022-05-30T13:13:26.455992",
     "exception": false,
     "start_time": "2022-05-30T13:13:26.418390",
     "status": "completed"
    },
    "tags": []
   },
   "source": [
    "*  AspectRation we can observe it is normally distributed with max outliers 2 or 3 data points having signicant higher values."
   ]
  },
  {
   "cell_type": "code",
   "execution_count": 22,
   "id": "3fd06a95",
   "metadata": {
    "execution": {
     "iopub.execute_input": "2022-05-30T13:13:26.533890Z",
     "iopub.status.busy": "2022-05-30T13:13:26.533427Z",
     "iopub.status.idle": "2022-05-30T13:13:27.081676Z",
     "shell.execute_reply": "2022-05-30T13:13:27.080176Z"
    },
    "papermill": {
     "duration": 0.590277,
     "end_time": "2022-05-30T13:13:27.084502",
     "exception": false,
     "start_time": "2022-05-30T13:13:26.494225",
     "status": "completed"
    },
    "tags": []
   },
   "outputs": [
    {
     "data": {
      "image/png": "[encoded data removed]",
      "text/plain": [
       "<Figure size 720x360 with 2 Axes>"
      ]
     },
     "metadata": {
      "needs_background": "light"
     },
     "output_type": "display_data"
    }
   ],
   "source": [
    "# ditribution of Eccentricity\n",
    "histogram_boxplot(data['Eccentricity'])"
   ]
  },
  {
   "cell_type": "markdown",
   "id": "dcadcb5d",
   "metadata": {
    "papermill": {
     "duration": 0.035973,
     "end_time": "2022-05-30T13:13:27.157426",
     "exception": false,
     "start_time": "2022-05-30T13:13:27.121453",
     "status": "completed"
    },
    "tags": []
   },
   "source": [
    "* We can observe that the Eccentricity is left-skewed with minimum outliers; we can see few data points having significantly lesser values (values < 0.35)"
   ]
  },
  {
   "cell_type": "code",
   "execution_count": 23,
   "id": "89d2ee84",
   "metadata": {
    "execution": {
     "iopub.execute_input": "2022-05-30T13:13:27.234890Z",
     "iopub.status.busy": "2022-05-30T13:13:27.234388Z",
     "iopub.status.idle": "2022-05-30T13:13:27.820928Z",
     "shell.execute_reply": "2022-05-30T13:13:27.819446Z"
    },
    "papermill": {
     "duration": 0.62848,
     "end_time": "2022-05-30T13:13:27.824214",
     "exception": false,
     "start_time": "2022-05-30T13:13:27.195734",
     "status": "completed"
    },
    "tags": []
   },
   "outputs": [
    {
     "data": {
      "image/png": "[encoded data removed]",
      "text/plain": [
       "<Figure size 720x360 with 2 Axes>"
      ]
     },
     "metadata": {
      "needs_background": "light"
     },
     "output_type": "display_data"
    }
   ],
   "source": [
    "# ditribution of ConvexArea\n",
    "histogram_boxplot(data['ConvexArea'])"
   ]
  },
  {
   "cell_type": "markdown",
   "id": "60d1f412",
   "metadata": {
    "papermill": {
     "duration": 0.036176,
     "end_time": "2022-05-30T13:13:27.897266",
     "exception": false,
     "start_time": "2022-05-30T13:13:27.861090",
     "status": "completed"
    },
    "tags": []
   },
   "source": [
    "*  We can observe that the ConvexArea is right-skewed data with max outliers; we can see few data points (values > 23000) having significantly higher values."
   ]
  },
  {
   "cell_type": "code",
   "execution_count": 24,
   "id": "b2459f59",
   "metadata": {
    "execution": {
     "iopub.execute_input": "2022-05-30T13:13:27.972935Z",
     "iopub.status.busy": "2022-05-30T13:13:27.972438Z",
     "iopub.status.idle": "2022-05-30T13:13:28.518495Z",
     "shell.execute_reply": "2022-05-30T13:13:28.516904Z"
    },
    "papermill": {
     "duration": 0.586573,
     "end_time": "2022-05-30T13:13:28.521174",
     "exception": false,
     "start_time": "2022-05-30T13:13:27.934601",
     "status": "completed"
    },
    "tags": []
   },
   "outputs": [
    {
     "data": {
      "image/png": "[encoded data removed]",
      "text/plain": [
       "<Figure size 720x360 with 2 Axes>"
      ]
     },
     "metadata": {
      "needs_background": "light"
     },
     "output_type": "display_data"
    }
   ],
   "source": [
    "# ditribution of EquivDiameter\n",
    "histogram_boxplot(data['EquivDiameter'])"
   ]
  },
  {
   "cell_type": "markdown",
   "id": "05b937be",
   "metadata": {
    "papermill": {
     "duration": 0.035148,
     "end_time": "2022-05-30T13:13:28.592334",
     "exception": false,
     "start_time": "2022-05-30T13:13:28.557186",
     "status": "completed"
    },
    "tags": []
   },
   "source": [
    "* We can observe that the EquivDiameter is right-skewed data with max outliers."
   ]
  },
  {
   "cell_type": "code",
   "execution_count": 25,
   "id": "416481c1",
   "metadata": {
    "execution": {
     "iopub.execute_input": "2022-05-30T13:13:28.667301Z",
     "iopub.status.busy": "2022-05-30T13:13:28.666581Z",
     "iopub.status.idle": "2022-05-30T13:13:29.476380Z",
     "shell.execute_reply": "2022-05-30T13:13:29.475080Z"
    },
    "papermill": {
     "duration": 0.85067,
     "end_time": "2022-05-30T13:13:29.479084",
     "exception": false,
     "start_time": "2022-05-30T13:13:28.628414",
     "status": "completed"
    },
    "tags": []
   },
   "outputs": [
    {
     "data": {
      "image/png": "[encoded data removed]",
      "text/plain": [
       "<Figure size 720x360 with 2 Axes>"
      ]
     },
     "metadata": {
      "needs_background": "light"
     },
     "output_type": "display_data"
    }
   ],
   "source": [
    "# ditribution of Extent\n",
    "histogram_boxplot(data['Extent'])"
   ]
  },
  {
   "cell_type": "markdown",
   "id": "215eaf65",
   "metadata": {
    "papermill": {
     "duration": 0.03732,
     "end_time": "2022-05-30T13:13:29.554503",
     "exception": false,
     "start_time": "2022-05-30T13:13:29.517183",
     "status": "completed"
    },
    "tags": []
   },
   "source": [
    "* We can observe that the Extent is left-skewed data with min outliers. "
   ]
  },
  {
   "cell_type": "code",
   "execution_count": 26,
   "id": "133a66c4",
   "metadata": {
    "execution": {
     "iopub.execute_input": "2022-05-30T13:13:29.635716Z",
     "iopub.status.busy": "2022-05-30T13:13:29.635182Z",
     "iopub.status.idle": "2022-05-30T13:13:30.396208Z",
     "shell.execute_reply": "2022-05-30T13:13:30.394988Z"
    },
    "papermill": {
     "duration": 0.806004,
     "end_time": "2022-05-30T13:13:30.398888",
     "exception": false,
     "start_time": "2022-05-30T13:13:29.592884",
     "status": "completed"
    },
    "tags": []
   },
   "outputs": [
    {
     "data": {
      "image/png": "[encoded data removed]",
      "text/plain": [
       "<Figure size 720x360 with 2 Axes>"
      ]
     },
     "metadata": {
      "needs_background": "light"
     },
     "output_type": "display_data"
    }
   ],
   "source": [
    "# ditribution of Solidity\n",
    "histogram_boxplot(data['Solidity'])"
   ]
  },
  {
   "cell_type": "markdown",
   "id": "45f4bb35",
   "metadata": {
    "papermill": {
     "duration": 0.037812,
     "end_time": "2022-05-30T13:13:30.475122",
     "exception": false,
     "start_time": "2022-05-30T13:13:30.437310",
     "status": "completed"
    },
    "tags": []
   },
   "source": [
    "* We can observe that the Solidity is left-skewed data with min outliers, we can observe one of the outlier is extremely low."
   ]
  },
  {
   "cell_type": "code",
   "execution_count": 27,
   "id": "661f3c73",
   "metadata": {
    "execution": {
     "iopub.execute_input": "2022-05-30T13:13:30.555319Z",
     "iopub.status.busy": "2022-05-30T13:13:30.553786Z",
     "iopub.status.idle": "2022-05-30T13:13:31.080008Z",
     "shell.execute_reply": "2022-05-30T13:13:31.078989Z"
    },
    "papermill": {
     "duration": 0.569138,
     "end_time": "2022-05-30T13:13:31.082568",
     "exception": false,
     "start_time": "2022-05-30T13:13:30.513430",
     "status": "completed"
    },
    "tags": []
   },
   "outputs": [
    {
     "data": {
      "image/png": "[encoded data removed]",
      "text/plain": [
       "<Figure size 720x360 with 2 Axes>"
      ]
     },
     "metadata": {
      "needs_background": "light"
     },
     "output_type": "display_data"
    }
   ],
   "source": [
    "# ditribution of roundness\n",
    "histogram_boxplot(data['roundness'])"
   ]
  },
  {
   "cell_type": "markdown",
   "id": "62b1d85f",
   "metadata": {
    "papermill": {
     "duration": 0.03905,
     "end_time": "2022-05-30T13:13:31.158668",
     "exception": false,
     "start_time": "2022-05-30T13:13:31.119618",
     "status": "completed"
    },
    "tags": []
   },
   "source": [
    "* We can observe that the roundness is left-skewed data with min outliers, we can observe one of the outlier is extremely low."
   ]
  },
  {
   "cell_type": "code",
   "execution_count": 28,
   "id": "8c209ada",
   "metadata": {
    "execution": {
     "iopub.execute_input": "2022-05-30T13:13:31.238086Z",
     "iopub.status.busy": "2022-05-30T13:13:31.237285Z",
     "iopub.status.idle": "2022-05-30T13:13:31.744113Z",
     "shell.execute_reply": "2022-05-30T13:13:31.743057Z"
    },
    "papermill": {
     "duration": 0.549021,
     "end_time": "2022-05-30T13:13:31.746665",
     "exception": false,
     "start_time": "2022-05-30T13:13:31.197644",
     "status": "completed"
    },
    "tags": []
   },
   "outputs": [
    {
     "data": {
      "image/png": "[encoded data removed]",
      "text/plain": [
       "<Figure size 720x360 with 2 Axes>"
      ]
     },
     "metadata": {
      "needs_background": "light"
     },
     "output_type": "display_data"
    }
   ],
   "source": [
    "# ditribution of Compactness\n",
    "histogram_boxplot(data['Compactness'])"
   ]
  },
  {
   "cell_type": "markdown",
   "id": "a201441b",
   "metadata": {
    "papermill": {
     "duration": 0.043053,
     "end_time": "2022-05-30T13:13:31.829757",
     "exception": false,
     "start_time": "2022-05-30T13:13:31.786704",
     "status": "completed"
    },
    "tags": []
   },
   "source": [
    " * Compactness we can observe that it is normally distributed with min and max outliers."
   ]
  },
  {
   "cell_type": "code",
   "execution_count": 29,
   "id": "dc261076",
   "metadata": {
    "execution": {
     "iopub.execute_input": "2022-05-30T13:13:31.910219Z",
     "iopub.status.busy": "2022-05-30T13:13:31.909477Z",
     "iopub.status.idle": "2022-05-30T13:13:32.419685Z",
     "shell.execute_reply": "2022-05-30T13:13:32.417081Z"
    },
    "papermill": {
     "duration": 0.55327,
     "end_time": "2022-05-30T13:13:32.422515",
     "exception": false,
     "start_time": "2022-05-30T13:13:31.869245",
     "status": "completed"
    },
    "tags": []
   },
   "outputs": [
    {
     "data": {
      "image/png": "[encoded data removed]",
      "text/plain": [
       "<Figure size 720x360 with 2 Axes>"
      ]
     },
     "metadata": {
      "needs_background": "light"
     },
     "output_type": "display_data"
    }
   ],
   "source": [
    "# ditribution of ShapeFactor1\n",
    "histogram_boxplot(data['ShapeFactor1'])"
   ]
  },
  {
   "cell_type": "markdown",
   "id": "d7eedf06",
   "metadata": {
    "papermill": {
     "duration": 0.038572,
     "end_time": "2022-05-30T13:13:32.501600",
     "exception": false,
     "start_time": "2022-05-30T13:13:32.463028",
     "status": "completed"
    },
    "tags": []
   },
   "source": [
    "* Shapefactor 1 is normally distributed with min and max outliers."
   ]
  },
  {
   "cell_type": "code",
   "execution_count": 30,
   "id": "2de0e73d",
   "metadata": {
    "execution": {
     "iopub.execute_input": "2022-05-30T13:13:32.579198Z",
     "iopub.status.busy": "2022-05-30T13:13:32.578681Z",
     "iopub.status.idle": "2022-05-30T13:13:33.043132Z",
     "shell.execute_reply": "2022-05-30T13:13:33.041567Z"
    },
    "papermill": {
     "duration": 0.506968,
     "end_time": "2022-05-30T13:13:33.046088",
     "exception": false,
     "start_time": "2022-05-30T13:13:32.539120",
     "status": "completed"
    },
    "tags": []
   },
   "outputs": [
    {
     "data": {
      "image/png": "[encoded data removed]",
      "text/plain": [
       "<Figure size 720x360 with 2 Axes>"
      ]
     },
     "metadata": {
      "needs_background": "light"
     },
     "output_type": "display_data"
    }
   ],
   "source": [
    "# ditribution of ShapeFactor1\n",
    "histogram_boxplot(data['ShapeFactor2'])"
   ]
  },
  {
   "cell_type": "markdown",
   "id": "bc9bb547",
   "metadata": {
    "papermill": {
     "duration": 0.046822,
     "end_time": "2022-05-30T13:13:33.145510",
     "exception": false,
     "start_time": "2022-05-30T13:13:33.098688",
     "status": "completed"
    },
    "tags": []
   },
   "source": [
    "* ShapeFactor 2 is normally distributed without any outliers."
   ]
  },
  {
   "cell_type": "code",
   "execution_count": 31,
   "id": "33db3ec0",
   "metadata": {
    "execution": {
     "iopub.execute_input": "2022-05-30T13:13:33.225381Z",
     "iopub.status.busy": "2022-05-30T13:13:33.224908Z",
     "iopub.status.idle": "2022-05-30T13:13:33.721317Z",
     "shell.execute_reply": "2022-05-30T13:13:33.720281Z"
    },
    "papermill": {
     "duration": 0.539308,
     "end_time": "2022-05-30T13:13:33.723864",
     "exception": false,
     "start_time": "2022-05-30T13:13:33.184556",
     "status": "completed"
    },
    "tags": []
   },
   "outputs": [
    {
     "data": {
      "image/png": "[encoded data removed]",
      "text/plain": [
       "<Figure size 720x360 with 2 Axes>"
      ]
     },
     "metadata": {
      "needs_background": "light"
     },
     "output_type": "display_data"
    }
   ],
   "source": [
    "# ditribution of ShapeFactor3\n",
    "histogram_boxplot(data['ShapeFactor3'])"
   ]
  },
  {
   "cell_type": "markdown",
   "id": "87f96c2f",
   "metadata": {
    "papermill": {
     "duration": 0.039004,
     "end_time": "2022-05-30T13:13:33.803177",
     "exception": false,
     "start_time": "2022-05-30T13:13:33.764173",
     "status": "completed"
    },
    "tags": []
   },
   "source": [
    "* ShapeFactor3 is normally distributed wiht max outliers."
   ]
  },
  {
   "cell_type": "code",
   "execution_count": 32,
   "id": "ade723bc",
   "metadata": {
    "execution": {
     "iopub.execute_input": "2022-05-30T13:13:33.889549Z",
     "iopub.status.busy": "2022-05-30T13:13:33.888939Z",
     "iopub.status.idle": "2022-05-30T13:13:34.844762Z",
     "shell.execute_reply": "2022-05-30T13:13:34.843888Z"
    },
    "papermill": {
     "duration": 1.000519,
     "end_time": "2022-05-30T13:13:34.847320",
     "exception": false,
     "start_time": "2022-05-30T13:13:33.846801",
     "status": "completed"
    },
    "tags": []
   },
   "outputs": [
    {
     "data": {
      "image/png": "[encoded data removed]",
      "text/plain": [
       "<Figure size 720x360 with 2 Axes>"
      ]
     },
     "metadata": {
      "needs_background": "light"
     },
     "output_type": "display_data"
    }
   ],
   "source": [
    "# ditribution of ShapeFactor4\n",
    "histogram_boxplot(data['ShapeFactor4'])"
   ]
  },
  {
   "cell_type": "markdown",
   "id": "8a71efed",
   "metadata": {
    "papermill": {
     "duration": 0.037858,
     "end_time": "2022-05-30T13:13:34.923745",
     "exception": false,
     "start_time": "2022-05-30T13:13:34.885887",
     "status": "completed"
    },
    "tags": []
   },
   "source": [
    "*  ShapeFactor 4 is extremely left skewed with minimum outliers."
   ]
  },
  {
   "cell_type": "markdown",
   "id": "4da34401",
   "metadata": {
    "papermill": {
     "duration": 0.038843,
     "end_time": "2022-05-30T13:13:35.000750",
     "exception": false,
     "start_time": "2022-05-30T13:13:34.961907",
     "status": "completed"
    },
    "tags": []
   },
   "source": [
    "# Checking the Skeweness of the dataset"
   ]
  },
  {
   "cell_type": "code",
   "execution_count": 33,
   "id": "0bd264e1",
   "metadata": {
    "execution": {
     "iopub.execute_input": "2022-05-30T13:13:35.087145Z",
     "iopub.status.busy": "2022-05-30T13:13:35.086616Z",
     "iopub.status.idle": "2022-05-30T13:13:35.101828Z",
     "shell.execute_reply": "2022-05-30T13:13:35.100757Z"
    },
    "papermill": {
     "duration": 0.060656,
     "end_time": "2022-05-30T13:13:35.104217",
     "exception": false,
     "start_time": "2022-05-30T13:13:35.043561",
     "status": "completed"
    },
    "tags": []
   },
   "outputs": [
    {
     "data": {
      "text/plain": [
       "Area               2.970246\n",
       "Perimeter          1.650773\n",
       "MajorAxisLength    1.390286\n",
       "MinorAxisLength    2.251468\n",
       "AspectRation       0.589186\n",
       "Eccentricity      -1.075626\n",
       "ConvexArea         2.960315\n",
       "EquivDiameter      1.971378\n",
       "Extent            -0.900892\n",
       "Solidity          -2.507634\n",
       "roundness         -0.659566\n",
       "Compactness        0.038242\n",
       "ShapeFactor1      -0.544873\n",
       "ShapeFactor2       0.292677\n",
       "ShapeFactor3       0.245589\n",
       "ShapeFactor4      -2.628540\n",
       "dtype: float64"
      ]
     },
     "execution_count": 33,
     "metadata": {},
     "output_type": "execute_result"
    }
   ],
   "source": [
    "data.skew(axis=0)"
   ]
  },
  {
   "cell_type": "code",
   "execution_count": 34,
   "id": "0c1f59f7",
   "metadata": {
    "execution": {
     "iopub.execute_input": "2022-05-30T13:13:35.185863Z",
     "iopub.status.busy": "2022-05-30T13:13:35.185412Z",
     "iopub.status.idle": "2022-05-30T13:13:35.191006Z",
     "shell.execute_reply": "2022-05-30T13:13:35.189437Z"
    },
    "papermill": {
     "duration": 0.049344,
     "end_time": "2022-05-30T13:13:35.193891",
     "exception": false,
     "start_time": "2022-05-30T13:13:35.144547",
     "status": "completed"
    },
    "tags": []
   },
   "outputs": [],
   "source": [
    "# # lets check how the each fetaures are realted to each other with hue as Class\n",
    "# sns.pairplot(data, hue='y')"
   ]
  },
  {
   "cell_type": "markdown",
   "id": "5658c815",
   "metadata": {
    "papermill": {
     "duration": 0.039916,
     "end_time": "2022-05-30T13:13:35.273052",
     "exception": false,
     "start_time": "2022-05-30T13:13:35.233136",
     "status": "completed"
    },
    "tags": []
   },
   "source": [
    "# see the correlation between numerical variables"
   ]
  },
  {
   "cell_type": "code",
   "execution_count": 35,
   "id": "7a811ec8",
   "metadata": {
    "execution": {
     "iopub.execute_input": "2022-05-30T13:13:35.361198Z",
     "iopub.status.busy": "2022-05-30T13:13:35.360707Z",
     "iopub.status.idle": "2022-05-30T13:13:36.863058Z",
     "shell.execute_reply": "2022-05-30T13:13:36.861525Z"
    },
    "papermill": {
     "duration": 1.552035,
     "end_time": "2022-05-30T13:13:36.869570",
     "exception": false,
     "start_time": "2022-05-30T13:13:35.317535",
     "status": "completed"
    },
    "tags": []
   },
   "outputs": [
    {
     "data": {
      "text/plain": [
       "<AxesSubplot:>"
      ]
     },
     "execution_count": 35,
     "metadata": {},
     "output_type": "execute_result"
    },
    {
     "data": {
      "image/png": "[encoded data removed]",
      "text/plain": [
       "<Figure size 1080x720 with 2 Axes>"
      ]
     },
     "metadata": {
      "needs_background": "light"
     },
     "output_type": "display_data"
    }
   ],
   "source": [
    "# Apply correlation plot to see the correlation between numerical variables.\n",
    "\n",
    "plt.figure(figsize=(15,10))\n",
    "# plt.figure(figsize=(14, 14))\n",
    "dat_cor = data.corr()\n",
    "sns.heatmap(dat_cor, cmap = 'YlGnBu', annot=True, square=True)"
   ]
  },
  {
   "cell_type": "markdown",
   "id": "a5f9a859",
   "metadata": {
    "papermill": {
     "duration": 0.047952,
     "end_time": "2022-05-30T13:13:36.961680",
     "exception": false,
     "start_time": "2022-05-30T13:13:36.913728",
     "status": "completed"
    },
    "tags": []
   },
   "source": [
    "# Preprocessing for data"
   ]
  },
  {
   "cell_type": "code",
   "execution_count": 36,
   "id": "06fedab3",
   "metadata": {
    "execution": {
     "iopub.execute_input": "2022-05-30T13:13:37.054258Z",
     "iopub.status.busy": "2022-05-30T13:13:37.053685Z",
     "iopub.status.idle": "2022-05-30T13:13:37.078287Z",
     "shell.execute_reply": "2022-05-30T13:13:37.076886Z"
    },
    "papermill": {
     "duration": 0.075611,
     "end_time": "2022-05-30T13:13:37.080854",
     "exception": false,
     "start_time": "2022-05-30T13:13:37.005243",
     "status": "completed"
    },
    "tags": []
   },
   "outputs": [
    {
     "data": {
      "text/html": [
       "<div>\n",
       "<style scoped>\n",
       "    .dataframe tbody tr th:only-of-type {\n",
       "        vertical-align: middle;\n",
       "    }\n",
       "\n",
       "    .dataframe tbody tr th {\n",
       "        vertical-align: top;\n",
       "    }\n",
       "\n",
       "    .dataframe thead th {\n",
       "        text-align: right;\n",
       "    }\n",
       "</style>\n",
       "<table border=\"1\" class=\"dataframe\">\n",
       "  <thead>\n",
       "    <tr style=\"text-align: right;\">\n",
       "      <th></th>\n",
       "      <th>Area</th>\n",
       "      <th>Perimeter</th>\n",
       "      <th>MajorAxisLength</th>\n",
       "      <th>MinorAxisLength</th>\n",
       "      <th>AspectRation</th>\n",
       "      <th>Eccentricity</th>\n",
       "      <th>ConvexArea</th>\n",
       "      <th>EquivDiameter</th>\n",
       "      <th>Extent</th>\n",
       "      <th>Solidity</th>\n",
       "      <th>roundness</th>\n",
       "      <th>Compactness</th>\n",
       "      <th>ShapeFactor1</th>\n",
       "      <th>ShapeFactor2</th>\n",
       "      <th>ShapeFactor3</th>\n",
       "      <th>ShapeFactor4</th>\n",
       "      <th>y</th>\n",
       "    </tr>\n",
       "    <tr>\n",
       "      <th>ID</th>\n",
       "      <th></th>\n",
       "      <th></th>\n",
       "      <th></th>\n",
       "      <th></th>\n",
       "      <th></th>\n",
       "      <th></th>\n",
       "      <th></th>\n",
       "      <th></th>\n",
       "      <th></th>\n",
       "      <th></th>\n",
       "      <th></th>\n",
       "      <th></th>\n",
       "      <th></th>\n",
       "      <th></th>\n",
       "      <th></th>\n",
       "      <th></th>\n",
       "      <th></th>\n",
       "    </tr>\n",
       "  </thead>\n",
       "  <tbody>\n",
       "    <tr>\n",
       "      <th>0</th>\n",
       "      <td>58238</td>\n",
       "      <td>971.303</td>\n",
       "      <td>397.202654</td>\n",
       "      <td>186.945510</td>\n",
       "      <td>2.124697</td>\n",
       "      <td>0.882317</td>\n",
       "      <td>58977</td>\n",
       "      <td>272.306674</td>\n",
       "      <td>0.604756</td>\n",
       "      <td>0.987470</td>\n",
       "      <td>0.775723</td>\n",
       "      <td>0.685561</td>\n",
       "      <td>0.006820</td>\n",
       "      <td>0.000929</td>\n",
       "      <td>0.469994</td>\n",
       "      <td>0.998595</td>\n",
       "      <td>HOROZ</td>\n",
       "    </tr>\n",
       "    <tr>\n",
       "      <th>1</th>\n",
       "      <td>44515</td>\n",
       "      <td>757.601</td>\n",
       "      <td>265.590470</td>\n",
       "      <td>213.967453</td>\n",
       "      <td>1.241266</td>\n",
       "      <td>0.592420</td>\n",
       "      <td>44780</td>\n",
       "      <td>238.071960</td>\n",
       "      <td>0.771745</td>\n",
       "      <td>0.994082</td>\n",
       "      <td>0.974620</td>\n",
       "      <td>0.896387</td>\n",
       "      <td>0.005966</td>\n",
       "      <td>0.002376</td>\n",
       "      <td>0.803510</td>\n",
       "      <td>0.997370</td>\n",
       "      <td>SEKER</td>\n",
       "    </tr>\n",
       "    <tr>\n",
       "      <th>2</th>\n",
       "      <td>31662</td>\n",
       "      <td>653.783</td>\n",
       "      <td>239.902428</td>\n",
       "      <td>168.421505</td>\n",
       "      <td>1.424417</td>\n",
       "      <td>0.712136</td>\n",
       "      <td>32034</td>\n",
       "      <td>200.781748</td>\n",
       "      <td>0.801407</td>\n",
       "      <td>0.988387</td>\n",
       "      <td>0.930853</td>\n",
       "      <td>0.836931</td>\n",
       "      <td>0.007577</td>\n",
       "      <td>0.002293</td>\n",
       "      <td>0.700453</td>\n",
       "      <td>0.997737</td>\n",
       "      <td>DERMASON</td>\n",
       "    </tr>\n",
       "    <tr>\n",
       "      <th>3</th>\n",
       "      <td>38778</td>\n",
       "      <td>734.020</td>\n",
       "      <td>268.446281</td>\n",
       "      <td>184.061923</td>\n",
       "      <td>1.458456</td>\n",
       "      <td>0.727925</td>\n",
       "      <td>39208</td>\n",
       "      <td>222.201897</td>\n",
       "      <td>0.766137</td>\n",
       "      <td>0.989033</td>\n",
       "      <td>0.904439</td>\n",
       "      <td>0.827733</td>\n",
       "      <td>0.006923</td>\n",
       "      <td>0.002005</td>\n",
       "      <td>0.685142</td>\n",
       "      <td>0.999250</td>\n",
       "      <td>DERMASON</td>\n",
       "    </tr>\n",
       "    <tr>\n",
       "      <th>4</th>\n",
       "      <td>42530</td>\n",
       "      <td>775.403</td>\n",
       "      <td>281.212824</td>\n",
       "      <td>193.236878</td>\n",
       "      <td>1.455275</td>\n",
       "      <td>0.726511</td>\n",
       "      <td>43028</td>\n",
       "      <td>232.703412</td>\n",
       "      <td>0.729816</td>\n",
       "      <td>0.988426</td>\n",
       "      <td>0.888895</td>\n",
       "      <td>0.827499</td>\n",
       "      <td>0.006612</td>\n",
       "      <td>0.001912</td>\n",
       "      <td>0.684755</td>\n",
       "      <td>0.996507</td>\n",
       "      <td>SIRA</td>\n",
       "    </tr>\n",
       "  </tbody>\n",
       "</table>\n",
       "</div>"
      ],
      "text/plain": [
       "     Area  Perimeter  MajorAxisLength  MinorAxisLength  AspectRation  \\\n",
       "ID                                                                     \n",
       "0   58238    971.303       397.202654       186.945510      2.124697   \n",
       "1   44515    757.601       265.590470       213.967453      1.241266   \n",
       "2   31662    653.783       239.902428       168.421505      1.424417   \n",
       "3   38778    734.020       268.446281       184.061923      1.458456   \n",
       "4   42530    775.403       281.212824       193.236878      1.455275   \n",
       "\n",
       "    Eccentricity  ConvexArea  EquivDiameter    Extent  Solidity  roundness  \\\n",
       "ID                                                                           \n",
       "0       0.882317       58977     272.306674  0.604756  0.987470   0.775723   \n",
       "1       0.592420       44780     238.071960  0.771745  0.994082   0.974620   \n",
       "2       0.712136       32034     200.781748  0.801407  0.988387   0.930853   \n",
       "3       0.727925       39208     222.201897  0.766137  0.989033   0.904439   \n",
       "4       0.726511       43028     232.703412  0.729816  0.988426   0.888895   \n",
       "\n",
       "    Compactness  ShapeFactor1  ShapeFactor2  ShapeFactor3  ShapeFactor4  \\\n",
       "ID                                                                        \n",
       "0      0.685561      0.006820      0.000929      0.469994      0.998595   \n",
       "1      0.896387      0.005966      0.002376      0.803510      0.997370   \n",
       "2      0.836931      0.007577      0.002293      0.700453      0.997737   \n",
       "3      0.827733      0.006923      0.002005      0.685142      0.999250   \n",
       "4      0.827499      0.006612      0.001912      0.684755      0.996507   \n",
       "\n",
       "           y  \n",
       "ID            \n",
       "0      HOROZ  \n",
       "1      SEKER  \n",
       "2   DERMASON  \n",
       "3   DERMASON  \n",
       "4       SIRA  "
      ]
     },
     "execution_count": 36,
     "metadata": {},
     "output_type": "execute_result"
    }
   ],
   "source": [
    "data.head()"
   ]
  },
  {
   "cell_type": "code",
   "execution_count": 37,
   "id": "857ef7e6",
   "metadata": {
    "execution": {
     "iopub.execute_input": "2022-05-30T13:13:37.174269Z",
     "iopub.status.busy": "2022-05-30T13:13:37.173713Z",
     "iopub.status.idle": "2022-05-30T13:13:37.203062Z",
     "shell.execute_reply": "2022-05-30T13:13:37.201946Z"
    },
    "papermill": {
     "duration": 0.079628,
     "end_time": "2022-05-30T13:13:37.206104",
     "exception": false,
     "start_time": "2022-05-30T13:13:37.126476",
     "status": "completed"
    },
    "tags": []
   },
   "outputs": [
    {
     "data": {
      "text/html": [
       "<div>\n",
       "<style scoped>\n",
       "    .dataframe tbody tr th:only-of-type {\n",
       "        vertical-align: middle;\n",
       "    }\n",
       "\n",
       "    .dataframe tbody tr th {\n",
       "        vertical-align: top;\n",
       "    }\n",
       "\n",
       "    .dataframe thead th {\n",
       "        text-align: right;\n",
       "    }\n",
       "</style>\n",
       "<table border=\"1\" class=\"dataframe\">\n",
       "  <thead>\n",
       "    <tr style=\"text-align: right;\">\n",
       "      <th></th>\n",
       "      <th>Area</th>\n",
       "      <th>Perimeter</th>\n",
       "      <th>MajorAxisLength</th>\n",
       "      <th>MinorAxisLength</th>\n",
       "      <th>AspectRation</th>\n",
       "      <th>Eccentricity</th>\n",
       "      <th>ConvexArea</th>\n",
       "      <th>EquivDiameter</th>\n",
       "      <th>Extent</th>\n",
       "      <th>Solidity</th>\n",
       "      <th>roundness</th>\n",
       "      <th>Compactness</th>\n",
       "      <th>ShapeFactor1</th>\n",
       "      <th>ShapeFactor2</th>\n",
       "      <th>ShapeFactor3</th>\n",
       "      <th>ShapeFactor4</th>\n",
       "      <th>y</th>\n",
       "    </tr>\n",
       "    <tr>\n",
       "      <th>ID</th>\n",
       "      <th></th>\n",
       "      <th></th>\n",
       "      <th></th>\n",
       "      <th></th>\n",
       "      <th></th>\n",
       "      <th></th>\n",
       "      <th></th>\n",
       "      <th></th>\n",
       "      <th></th>\n",
       "      <th></th>\n",
       "      <th></th>\n",
       "      <th></th>\n",
       "      <th></th>\n",
       "      <th></th>\n",
       "      <th></th>\n",
       "      <th></th>\n",
       "      <th></th>\n",
       "    </tr>\n",
       "  </thead>\n",
       "  <tbody>\n",
       "    <tr>\n",
       "      <th>0</th>\n",
       "      <td>58238</td>\n",
       "      <td>971.303</td>\n",
       "      <td>397.202654</td>\n",
       "      <td>186.945510</td>\n",
       "      <td>2.124697</td>\n",
       "      <td>0.882317</td>\n",
       "      <td>58977</td>\n",
       "      <td>272.306674</td>\n",
       "      <td>0.604756</td>\n",
       "      <td>0.987470</td>\n",
       "      <td>0.775723</td>\n",
       "      <td>0.685561</td>\n",
       "      <td>0.006820</td>\n",
       "      <td>0.000929</td>\n",
       "      <td>0.469994</td>\n",
       "      <td>0.998595</td>\n",
       "      <td>0</td>\n",
       "    </tr>\n",
       "    <tr>\n",
       "      <th>1</th>\n",
       "      <td>44515</td>\n",
       "      <td>757.601</td>\n",
       "      <td>265.590470</td>\n",
       "      <td>213.967453</td>\n",
       "      <td>1.241266</td>\n",
       "      <td>0.592420</td>\n",
       "      <td>44780</td>\n",
       "      <td>238.071960</td>\n",
       "      <td>0.771745</td>\n",
       "      <td>0.994082</td>\n",
       "      <td>0.974620</td>\n",
       "      <td>0.896387</td>\n",
       "      <td>0.005966</td>\n",
       "      <td>0.002376</td>\n",
       "      <td>0.803510</td>\n",
       "      <td>0.997370</td>\n",
       "      <td>1</td>\n",
       "    </tr>\n",
       "    <tr>\n",
       "      <th>2</th>\n",
       "      <td>31662</td>\n",
       "      <td>653.783</td>\n",
       "      <td>239.902428</td>\n",
       "      <td>168.421505</td>\n",
       "      <td>1.424417</td>\n",
       "      <td>0.712136</td>\n",
       "      <td>32034</td>\n",
       "      <td>200.781748</td>\n",
       "      <td>0.801407</td>\n",
       "      <td>0.988387</td>\n",
       "      <td>0.930853</td>\n",
       "      <td>0.836931</td>\n",
       "      <td>0.007577</td>\n",
       "      <td>0.002293</td>\n",
       "      <td>0.700453</td>\n",
       "      <td>0.997737</td>\n",
       "      <td>2</td>\n",
       "    </tr>\n",
       "    <tr>\n",
       "      <th>3</th>\n",
       "      <td>38778</td>\n",
       "      <td>734.020</td>\n",
       "      <td>268.446281</td>\n",
       "      <td>184.061923</td>\n",
       "      <td>1.458456</td>\n",
       "      <td>0.727925</td>\n",
       "      <td>39208</td>\n",
       "      <td>222.201897</td>\n",
       "      <td>0.766137</td>\n",
       "      <td>0.989033</td>\n",
       "      <td>0.904439</td>\n",
       "      <td>0.827733</td>\n",
       "      <td>0.006923</td>\n",
       "      <td>0.002005</td>\n",
       "      <td>0.685142</td>\n",
       "      <td>0.999250</td>\n",
       "      <td>2</td>\n",
       "    </tr>\n",
       "    <tr>\n",
       "      <th>4</th>\n",
       "      <td>42530</td>\n",
       "      <td>775.403</td>\n",
       "      <td>281.212824</td>\n",
       "      <td>193.236878</td>\n",
       "      <td>1.455275</td>\n",
       "      <td>0.726511</td>\n",
       "      <td>43028</td>\n",
       "      <td>232.703412</td>\n",
       "      <td>0.729816</td>\n",
       "      <td>0.988426</td>\n",
       "      <td>0.888895</td>\n",
       "      <td>0.827499</td>\n",
       "      <td>0.006612</td>\n",
       "      <td>0.001912</td>\n",
       "      <td>0.684755</td>\n",
       "      <td>0.996507</td>\n",
       "      <td>3</td>\n",
       "    </tr>\n",
       "  </tbody>\n",
       "</table>\n",
       "</div>"
      ],
      "text/plain": [
       "     Area  Perimeter  MajorAxisLength  MinorAxisLength  AspectRation  \\\n",
       "ID                                                                     \n",
       "0   58238    971.303       397.202654       186.945510      2.124697   \n",
       "1   44515    757.601       265.590470       213.967453      1.241266   \n",
       "2   31662    653.783       239.902428       168.421505      1.424417   \n",
       "3   38778    734.020       268.446281       184.061923      1.458456   \n",
       "4   42530    775.403       281.212824       193.236878      1.455275   \n",
       "\n",
       "    Eccentricity  ConvexArea  EquivDiameter    Extent  Solidity  roundness  \\\n",
       "ID                                                                           \n",
       "0       0.882317       58977     272.306674  0.604756  0.987470   0.775723   \n",
       "1       0.592420       44780     238.071960  0.771745  0.994082   0.974620   \n",
       "2       0.712136       32034     200.781748  0.801407  0.988387   0.930853   \n",
       "3       0.727925       39208     222.201897  0.766137  0.989033   0.904439   \n",
       "4       0.726511       43028     232.703412  0.729816  0.988426   0.888895   \n",
       "\n",
       "    Compactness  ShapeFactor1  ShapeFactor2  ShapeFactor3  ShapeFactor4  y  \n",
       "ID                                                                          \n",
       "0      0.685561      0.006820      0.000929      0.469994      0.998595  0  \n",
       "1      0.896387      0.005966      0.002376      0.803510      0.997370  1  \n",
       "2      0.836931      0.007577      0.002293      0.700453      0.997737  2  \n",
       "3      0.827733      0.006923      0.002005      0.685142      0.999250  2  \n",
       "4      0.827499      0.006612      0.001912      0.684755      0.996507  3  "
      ]
     },
     "execution_count": 37,
     "metadata": {},
     "output_type": "execute_result"
    }
   ],
   "source": [
    "# # creating an instance of label encoder\n",
    "# labelencoder=LabelEncoder()\n",
    "\n",
    "# data['y']=labelencoder.fit_transform(data['y'])\n",
    "\n",
    "data['y'] = data['y'].map({'HOROZ':0, 'SEKER':1, 'DERMASON':2, 'SIRA':3, 'BARBUNYA':4, 'CALI':5, 'BOMBAY':6})\n",
    "\n",
    "data.head()"
   ]
  },
  {
   "cell_type": "code",
   "execution_count": 38,
   "id": "84d1a17d",
   "metadata": {
    "execution": {
     "iopub.execute_input": "2022-05-30T13:13:37.296373Z",
     "iopub.status.busy": "2022-05-30T13:13:37.294638Z",
     "iopub.status.idle": "2022-05-30T13:13:37.305026Z",
     "shell.execute_reply": "2022-05-30T13:13:37.303895Z"
    },
    "papermill": {
     "duration": 0.057266,
     "end_time": "2022-05-30T13:13:37.307833",
     "exception": false,
     "start_time": "2022-05-30T13:13:37.250567",
     "status": "completed"
    },
    "tags": []
   },
   "outputs": [
    {
     "data": {
      "text/plain": [
       "array([0, 1, 2, 3, 4, 5, 6])"
      ]
     },
     "execution_count": 38,
     "metadata": {},
     "output_type": "execute_result"
    }
   ],
   "source": [
    "data[\"y\"].unique()"
   ]
  },
  {
   "cell_type": "markdown",
   "id": "abe1673e",
   "metadata": {
    "papermill": {
     "duration": 0.044925,
     "end_time": "2022-05-30T13:13:37.398238",
     "exception": false,
     "start_time": "2022-05-30T13:13:37.353313",
     "status": "completed"
    },
    "tags": []
   },
   "source": [
    "# Feature Engineering"
   ]
  },
  {
   "cell_type": "code",
   "execution_count": 39,
   "id": "875304b0",
   "metadata": {
    "execution": {
     "iopub.execute_input": "2022-05-30T13:13:37.494099Z",
     "iopub.status.busy": "2022-05-30T13:13:37.493073Z",
     "iopub.status.idle": "2022-05-30T13:13:37.498885Z",
     "shell.execute_reply": "2022-05-30T13:13:37.497894Z"
    },
    "papermill": {
     "duration": 0.058452,
     "end_time": "2022-05-30T13:13:37.501546",
     "exception": false,
     "start_time": "2022-05-30T13:13:37.443094",
     "status": "completed"
    },
    "tags": []
   },
   "outputs": [],
   "source": [
    "# data['ShapeFactor5'] = data['MajorAxisLength'] / data['Perimeter']\n",
    "# data['Bounding_rectangular_area'] = data['Area']/data['Extent']\n",
    "# data['elipse_area']= np.pi* data['MajorAxisLength']*data['MinorAxisLength']/4\n",
    "# data['perimeter']= 2*np.pi * np.sqrt(((0.5*data['MajorAxisLength'])**2+(0.5*data['MinorAxisLength'])**2)/2)\n",
    "# data['area_diff']= data['elipse_area']-data['Area']\n",
    "# data['perimeter_diff']= data['perimeter']-data['Perimeter']"
   ]
  },
  {
   "cell_type": "code",
   "execution_count": 40,
   "id": "14ff51a0",
   "metadata": {
    "execution": {
     "iopub.execute_input": "2022-05-30T13:13:37.598618Z",
     "iopub.status.busy": "2022-05-30T13:13:37.597677Z",
     "iopub.status.idle": "2022-05-30T13:13:37.607674Z",
     "shell.execute_reply": "2022-05-30T13:13:37.606159Z"
    },
    "papermill": {
     "duration": 0.061526,
     "end_time": "2022-05-30T13:13:37.610558",
     "exception": false,
     "start_time": "2022-05-30T13:13:37.549032",
     "status": "completed"
    },
    "tags": []
   },
   "outputs": [],
   "source": [
    "x_train=data.drop(\"y\",axis=1)\n",
    "y_train=data[\"y\"]"
   ]
  },
  {
   "cell_type": "code",
   "execution_count": 41,
   "id": "da11ebdd",
   "metadata": {
    "execution": {
     "iopub.execute_input": "2022-05-30T13:13:37.704933Z",
     "iopub.status.busy": "2022-05-30T13:13:37.703997Z",
     "iopub.status.idle": "2022-05-30T13:13:37.712358Z",
     "shell.execute_reply": "2022-05-30T13:13:37.710960Z"
    },
    "papermill": {
     "duration": 0.060651,
     "end_time": "2022-05-30T13:13:37.715734",
     "exception": false,
     "start_time": "2022-05-30T13:13:37.655083",
     "status": "completed"
    },
    "tags": []
   },
   "outputs": [
    {
     "data": {
      "text/plain": [
       "(10834, 16)"
      ]
     },
     "execution_count": 41,
     "metadata": {},
     "output_type": "execute_result"
    }
   ],
   "source": [
    "x_train.shape"
   ]
  },
  {
   "cell_type": "code",
   "execution_count": 42,
   "id": "c7db3928",
   "metadata": {
    "execution": {
     "iopub.execute_input": "2022-05-30T13:13:37.805894Z",
     "iopub.status.busy": "2022-05-30T13:13:37.805393Z",
     "iopub.status.idle": "2022-05-30T13:13:37.813157Z",
     "shell.execute_reply": "2022-05-30T13:13:37.812025Z"
    },
    "papermill": {
     "duration": 0.055501,
     "end_time": "2022-05-30T13:13:37.815688",
     "exception": false,
     "start_time": "2022-05-30T13:13:37.760187",
     "status": "completed"
    },
    "tags": []
   },
   "outputs": [
    {
     "data": {
      "text/plain": [
       "(10834,)"
      ]
     },
     "execution_count": 42,
     "metadata": {},
     "output_type": "execute_result"
    }
   ],
   "source": [
    "y_train.shape"
   ]
  },
  {
   "cell_type": "markdown",
   "id": "7edb7478",
   "metadata": {
    "papermill": {
     "duration": 0.04368,
     "end_time": "2022-05-30T13:13:37.903259",
     "exception": false,
     "start_time": "2022-05-30T13:13:37.859579",
     "status": "completed"
    },
    "tags": []
   },
   "source": [
    "# Treating Imbalanced Data"
   ]
  },
  {
   "cell_type": "code",
   "execution_count": 43,
   "id": "534a8f46",
   "metadata": {
    "execution": {
     "iopub.execute_input": "2022-05-30T13:13:37.998202Z",
     "iopub.status.busy": "2022-05-30T13:13:37.997662Z",
     "iopub.status.idle": "2022-05-30T13:13:40.504108Z",
     "shell.execute_reply": "2022-05-30T13:13:40.503108Z"
    },
    "papermill": {
     "duration": 2.557911,
     "end_time": "2022-05-30T13:13:40.506517",
     "exception": false,
     "start_time": "2022-05-30T13:13:37.948606",
     "status": "completed"
    },
    "tags": []
   },
   "outputs": [
    {
     "name": "stdout",
     "output_type": "stream",
     "text": [
      "(10834, 16)\n",
      "(10834,)\n",
      "2    2837\n",
      "3    2109\n",
      "1    1621\n",
      "0    1488\n",
      "5    1304\n",
      "4    1057\n",
      "6     418\n",
      "Name: y, dtype: int64\n",
      "(13097, 16)\n",
      "(13097,)\n",
      "2    3000\n",
      "3    2109\n",
      "1    2000\n",
      "5    1900\n",
      "0    1488\n",
      "4    1300\n",
      "6    1300\n",
      "Name: y, dtype: int64\n"
     ]
    }
   ],
   "source": [
    "print(x_train.shape)\n",
    "print(y_train.shape)\n",
    "print(y_train.value_counts())\n",
    "oversample = BorderlineSMOTE(sampling_strategy={2:3000,6:1300,4:1300,1:2000,5:1900},random_state = 465)\n",
    "x_train,y_train = oversample.fit_resample(x_train,y_train)\n",
    "print(x_train.shape)\n",
    "print(y_train.shape)\n",
    "print(y_train.value_counts())"
   ]
  },
  {
   "cell_type": "code",
   "execution_count": 44,
   "id": "e89b369d",
   "metadata": {
    "execution": {
     "iopub.execute_input": "2022-05-30T13:13:40.598744Z",
     "iopub.status.busy": "2022-05-30T13:13:40.597953Z",
     "iopub.status.idle": "2022-05-30T13:13:40.622602Z",
     "shell.execute_reply": "2022-05-30T13:13:40.621716Z"
    },
    "papermill": {
     "duration": 0.073443,
     "end_time": "2022-05-30T13:13:40.625025",
     "exception": false,
     "start_time": "2022-05-30T13:13:40.551582",
     "status": "completed"
    },
    "tags": []
   },
   "outputs": [
    {
     "data": {
      "text/html": [
       "<div>\n",
       "<style scoped>\n",
       "    .dataframe tbody tr th:only-of-type {\n",
       "        vertical-align: middle;\n",
       "    }\n",
       "\n",
       "    .dataframe tbody tr th {\n",
       "        vertical-align: top;\n",
       "    }\n",
       "\n",
       "    .dataframe thead th {\n",
       "        text-align: right;\n",
       "    }\n",
       "</style>\n",
       "<table border=\"1\" class=\"dataframe\">\n",
       "  <thead>\n",
       "    <tr style=\"text-align: right;\">\n",
       "      <th></th>\n",
       "      <th>Area</th>\n",
       "      <th>Perimeter</th>\n",
       "      <th>MajorAxisLength</th>\n",
       "      <th>MinorAxisLength</th>\n",
       "      <th>AspectRation</th>\n",
       "      <th>Eccentricity</th>\n",
       "      <th>ConvexArea</th>\n",
       "      <th>EquivDiameter</th>\n",
       "      <th>Extent</th>\n",
       "      <th>Solidity</th>\n",
       "      <th>roundness</th>\n",
       "      <th>Compactness</th>\n",
       "      <th>ShapeFactor1</th>\n",
       "      <th>ShapeFactor2</th>\n",
       "      <th>ShapeFactor3</th>\n",
       "      <th>ShapeFactor4</th>\n",
       "      <th>y</th>\n",
       "    </tr>\n",
       "  </thead>\n",
       "  <tbody>\n",
       "    <tr>\n",
       "      <th>0</th>\n",
       "      <td>58238</td>\n",
       "      <td>971.303</td>\n",
       "      <td>397.202654</td>\n",
       "      <td>186.945510</td>\n",
       "      <td>2.124697</td>\n",
       "      <td>0.882317</td>\n",
       "      <td>58977</td>\n",
       "      <td>272.306674</td>\n",
       "      <td>0.604756</td>\n",
       "      <td>0.987470</td>\n",
       "      <td>0.775723</td>\n",
       "      <td>0.685561</td>\n",
       "      <td>0.006820</td>\n",
       "      <td>0.000929</td>\n",
       "      <td>0.469994</td>\n",
       "      <td>0.998595</td>\n",
       "      <td>0</td>\n",
       "    </tr>\n",
       "    <tr>\n",
       "      <th>1</th>\n",
       "      <td>44515</td>\n",
       "      <td>757.601</td>\n",
       "      <td>265.590470</td>\n",
       "      <td>213.967453</td>\n",
       "      <td>1.241266</td>\n",
       "      <td>0.592420</td>\n",
       "      <td>44780</td>\n",
       "      <td>238.071960</td>\n",
       "      <td>0.771745</td>\n",
       "      <td>0.994082</td>\n",
       "      <td>0.974620</td>\n",
       "      <td>0.896387</td>\n",
       "      <td>0.005966</td>\n",
       "      <td>0.002376</td>\n",
       "      <td>0.803510</td>\n",
       "      <td>0.997370</td>\n",
       "      <td>1</td>\n",
       "    </tr>\n",
       "    <tr>\n",
       "      <th>2</th>\n",
       "      <td>31662</td>\n",
       "      <td>653.783</td>\n",
       "      <td>239.902428</td>\n",
       "      <td>168.421505</td>\n",
       "      <td>1.424417</td>\n",
       "      <td>0.712136</td>\n",
       "      <td>32034</td>\n",
       "      <td>200.781748</td>\n",
       "      <td>0.801407</td>\n",
       "      <td>0.988387</td>\n",
       "      <td>0.930853</td>\n",
       "      <td>0.836931</td>\n",
       "      <td>0.007577</td>\n",
       "      <td>0.002293</td>\n",
       "      <td>0.700453</td>\n",
       "      <td>0.997737</td>\n",
       "      <td>2</td>\n",
       "    </tr>\n",
       "    <tr>\n",
       "      <th>3</th>\n",
       "      <td>38778</td>\n",
       "      <td>734.020</td>\n",
       "      <td>268.446281</td>\n",
       "      <td>184.061923</td>\n",
       "      <td>1.458456</td>\n",
       "      <td>0.727925</td>\n",
       "      <td>39208</td>\n",
       "      <td>222.201897</td>\n",
       "      <td>0.766137</td>\n",
       "      <td>0.989033</td>\n",
       "      <td>0.904439</td>\n",
       "      <td>0.827733</td>\n",
       "      <td>0.006923</td>\n",
       "      <td>0.002005</td>\n",
       "      <td>0.685142</td>\n",
       "      <td>0.999250</td>\n",
       "      <td>2</td>\n",
       "    </tr>\n",
       "    <tr>\n",
       "      <th>4</th>\n",
       "      <td>42530</td>\n",
       "      <td>775.403</td>\n",
       "      <td>281.212824</td>\n",
       "      <td>193.236878</td>\n",
       "      <td>1.455275</td>\n",
       "      <td>0.726511</td>\n",
       "      <td>43028</td>\n",
       "      <td>232.703412</td>\n",
       "      <td>0.729816</td>\n",
       "      <td>0.988426</td>\n",
       "      <td>0.888895</td>\n",
       "      <td>0.827499</td>\n",
       "      <td>0.006612</td>\n",
       "      <td>0.001912</td>\n",
       "      <td>0.684755</td>\n",
       "      <td>0.996507</td>\n",
       "      <td>3</td>\n",
       "    </tr>\n",
       "  </tbody>\n",
       "</table>\n",
       "</div>"
      ],
      "text/plain": [
       "    Area  Perimeter  MajorAxisLength  MinorAxisLength  AspectRation  \\\n",
       "0  58238    971.303       397.202654       186.945510      2.124697   \n",
       "1  44515    757.601       265.590470       213.967453      1.241266   \n",
       "2  31662    653.783       239.902428       168.421505      1.424417   \n",
       "3  38778    734.020       268.446281       184.061923      1.458456   \n",
       "4  42530    775.403       281.212824       193.236878      1.455275   \n",
       "\n",
       "   Eccentricity  ConvexArea  EquivDiameter    Extent  Solidity  roundness  \\\n",
       "0      0.882317       58977     272.306674  0.604756  0.987470   0.775723   \n",
       "1      0.592420       44780     238.071960  0.771745  0.994082   0.974620   \n",
       "2      0.712136       32034     200.781748  0.801407  0.988387   0.930853   \n",
       "3      0.727925       39208     222.201897  0.766137  0.989033   0.904439   \n",
       "4      0.726511       43028     232.703412  0.729816  0.988426   0.888895   \n",
       "\n",
       "   Compactness  ShapeFactor1  ShapeFactor2  ShapeFactor3  ShapeFactor4  y  \n",
       "0     0.685561      0.006820      0.000929      0.469994      0.998595  0  \n",
       "1     0.896387      0.005966      0.002376      0.803510      0.997370  1  \n",
       "2     0.836931      0.007577      0.002293      0.700453      0.997737  2  \n",
       "3     0.827733      0.006923      0.002005      0.685142      0.999250  2  \n",
       "4     0.827499      0.006612      0.001912      0.684755      0.996507  3  "
      ]
     },
     "execution_count": 44,
     "metadata": {},
     "output_type": "execute_result"
    }
   ],
   "source": [
    "dt=x_train.copy()\n",
    "dt[\"y\"]=y_train\n",
    "dt.head()"
   ]
  },
  {
   "cell_type": "code",
   "execution_count": 45,
   "id": "9af02acf",
   "metadata": {
    "execution": {
     "iopub.execute_input": "2022-05-30T13:13:40.717469Z",
     "iopub.status.busy": "2022-05-30T13:13:40.716611Z",
     "iopub.status.idle": "2022-05-30T13:13:41.019498Z",
     "shell.execute_reply": "2022-05-30T13:13:41.017749Z"
    },
    "papermill": {
     "duration": 0.352958,
     "end_time": "2022-05-30T13:13:41.022247",
     "exception": false,
     "start_time": "2022-05-30T13:13:40.669289",
     "status": "completed"
    },
    "tags": []
   },
   "outputs": [
    {
     "data": {
      "image/png": "[encoded data removed]",
      "text/plain": [
       "<Figure size 360x360 with 1 Axes>"
      ]
     },
     "metadata": {
      "needs_background": "light"
     },
     "output_type": "display_data"
    }
   ],
   "source": [
    "sns.catplot(data = dt,x='y',kind='count',orient='v')\n",
    "plt.show()"
   ]
  },
  {
   "cell_type": "markdown",
   "id": "7ac0ba16",
   "metadata": {
    "papermill": {
     "duration": 0.046625,
     "end_time": "2022-05-30T13:13:41.116035",
     "exception": false,
     "start_time": "2022-05-30T13:13:41.069410",
     "status": "completed"
    },
    "tags": []
   },
   "source": [
    "# scaler dataset"
   ]
  },
  {
   "cell_type": "code",
   "execution_count": 46,
   "id": "2388facf",
   "metadata": {
    "execution": {
     "iopub.execute_input": "2022-05-30T13:13:41.209060Z",
     "iopub.status.busy": "2022-05-30T13:13:41.208437Z",
     "iopub.status.idle": "2022-05-30T13:13:41.485017Z",
     "shell.execute_reply": "2022-05-30T13:13:41.484005Z"
    },
    "papermill": {
     "duration": 0.326767,
     "end_time": "2022-05-30T13:13:41.488330",
     "exception": false,
     "start_time": "2022-05-30T13:13:41.161563",
     "status": "completed"
    },
    "tags": []
   },
   "outputs": [],
   "source": [
    "power=PowerTransformer()\n",
    "x_train=power.fit_transform(x_train)\n",
    "x_train=pd.DataFrame(x_train,columns=dt.columns.drop(\"y\"))"
   ]
  },
  {
   "cell_type": "code",
   "execution_count": 47,
   "id": "580231ad",
   "metadata": {
    "execution": {
     "iopub.execute_input": "2022-05-30T13:13:41.579589Z",
     "iopub.status.busy": "2022-05-30T13:13:41.578732Z",
     "iopub.status.idle": "2022-05-30T13:13:41.603142Z",
     "shell.execute_reply": "2022-05-30T13:13:41.601961Z"
    },
    "papermill": {
     "duration": 0.07326,
     "end_time": "2022-05-30T13:13:41.605490",
     "exception": false,
     "start_time": "2022-05-30T13:13:41.532230",
     "status": "completed"
    },
    "tags": []
   },
   "outputs": [
    {
     "data": {
      "text/html": [
       "<div>\n",
       "<style scoped>\n",
       "    .dataframe tbody tr th:only-of-type {\n",
       "        vertical-align: middle;\n",
       "    }\n",
       "\n",
       "    .dataframe tbody tr th {\n",
       "        vertical-align: top;\n",
       "    }\n",
       "\n",
       "    .dataframe thead th {\n",
       "        text-align: right;\n",
       "    }\n",
       "</style>\n",
       "<table border=\"1\" class=\"dataframe\">\n",
       "  <thead>\n",
       "    <tr style=\"text-align: right;\">\n",
       "      <th></th>\n",
       "      <th>Area</th>\n",
       "      <th>Perimeter</th>\n",
       "      <th>MajorAxisLength</th>\n",
       "      <th>MinorAxisLength</th>\n",
       "      <th>AspectRation</th>\n",
       "      <th>Eccentricity</th>\n",
       "      <th>ConvexArea</th>\n",
       "      <th>EquivDiameter</th>\n",
       "      <th>Extent</th>\n",
       "      <th>Solidity</th>\n",
       "      <th>roundness</th>\n",
       "      <th>Compactness</th>\n",
       "      <th>ShapeFactor1</th>\n",
       "      <th>ShapeFactor2</th>\n",
       "      <th>ShapeFactor3</th>\n",
       "      <th>ShapeFactor4</th>\n",
       "    </tr>\n",
       "  </thead>\n",
       "  <tbody>\n",
       "    <tr>\n",
       "      <th>0</th>\n",
       "      <td>0.413823</td>\n",
       "      <td>0.600152</td>\n",
       "      <td>0.885130</td>\n",
       "      <td>-0.375856</td>\n",
       "      <td>2.001553</td>\n",
       "      <td>1.924651</td>\n",
       "      <td>0.412441</td>\n",
       "      <td>0.413862</td>\n",
       "      <td>-2.256128</td>\n",
       "      <td>-0.220451</td>\n",
       "      <td>-1.586207</td>\n",
       "      <td>-1.956998</td>\n",
       "      <td>0.346179</td>\n",
       "      <td>-1.422762</td>\n",
       "      <td>-1.951780</td>\n",
       "      <td>1.246142</td>\n",
       "    </tr>\n",
       "    <tr>\n",
       "      <th>1</th>\n",
       "      <td>-0.227893</td>\n",
       "      <td>-0.484723</td>\n",
       "      <td>-0.715682</td>\n",
       "      <td>0.339381</td>\n",
       "      <td>-1.511355</td>\n",
       "      <td>-1.529928</td>\n",
       "      <td>-0.245325</td>\n",
       "      <td>-0.228005</td>\n",
       "      <td>0.362909</td>\n",
       "      <td>2.862272</td>\n",
       "      <td>2.128705</td>\n",
       "      <td>1.503393</td>\n",
       "      <td>-0.354109</td>\n",
       "      <td>1.179096</td>\n",
       "      <td>1.503775</td>\n",
       "      <td>0.604118</td>\n",
       "    </tr>\n",
       "    <tr>\n",
       "      <th>2</th>\n",
       "      <td>-1.238398</td>\n",
       "      <td>-1.285712</td>\n",
       "      <td>-1.202817</td>\n",
       "      <td>-1.056468</td>\n",
       "      <td>-0.520365</td>\n",
       "      <td>-0.515127</td>\n",
       "      <td>-1.238409</td>\n",
       "      <td>-1.238430</td>\n",
       "      <td>1.261812</td>\n",
       "      <td>0.065594</td>\n",
       "      <td>1.027009</td>\n",
       "      <td>0.525345</td>\n",
       "      <td>1.038457</td>\n",
       "      <td>1.070093</td>\n",
       "      <td>0.525301</td>\n",
       "      <td>0.783368</td>\n",
       "    </tr>\n",
       "    <tr>\n",
       "      <th>3</th>\n",
       "      <td>-0.607994</td>\n",
       "      <td>-0.645647</td>\n",
       "      <td>-0.666590</td>\n",
       "      <td>-0.469563</td>\n",
       "      <td>-0.356091</td>\n",
       "      <td>-0.344661</td>\n",
       "      <td>-0.611452</td>\n",
       "      <td>-0.608130</td>\n",
       "      <td>0.213245</td>\n",
       "      <td>0.288406</td>\n",
       "      <td>0.452026</td>\n",
       "      <td>0.374193</td>\n",
       "      <td>0.435668</td>\n",
       "      <td>0.658628</td>\n",
       "      <td>0.373763</td>\n",
       "      <td>1.646114</td>\n",
       "    </tr>\n",
       "    <tr>\n",
       "      <th>4</th>\n",
       "      <td>-0.349476</td>\n",
       "      <td>-0.370089</td>\n",
       "      <td>-0.457846</td>\n",
       "      <td>-0.184600</td>\n",
       "      <td>-0.371206</td>\n",
       "      <td>-0.360332</td>\n",
       "      <td>-0.351707</td>\n",
       "      <td>-0.349602</td>\n",
       "      <td>-0.622538</td>\n",
       "      <td>0.078463</td>\n",
       "      <td>0.142130</td>\n",
       "      <td>0.370350</td>\n",
       "      <td>0.167849</td>\n",
       "      <td>0.516078</td>\n",
       "      <td>0.369909</td>\n",
       "      <td>0.223300</td>\n",
       "    </tr>\n",
       "  </tbody>\n",
       "</table>\n",
       "</div>"
      ],
      "text/plain": [
       "       Area  Perimeter  MajorAxisLength  MinorAxisLength  AspectRation  \\\n",
       "0  0.413823   0.600152         0.885130        -0.375856      2.001553   \n",
       "1 -0.227893  -0.484723        -0.715682         0.339381     -1.511355   \n",
       "2 -1.238398  -1.285712        -1.202817        -1.056468     -0.520365   \n",
       "3 -0.607994  -0.645647        -0.666590        -0.469563     -0.356091   \n",
       "4 -0.349476  -0.370089        -0.457846        -0.184600     -0.371206   \n",
       "\n",
       "   Eccentricity  ConvexArea  EquivDiameter    Extent  Solidity  roundness  \\\n",
       "0      1.924651    0.412441       0.413862 -2.256128 -0.220451  -1.586207   \n",
       "1     -1.529928   -0.245325      -0.228005  0.362909  2.862272   2.128705   \n",
       "2     -0.515127   -1.238409      -1.238430  1.261812  0.065594   1.027009   \n",
       "3     -0.344661   -0.611452      -0.608130  0.213245  0.288406   0.452026   \n",
       "4     -0.360332   -0.351707      -0.349602 -0.622538  0.078463   0.142130   \n",
       "\n",
       "   Compactness  ShapeFactor1  ShapeFactor2  ShapeFactor3  ShapeFactor4  \n",
       "0    -1.956998      0.346179     -1.422762     -1.951780      1.246142  \n",
       "1     1.503393     -0.354109      1.179096      1.503775      0.604118  \n",
       "2     0.525345      1.038457      1.070093      0.525301      0.783368  \n",
       "3     0.374193      0.435668      0.658628      0.373763      1.646114  \n",
       "4     0.370350      0.167849      0.516078      0.369909      0.223300  "
      ]
     },
     "execution_count": 47,
     "metadata": {},
     "output_type": "execute_result"
    }
   ],
   "source": [
    "x_train.head()"
   ]
  },
  {
   "cell_type": "markdown",
   "id": "2b0158ed",
   "metadata": {
    "papermill": {
     "duration": 0.043595,
     "end_time": "2022-05-30T13:13:41.694124",
     "exception": false,
     "start_time": "2022-05-30T13:13:41.650529",
     "status": "completed"
    },
    "tags": []
   },
   "source": [
    "# drop some features"
   ]
  },
  {
   "cell_type": "code",
   "execution_count": 48,
   "id": "c0c56a8e",
   "metadata": {
    "execution": {
     "iopub.execute_input": "2022-05-30T13:13:41.790412Z",
     "iopub.status.busy": "2022-05-30T13:13:41.789620Z",
     "iopub.status.idle": "2022-05-30T13:13:41.797519Z",
     "shell.execute_reply": "2022-05-30T13:13:41.796379Z"
    },
    "papermill": {
     "duration": 0.060792,
     "end_time": "2022-05-30T13:13:41.800187",
     "exception": false,
     "start_time": "2022-05-30T13:13:41.739395",
     "status": "completed"
    },
    "tags": []
   },
   "outputs": [],
   "source": [
    "x_train.drop(['AspectRation','Eccentricity'],axis=1,inplace=True)"
   ]
  },
  {
   "cell_type": "code",
   "execution_count": 49,
   "id": "98f3f003",
   "metadata": {
    "execution": {
     "iopub.execute_input": "2022-05-30T13:13:41.893480Z",
     "iopub.status.busy": "2022-05-30T13:13:41.892734Z",
     "iopub.status.idle": "2022-05-30T13:13:41.900016Z",
     "shell.execute_reply": "2022-05-30T13:13:41.898954Z"
    },
    "papermill": {
     "duration": 0.057037,
     "end_time": "2022-05-30T13:13:41.902778",
     "exception": false,
     "start_time": "2022-05-30T13:13:41.845741",
     "status": "completed"
    },
    "tags": []
   },
   "outputs": [
    {
     "data": {
      "text/plain": [
       "(13097, 14)"
      ]
     },
     "execution_count": 49,
     "metadata": {},
     "output_type": "execute_result"
    }
   ],
   "source": [
    "x_train.shape"
   ]
  },
  {
   "cell_type": "markdown",
   "id": "6ef99506",
   "metadata": {
    "papermill": {
     "duration": 0.092455,
     "end_time": "2022-05-30T13:13:42.040830",
     "exception": false,
     "start_time": "2022-05-30T13:13:41.948375",
     "status": "completed"
    },
    "tags": []
   },
   "source": [
    "# Models"
   ]
  },
  {
   "cell_type": "markdown",
   "id": "4d1f1cb1",
   "metadata": {
    "papermill": {
     "duration": 0.045543,
     "end_time": "2022-05-30T13:13:42.130499",
     "exception": false,
     "start_time": "2022-05-30T13:13:42.084956",
     "status": "completed"
    },
    "tags": []
   },
   "source": [
    "# SVC"
   ]
  },
  {
   "cell_type": "code",
   "execution_count": 50,
   "id": "945c708f",
   "metadata": {
    "execution": {
     "iopub.execute_input": "2022-05-30T13:13:42.225420Z",
     "iopub.status.busy": "2022-05-30T13:13:42.224560Z",
     "iopub.status.idle": "2022-05-30T13:13:42.230060Z",
     "shell.execute_reply": "2022-05-30T13:13:42.229054Z"
    },
    "papermill": {
     "duration": 0.058146,
     "end_time": "2022-05-30T13:13:42.233225",
     "exception": false,
     "start_time": "2022-05-30T13:13:42.175079",
     "status": "completed"
    },
    "tags": []
   },
   "outputs": [],
   "source": [
    "# svc_model = SVC(C=1.0, kernel='rbf', max_iter=-1, random_state=42, decision_function_shape='ovo', gamma=0.20)\n",
    "\n",
    "# svc_model.fit(x_train, y_train)\n",
    "\n",
    "# predictions_SVC = svc_model.predict(x_train)\n",
    "# print('Mean_F1_score', f1_score(y_train, predictions_SVC, average='micro'))\n",
    "# print(\"Classification Report: \\n\", classification_report(y_train, predictions_SVC))"
   ]
  },
  {
   "cell_type": "code",
   "execution_count": 51,
   "id": "b849d7b6",
   "metadata": {
    "execution": {
     "iopub.execute_input": "2022-05-30T13:13:42.327447Z",
     "iopub.status.busy": "2022-05-30T13:13:42.326962Z",
     "iopub.status.idle": "2022-05-30T13:13:45.413096Z",
     "shell.execute_reply": "2022-05-30T13:13:45.411884Z"
    },
    "papermill": {
     "duration": 3.135131,
     "end_time": "2022-05-30T13:13:45.415565",
     "exception": false,
     "start_time": "2022-05-30T13:13:42.280434",
     "status": "completed"
    },
    "tags": []
   },
   "outputs": [
    {
     "name": "stdout",
     "output_type": "stream",
     "text": [
      "Mean_F1_score 0.9439566312896083\n",
      "Classification Report: \n",
      "               precision    recall  f1-score   support\n",
      "\n",
      "           0       0.97      0.96      0.96      1488\n",
      "           1       0.97      0.96      0.97      2000\n",
      "           2       0.92      0.93      0.92      3000\n",
      "           3       0.88      0.87      0.87      2109\n",
      "           4       0.97      0.94      0.95      1300\n",
      "           5       0.96      0.97      0.97      1900\n",
      "           6       1.00      1.00      1.00      1300\n",
      "\n",
      "    accuracy                           0.94     13097\n",
      "   macro avg       0.95      0.95      0.95     13097\n",
      "weighted avg       0.94      0.94      0.94     13097\n",
      "\n"
     ]
    }
   ],
   "source": [
    "svc_model = SVC(C=5.3, coef0=3.1, decision_function_shape='ovo', kernel='poly',random_state=0)\n",
    "\n",
    "svc_model.fit(x_train, y_train)\n",
    "\n",
    "predictions_SVC = svc_model.predict(x_train)\n",
    "print('Mean_F1_score', f1_score(y_train, predictions_SVC, average='micro'))\n",
    "print(\"Classification Report: \\n\", classification_report(y_train, predictions_SVC))"
   ]
  },
  {
   "cell_type": "markdown",
   "id": "30e1e978",
   "metadata": {
    "papermill": {
     "duration": 0.043865,
     "end_time": "2022-05-30T13:13:45.502678",
     "exception": false,
     "start_time": "2022-05-30T13:13:45.458813",
     "status": "completed"
    },
    "tags": []
   },
   "source": [
    "# LGBMClassifier"
   ]
  },
  {
   "cell_type": "code",
   "execution_count": 52,
   "id": "08bcc346",
   "metadata": {
    "execution": {
     "iopub.execute_input": "2022-05-30T13:13:45.599058Z",
     "iopub.status.busy": "2022-05-30T13:13:45.597836Z",
     "iopub.status.idle": "2022-05-30T13:13:45.603818Z",
     "shell.execute_reply": "2022-05-30T13:13:45.602061Z"
    },
    "papermill": {
     "duration": 0.05681,
     "end_time": "2022-05-30T13:13:45.606617",
     "exception": false,
     "start_time": "2022-05-30T13:13:45.549807",
     "status": "completed"
    },
    "tags": []
   },
   "outputs": [],
   "source": [
    "# lgb_model = LGBMClassifier(objective='multiclass', random_state=42, learning_rate=0.03, reg_alpha=0.0001)\n",
    "# lgb_model.fit(x_train, y_train)\n",
    "# predictions_LGB = lgb_model.predict(x_train)\n",
    "\n",
    "# print('Mean_F1_score', f1_score(y_train, predictions_LGB, average='micro'))\n",
    "# print(\"Classification Report: \\n\", classification_report(y_train, predictions_LGB))"
   ]
  },
  {
   "cell_type": "markdown",
   "id": "56a34163",
   "metadata": {
    "papermill": {
     "duration": 0.043666,
     "end_time": "2022-05-30T13:13:45.695318",
     "exception": false,
     "start_time": "2022-05-30T13:13:45.651652",
     "status": "completed"
    },
    "tags": []
   },
   "source": [
    "# LogisticRegression"
   ]
  },
  {
   "cell_type": "code",
   "execution_count": 53,
   "id": "14228eff",
   "metadata": {
    "execution": {
     "iopub.execute_input": "2022-05-30T13:13:45.787323Z",
     "iopub.status.busy": "2022-05-30T13:13:45.785893Z",
     "iopub.status.idle": "2022-05-30T13:13:45.793063Z",
     "shell.execute_reply": "2022-05-30T13:13:45.792084Z"
    },
    "papermill": {
     "duration": 0.054979,
     "end_time": "2022-05-30T13:13:45.795639",
     "exception": false,
     "start_time": "2022-05-30T13:13:45.740660",
     "status": "completed"
    },
    "tags": []
   },
   "outputs": [],
   "source": [
    "# # Create an instance of the LogisticRegression\n",
    "\n",
    "# model_log=LogisticRegression(random_state=42, C=1000, penalty='l2', solver='newton-cg')\n",
    "\n",
    "# model_log.fit(x_train,y_train)\n",
    "\n",
    "# print(\"Train F1_Score: \", f1_score(y_train, model_log.predict(x_train), average='micro'))\n",
    "# print(\"Classification Report: \\n\", classification_report(y_train, model_log.predict(x_train)))"
   ]
  },
  {
   "cell_type": "code",
   "execution_count": null,
   "id": "d1eeebec",
   "metadata": {
    "papermill": {
     "duration": 0.045732,
     "end_time": "2022-05-30T13:13:45.885472",
     "exception": false,
     "start_time": "2022-05-30T13:13:45.839740",
     "status": "completed"
    },
    "tags": []
   },
   "outputs": [],
   "source": []
  },
  {
   "cell_type": "markdown",
   "id": "9e8054c0",
   "metadata": {
    "papermill": {
     "duration": 0.047785,
     "end_time": "2022-05-30T13:13:45.979823",
     "exception": false,
     "start_time": "2022-05-30T13:13:45.932038",
     "status": "completed"
    },
    "tags": []
   },
   "source": [
    "# MultiLayer Perceptron"
   ]
  },
  {
   "cell_type": "code",
   "execution_count": 54,
   "id": "f3d9c41a",
   "metadata": {
    "execution": {
     "iopub.execute_input": "2022-05-30T13:13:46.075438Z",
     "iopub.status.busy": "2022-05-30T13:13:46.074630Z",
     "iopub.status.idle": "2022-05-30T13:13:55.997437Z",
     "shell.execute_reply": "2022-05-30T13:13:55.996083Z"
    },
    "papermill": {
     "duration": 9.978577,
     "end_time": "2022-05-30T13:13:56.006706",
     "exception": false,
     "start_time": "2022-05-30T13:13:46.028129",
     "status": "completed"
    },
    "tags": []
   },
   "outputs": [
    {
     "name": "stdout",
     "output_type": "stream",
     "text": [
      "Train F1_Score:  0.9400626097579599\n",
      "Classification Report: \n",
      "               precision    recall  f1-score   support\n",
      "\n",
      "           0       0.97      0.94      0.96      1488\n",
      "           1       0.96      0.96      0.96      2000\n",
      "           2       0.92      0.93      0.92      3000\n",
      "           3       0.87      0.87      0.87      2109\n",
      "           4       0.97      0.94      0.95      1300\n",
      "           5       0.95      0.97      0.96      1900\n",
      "           6       1.00      1.00      1.00      1300\n",
      "\n",
      "    accuracy                           0.94     13097\n",
      "   macro avg       0.95      0.94      0.95     13097\n",
      "weighted avg       0.94      0.94      0.94     13097\n",
      "\n"
     ]
    }
   ],
   "source": [
    "model_mlp=MLPClassifier(beta_1=0.7, hidden_layer_sizes=24, random_state=158)\n",
    "\n",
    "model_mlp.fit(x_train, y_train)\n",
    "print(\"Train F1_Score: \", f1_score(y_train, model_mlp.predict(x_train), average='micro'))\n",
    "print(\"Classification Report: \\n\", classification_report(y_train, model_mlp.predict(x_train)))"
   ]
  },
  {
   "cell_type": "code",
   "execution_count": null,
   "id": "c02360e7",
   "metadata": {
    "papermill": {
     "duration": 0.045338,
     "end_time": "2022-05-30T13:13:56.120475",
     "exception": false,
     "start_time": "2022-05-30T13:13:56.075137",
     "status": "completed"
    },
    "tags": []
   },
   "outputs": [],
   "source": []
  },
  {
   "cell_type": "markdown",
   "id": "7ef0b4cf",
   "metadata": {
    "papermill": {
     "duration": 0.04314,
     "end_time": "2022-05-30T13:13:56.207680",
     "exception": false,
     "start_time": "2022-05-30T13:13:56.164540",
     "status": "completed"
    },
    "tags": []
   },
   "source": [
    "# XGBClassifier"
   ]
  },
  {
   "cell_type": "code",
   "execution_count": 55,
   "id": "b9aa8dd9",
   "metadata": {
    "execution": {
     "iopub.execute_input": "2022-05-30T13:13:56.298092Z",
     "iopub.status.busy": "2022-05-30T13:13:56.297530Z",
     "iopub.status.idle": "2022-05-30T13:15:47.439167Z",
     "shell.execute_reply": "2022-05-30T13:15:47.437736Z"
    },
    "papermill": {
     "duration": 111.190899,
     "end_time": "2022-05-30T13:15:47.442788",
     "exception": false,
     "start_time": "2022-05-30T13:13:56.251889",
     "status": "completed"
    },
    "tags": []
   },
   "outputs": [
    {
     "name": "stdout",
     "output_type": "stream",
     "text": [
      "Train F1_Score:  0.9978621058257616\n",
      "Classification Report: \n",
      "               precision    recall  f1-score   support\n",
      "\n",
      "           0       1.00      0.99      1.00      1488\n",
      "           1       1.00      1.00      1.00      2000\n",
      "           2       1.00      1.00      1.00      3000\n",
      "           3       0.99      1.00      1.00      2109\n",
      "           4       1.00      1.00      1.00      1300\n",
      "           5       1.00      1.00      1.00      1900\n",
      "           6       1.00      1.00      1.00      1300\n",
      "\n",
      "    accuracy                           1.00     13097\n",
      "   macro avg       1.00      1.00      1.00     13097\n",
      "weighted avg       1.00      1.00      1.00     13097\n",
      "\n"
     ]
    }
   ],
   "source": [
    "model_xgb=XGBClassifier(booster='dart',eta=0.03,max_depth=15,subsample=0.8,gamma=0,n_estimators=230,\n",
    "                         colsample_bytree=0.6,colsample_bylevel=0.6,colsample_bynode=0.6)\n",
    "\n",
    "model_xgb.fit(x_train, y_train)\n",
    "\n",
    "print(\"Train F1_Score: \", f1_score(y_train, model_xgb.predict(x_train), average='micro'))\n",
    "print(\"Classification Report: \\n\", classification_report(y_train, model_xgb.predict(x_train)))"
   ]
  },
  {
   "cell_type": "markdown",
   "id": "62d4db6d",
   "metadata": {
    "papermill": {
     "duration": 0.046582,
     "end_time": "2022-05-30T13:15:47.536484",
     "exception": false,
     "start_time": "2022-05-30T13:15:47.489902",
     "status": "completed"
    },
    "tags": []
   },
   "source": [
    "# voting"
   ]
  },
  {
   "cell_type": "code",
   "execution_count": 56,
   "id": "17195f4c",
   "metadata": {
    "execution": {
     "iopub.execute_input": "2022-05-30T13:15:47.628433Z",
     "iopub.status.busy": "2022-05-30T13:15:47.627932Z",
     "iopub.status.idle": "2022-05-30T13:17:51.668593Z",
     "shell.execute_reply": "2022-05-30T13:17:51.666998Z"
    },
    "papermill": {
     "duration": 124.09063,
     "end_time": "2022-05-30T13:17:51.671305",
     "exception": false,
     "start_time": "2022-05-30T13:15:47.580675",
     "status": "completed"
    },
    "tags": []
   },
   "outputs": [
    {
     "name": "stdout",
     "output_type": "stream",
     "text": [
      "\n",
      "Voting Classifier:  0.9502176070855921\n",
      "Classification Report: \n",
      "               precision    recall  f1-score   support\n",
      "\n",
      "           0       0.97      0.96      0.97      1488\n",
      "           1       0.97      0.97      0.97      2000\n",
      "           2       0.93      0.94      0.93      3000\n",
      "           3       0.89      0.89      0.89      2109\n",
      "           4       0.97      0.95      0.96      1300\n",
      "           5       0.97      0.97      0.97      1900\n",
      "           6       1.00      1.00      1.00      1300\n",
      "\n",
      "    accuracy                           0.95     13097\n",
      "   macro avg       0.96      0.95      0.96     13097\n",
      "weighted avg       0.95      0.95      0.95     13097\n",
      "\n"
     ]
    }
   ],
   "source": [
    "classifiers = [\n",
    "                ('SVC:', svc_model),\n",
    "                ('MLP:', model_mlp),\n",
    "                ('XGB:', model_xgb),\n",
    "                ]\n",
    "\n",
    "\n",
    "vc = VotingClassifier(estimators=classifiers,voting='hard')\n",
    "vc.fit(x_train, y_train)\n",
    "y_pred_voting = vc.predict(x_train)\n",
    "print()\n",
    "print('Voting Classifier: ',f1_score(y_train, y_pred_voting, average='micro'))\n",
    "print(\"Classification Report: \\n\", classification_report(y_train, vc.predict(x_train)))"
   ]
  },
  {
   "cell_type": "markdown",
   "id": "4d9b02b6",
   "metadata": {
    "papermill": {
     "duration": 0.045209,
     "end_time": "2022-05-30T13:17:51.761494",
     "exception": false,
     "start_time": "2022-05-30T13:17:51.716285",
     "status": "completed"
    },
    "tags": []
   },
   "source": []
  },
  {
   "cell_type": "markdown",
   "id": "9a773ae3",
   "metadata": {
    "execution": {
     "iopub.execute_input": "2022-05-30T12:58:36.480366Z",
     "iopub.status.busy": "2022-05-30T12:58:36.479917Z",
     "iopub.status.idle": "2022-05-30T12:58:36.484935Z",
     "shell.execute_reply": "2022-05-30T12:58:36.483891Z",
     "shell.execute_reply.started": "2022-05-30T12:58:36.480332Z"
    },
    "papermill": {
     "duration": 0.045579,
     "end_time": "2022-05-30T13:17:51.852144",
     "exception": false,
     "start_time": "2022-05-30T13:17:51.806565",
     "status": "completed"
    },
    "tags": []
   },
   "source": [
    "# test_data"
   ]
  },
  {
   "cell_type": "code",
   "execution_count": 57,
   "id": "03db08c0",
   "metadata": {
    "execution": {
     "iopub.execute_input": "2022-05-30T13:17:51.947536Z",
     "iopub.status.busy": "2022-05-30T13:17:51.946832Z",
     "iopub.status.idle": "2022-05-30T13:17:52.002605Z",
     "shell.execute_reply": "2022-05-30T13:17:52.001232Z"
    },
    "papermill": {
     "duration": 0.106773,
     "end_time": "2022-05-30T13:17:52.005622",
     "exception": false,
     "start_time": "2022-05-30T13:17:51.898849",
     "status": "completed"
    },
    "tags": []
   },
   "outputs": [],
   "source": [
    "test_data=pd.read_csv(\"../input/dry-beans-classification-iti-ai-pro-intake02/test.csv\",index_col=\"ID\")"
   ]
  },
  {
   "cell_type": "code",
   "execution_count": 58,
   "id": "d54dfaeb",
   "metadata": {
    "execution": {
     "iopub.execute_input": "2022-05-30T13:17:52.099430Z",
     "iopub.status.busy": "2022-05-30T13:17:52.098901Z",
     "iopub.status.idle": "2022-05-30T13:17:52.122946Z",
     "shell.execute_reply": "2022-05-30T13:17:52.121814Z"
    },
    "papermill": {
     "duration": 0.072822,
     "end_time": "2022-05-30T13:17:52.125586",
     "exception": false,
     "start_time": "2022-05-30T13:17:52.052764",
     "status": "completed"
    },
    "tags": []
   },
   "outputs": [
    {
     "data": {
      "text/html": [
       "<div>\n",
       "<style scoped>\n",
       "    .dataframe tbody tr th:only-of-type {\n",
       "        vertical-align: middle;\n",
       "    }\n",
       "\n",
       "    .dataframe tbody tr th {\n",
       "        vertical-align: top;\n",
       "    }\n",
       "\n",
       "    .dataframe thead th {\n",
       "        text-align: right;\n",
       "    }\n",
       "</style>\n",
       "<table border=\"1\" class=\"dataframe\">\n",
       "  <thead>\n",
       "    <tr style=\"text-align: right;\">\n",
       "      <th></th>\n",
       "      <th>Area</th>\n",
       "      <th>Perimeter</th>\n",
       "      <th>MajorAxisLength</th>\n",
       "      <th>MinorAxisLength</th>\n",
       "      <th>AspectRation</th>\n",
       "      <th>Eccentricity</th>\n",
       "      <th>ConvexArea</th>\n",
       "      <th>EquivDiameter</th>\n",
       "      <th>Extent</th>\n",
       "      <th>Solidity</th>\n",
       "      <th>roundness</th>\n",
       "      <th>Compactness</th>\n",
       "      <th>ShapeFactor1</th>\n",
       "      <th>ShapeFactor2</th>\n",
       "      <th>ShapeFactor3</th>\n",
       "      <th>ShapeFactor4</th>\n",
       "    </tr>\n",
       "    <tr>\n",
       "      <th>ID</th>\n",
       "      <th></th>\n",
       "      <th></th>\n",
       "      <th></th>\n",
       "      <th></th>\n",
       "      <th></th>\n",
       "      <th></th>\n",
       "      <th></th>\n",
       "      <th></th>\n",
       "      <th></th>\n",
       "      <th></th>\n",
       "      <th></th>\n",
       "      <th></th>\n",
       "      <th></th>\n",
       "      <th></th>\n",
       "      <th></th>\n",
       "      <th></th>\n",
       "    </tr>\n",
       "  </thead>\n",
       "  <tbody>\n",
       "    <tr>\n",
       "      <th>10834</th>\n",
       "      <td>57659</td>\n",
       "      <td>955.434</td>\n",
       "      <td>387.757607</td>\n",
       "      <td>196.625782</td>\n",
       "      <td>1.972059</td>\n",
       "      <td>0.861896</td>\n",
       "      <td>60188</td>\n",
       "      <td>270.949661</td>\n",
       "      <td>0.620790</td>\n",
       "      <td>0.957982</td>\n",
       "      <td>0.793735</td>\n",
       "      <td>0.698760</td>\n",
       "      <td>0.006725</td>\n",
       "      <td>0.000989</td>\n",
       "      <td>0.488266</td>\n",
       "      <td>0.962889</td>\n",
       "    </tr>\n",
       "    <tr>\n",
       "      <th>10835</th>\n",
       "      <td>28772</td>\n",
       "      <td>630.362</td>\n",
       "      <td>229.990785</td>\n",
       "      <td>159.609367</td>\n",
       "      <td>1.440960</td>\n",
       "      <td>0.719993</td>\n",
       "      <td>29127</td>\n",
       "      <td>191.399185</td>\n",
       "      <td>0.767458</td>\n",
       "      <td>0.987812</td>\n",
       "      <td>0.909913</td>\n",
       "      <td>0.832204</td>\n",
       "      <td>0.007994</td>\n",
       "      <td>0.002365</td>\n",
       "      <td>0.692563</td>\n",
       "      <td>0.997956</td>\n",
       "    </tr>\n",
       "    <tr>\n",
       "      <th>10836</th>\n",
       "      <td>54677</td>\n",
       "      <td>911.022</td>\n",
       "      <td>308.853903</td>\n",
       "      <td>226.398571</td>\n",
       "      <td>1.364204</td>\n",
       "      <td>0.680198</td>\n",
       "      <td>55858</td>\n",
       "      <td>263.850182</td>\n",
       "      <td>0.753013</td>\n",
       "      <td>0.978857</td>\n",
       "      <td>0.827860</td>\n",
       "      <td>0.854288</td>\n",
       "      <td>0.005649</td>\n",
       "      <td>0.001856</td>\n",
       "      <td>0.729808</td>\n",
       "      <td>0.995607</td>\n",
       "    </tr>\n",
       "    <tr>\n",
       "      <th>10837</th>\n",
       "      <td>24827</td>\n",
       "      <td>578.304</td>\n",
       "      <td>214.192699</td>\n",
       "      <td>147.788172</td>\n",
       "      <td>1.449322</td>\n",
       "      <td>0.723831</td>\n",
       "      <td>25121</td>\n",
       "      <td>177.794033</td>\n",
       "      <td>0.716508</td>\n",
       "      <td>0.988297</td>\n",
       "      <td>0.932871</td>\n",
       "      <td>0.830066</td>\n",
       "      <td>0.008627</td>\n",
       "      <td>0.002526</td>\n",
       "      <td>0.689009</td>\n",
       "      <td>0.998596</td>\n",
       "    </tr>\n",
       "    <tr>\n",
       "      <th>10838</th>\n",
       "      <td>141850</td>\n",
       "      <td>1432.847</td>\n",
       "      <td>524.923471</td>\n",
       "      <td>346.910920</td>\n",
       "      <td>1.513136</td>\n",
       "      <td>0.750492</td>\n",
       "      <td>143680</td>\n",
       "      <td>424.981211</td>\n",
       "      <td>0.804617</td>\n",
       "      <td>0.987263</td>\n",
       "      <td>0.868240</td>\n",
       "      <td>0.809606</td>\n",
       "      <td>0.003701</td>\n",
       "      <td>0.000981</td>\n",
       "      <td>0.655462</td>\n",
       "      <td>0.991803</td>\n",
       "    </tr>\n",
       "  </tbody>\n",
       "</table>\n",
       "</div>"
      ],
      "text/plain": [
       "         Area  Perimeter  MajorAxisLength  MinorAxisLength  AspectRation  \\\n",
       "ID                                                                         \n",
       "10834   57659    955.434       387.757607       196.625782      1.972059   \n",
       "10835   28772    630.362       229.990785       159.609367      1.440960   \n",
       "10836   54677    911.022       308.853903       226.398571      1.364204   \n",
       "10837   24827    578.304       214.192699       147.788172      1.449322   \n",
       "10838  141850   1432.847       524.923471       346.910920      1.513136   \n",
       "\n",
       "       Eccentricity  ConvexArea  EquivDiameter    Extent  Solidity  roundness  \\\n",
       "ID                                                                              \n",
       "10834      0.861896       60188     270.949661  0.620790  0.957982   0.793735   \n",
       "10835      0.719993       29127     191.399185  0.767458  0.987812   0.909913   \n",
       "10836      0.680198       55858     263.850182  0.753013  0.978857   0.827860   \n",
       "10837      0.723831       25121     177.794033  0.716508  0.988297   0.932871   \n",
       "10838      0.750492      143680     424.981211  0.804617  0.987263   0.868240   \n",
       "\n",
       "       Compactness  ShapeFactor1  ShapeFactor2  ShapeFactor3  ShapeFactor4  \n",
       "ID                                                                          \n",
       "10834     0.698760      0.006725      0.000989      0.488266      0.962889  \n",
       "10835     0.832204      0.007994      0.002365      0.692563      0.997956  \n",
       "10836     0.854288      0.005649      0.001856      0.729808      0.995607  \n",
       "10837     0.830066      0.008627      0.002526      0.689009      0.998596  \n",
       "10838     0.809606      0.003701      0.000981      0.655462      0.991803  "
      ]
     },
     "execution_count": 58,
     "metadata": {},
     "output_type": "execute_result"
    }
   ],
   "source": [
    "test_data.head()"
   ]
  },
  {
   "cell_type": "code",
   "execution_count": 59,
   "id": "57ff1234",
   "metadata": {
    "execution": {
     "iopub.execute_input": "2022-05-30T13:17:52.221122Z",
     "iopub.status.busy": "2022-05-30T13:17:52.220329Z",
     "iopub.status.idle": "2022-05-30T13:17:52.225023Z",
     "shell.execute_reply": "2022-05-30T13:17:52.224054Z"
    },
    "papermill": {
     "duration": 0.057063,
     "end_time": "2022-05-30T13:17:52.227526",
     "exception": false,
     "start_time": "2022-05-30T13:17:52.170463",
     "status": "completed"
    },
    "tags": []
   },
   "outputs": [],
   "source": [
    "# test_data['ShapeFactor5'] = test_data['MajorAxisLength'] / test_data['Perimeter']\n",
    "# data['Bounding_rectangular_area'] = data['Area']/data['Extent']\n",
    "# test_data['elipse_area']= np.pi* test_data['MajorAxisLength']*test_data['MinorAxisLength']/4\n",
    "# test_data['perimeter']= 2*np.pi * np.sqrt(((0.5*test_data['MajorAxisLength'])**2+(0.5*test_data['MinorAxisLength'])**2)/2)\n",
    "# test_data['area_diff']= test_data['elipse_area']-test_data['Area']\n",
    "# test_data['perimeter_diff']= test_data['perimeter']-test_data['Perimeter']"
   ]
  },
  {
   "cell_type": "code",
   "execution_count": 60,
   "id": "e65dd5ed",
   "metadata": {
    "execution": {
     "iopub.execute_input": "2022-05-30T13:17:52.327414Z",
     "iopub.status.busy": "2022-05-30T13:17:52.326691Z",
     "iopub.status.idle": "2022-05-30T13:17:52.338728Z",
     "shell.execute_reply": "2022-05-30T13:17:52.337691Z"
    },
    "papermill": {
     "duration": 0.063291,
     "end_time": "2022-05-30T13:17:52.341336",
     "exception": false,
     "start_time": "2022-05-30T13:17:52.278045",
     "status": "completed"
    },
    "tags": []
   },
   "outputs": [],
   "source": [
    "x_test=power.transform(test_data)"
   ]
  },
  {
   "cell_type": "code",
   "execution_count": 61,
   "id": "1aff8be7",
   "metadata": {
    "execution": {
     "iopub.execute_input": "2022-05-30T13:17:52.436151Z",
     "iopub.status.busy": "2022-05-30T13:17:52.435411Z",
     "iopub.status.idle": "2022-05-30T13:17:52.442351Z",
     "shell.execute_reply": "2022-05-30T13:17:52.441529Z"
    },
    "papermill": {
     "duration": 0.055763,
     "end_time": "2022-05-30T13:17:52.444375",
     "exception": false,
     "start_time": "2022-05-30T13:17:52.388612",
     "status": "completed"
    },
    "tags": []
   },
   "outputs": [
    {
     "data": {
      "text/plain": [
       "array([[ 0.39208315,  0.53717447,  0.80241504, ..., -1.27996517,\n",
       "        -1.73856695, -2.26507282],\n",
       "       [-1.56896788, -1.50517723, -1.41602583, ...,  1.16476282,\n",
       "         0.44741763,  0.89516204],\n",
       "       [ 0.27392336,  0.34854865, -0.05813627, ...,  0.42559286,\n",
       "         0.81123063, -0.12039209],\n",
       "       ...,\n",
       "       [ 0.52040434,  0.7391225 ,  0.9774242 , ..., -1.49442347,\n",
       "        -1.97783495, -2.27053457],\n",
       "       [-0.98440145, -0.90708881, -0.89069555, ...,  0.71923716,\n",
       "         0.18260649,  0.55414606],\n",
       "       [ 0.02421115, -0.058523  , -0.03822395, ...,  0.0680804 ,\n",
       "         0.01987372,  0.47754499]])"
      ]
     },
     "execution_count": 61,
     "metadata": {},
     "output_type": "execute_result"
    }
   ],
   "source": [
    "x_test"
   ]
  },
  {
   "cell_type": "code",
   "execution_count": 62,
   "id": "504fea7e",
   "metadata": {
    "execution": {
     "iopub.execute_input": "2022-05-30T13:17:52.538599Z",
     "iopub.status.busy": "2022-05-30T13:17:52.538121Z",
     "iopub.status.idle": "2022-05-30T13:17:52.543772Z",
     "shell.execute_reply": "2022-05-30T13:17:52.542878Z"
    },
    "papermill": {
     "duration": 0.055346,
     "end_time": "2022-05-30T13:17:52.545828",
     "exception": false,
     "start_time": "2022-05-30T13:17:52.490482",
     "status": "completed"
    },
    "tags": []
   },
   "outputs": [],
   "source": [
    "x_test=pd.DataFrame(x_test,columns=test_data.columns)"
   ]
  },
  {
   "cell_type": "code",
   "execution_count": 63,
   "id": "21d116cd",
   "metadata": {
    "execution": {
     "iopub.execute_input": "2022-05-30T13:17:52.640713Z",
     "iopub.status.busy": "2022-05-30T13:17:52.639532Z",
     "iopub.status.idle": "2022-05-30T13:17:52.661884Z",
     "shell.execute_reply": "2022-05-30T13:17:52.660983Z"
    },
    "papermill": {
     "duration": 0.07371,
     "end_time": "2022-05-30T13:17:52.664195",
     "exception": false,
     "start_time": "2022-05-30T13:17:52.590485",
     "status": "completed"
    },
    "tags": []
   },
   "outputs": [
    {
     "data": {
      "text/html": [
       "<div>\n",
       "<style scoped>\n",
       "    .dataframe tbody tr th:only-of-type {\n",
       "        vertical-align: middle;\n",
       "    }\n",
       "\n",
       "    .dataframe tbody tr th {\n",
       "        vertical-align: top;\n",
       "    }\n",
       "\n",
       "    .dataframe thead th {\n",
       "        text-align: right;\n",
       "    }\n",
       "</style>\n",
       "<table border=\"1\" class=\"dataframe\">\n",
       "  <thead>\n",
       "    <tr style=\"text-align: right;\">\n",
       "      <th></th>\n",
       "      <th>Area</th>\n",
       "      <th>Perimeter</th>\n",
       "      <th>MajorAxisLength</th>\n",
       "      <th>MinorAxisLength</th>\n",
       "      <th>AspectRation</th>\n",
       "      <th>Eccentricity</th>\n",
       "      <th>ConvexArea</th>\n",
       "      <th>EquivDiameter</th>\n",
       "      <th>Extent</th>\n",
       "      <th>Solidity</th>\n",
       "      <th>roundness</th>\n",
       "      <th>Compactness</th>\n",
       "      <th>ShapeFactor1</th>\n",
       "      <th>ShapeFactor2</th>\n",
       "      <th>ShapeFactor3</th>\n",
       "      <th>ShapeFactor4</th>\n",
       "    </tr>\n",
       "  </thead>\n",
       "  <tbody>\n",
       "    <tr>\n",
       "      <th>0</th>\n",
       "      <td>0.392083</td>\n",
       "      <td>0.537174</td>\n",
       "      <td>0.802415</td>\n",
       "      <td>-0.088483</td>\n",
       "      <td>1.575236</td>\n",
       "      <td>1.552150</td>\n",
       "      <td>0.456110</td>\n",
       "      <td>0.392115</td>\n",
       "      <td>-2.123116</td>\n",
       "      <td>-2.408329</td>\n",
       "      <td>-1.365074</td>\n",
       "      <td>-1.740993</td>\n",
       "      <td>0.263918</td>\n",
       "      <td>-1.279965</td>\n",
       "      <td>-1.738567</td>\n",
       "      <td>-2.265073</td>\n",
       "    </tr>\n",
       "    <tr>\n",
       "      <th>1</th>\n",
       "      <td>-1.568968</td>\n",
       "      <td>-1.505177</td>\n",
       "      <td>-1.416026</td>\n",
       "      <td>-1.458399</td>\n",
       "      <td>-0.439820</td>\n",
       "      <td>-0.431513</td>\n",
       "      <td>-1.565972</td>\n",
       "      <td>-1.568860</td>\n",
       "      <td>0.247973</td>\n",
       "      <td>-0.117745</td>\n",
       "      <td>0.566043</td>\n",
       "      <td>0.447656</td>\n",
       "      <td>1.451146</td>\n",
       "      <td>1.164763</td>\n",
       "      <td>0.447418</td>\n",
       "      <td>0.895162</td>\n",
       "    </tr>\n",
       "    <tr>\n",
       "      <th>2</th>\n",
       "      <td>0.273923</td>\n",
       "      <td>0.348549</td>\n",
       "      <td>-0.058136</td>\n",
       "      <td>0.592001</td>\n",
       "      <td>-0.825312</td>\n",
       "      <td>-0.831479</td>\n",
       "      <td>0.292580</td>\n",
       "      <td>0.273921</td>\n",
       "      <td>-0.114341</td>\n",
       "      <td>-1.734967</td>\n",
       "      <td>-0.894514</td>\n",
       "      <td>0.810696</td>\n",
       "      <td>-0.594451</td>\n",
       "      <td>0.425593</td>\n",
       "      <td>0.811231</td>\n",
       "      <td>-0.120392</td>\n",
       "    </tr>\n",
       "    <tr>\n",
       "      <th>3</th>\n",
       "      <td>-2.124227</td>\n",
       "      <td>-2.060628</td>\n",
       "      <td>-1.791250</td>\n",
       "      <td>-2.103582</td>\n",
       "      <td>-0.399619</td>\n",
       "      <td>-0.389801</td>\n",
       "      <td>-2.121214</td>\n",
       "      <td>-2.123735</td>\n",
       "      <td>-0.877518</td>\n",
       "      <td>0.035769</td>\n",
       "      <td>1.073595</td>\n",
       "      <td>0.412523</td>\n",
       "      <td>2.125687</td>\n",
       "      <td>1.366835</td>\n",
       "      <td>0.412194</td>\n",
       "      <td>1.246981</td>\n",
       "    </tr>\n",
       "    <tr>\n",
       "      <th>4</th>\n",
       "      <td>1.845604</td>\n",
       "      <td>1.794633</td>\n",
       "      <td>1.741715</td>\n",
       "      <td>1.871746</td>\n",
       "      <td>-0.103646</td>\n",
       "      <td>-0.083682</td>\n",
       "      <td>1.843038</td>\n",
       "      <td>1.845937</td>\n",
       "      <td>1.370850</td>\n",
       "      <td>-0.280172</td>\n",
       "      <td>-0.239393</td>\n",
       "      <td>0.076414</td>\n",
       "      <td>-1.861162</td>\n",
       "      <td>-1.299531</td>\n",
       "      <td>0.075165</td>\n",
       "      <td>-1.123258</td>\n",
       "    </tr>\n",
       "  </tbody>\n",
       "</table>\n",
       "</div>"
      ],
      "text/plain": [
       "       Area  Perimeter  MajorAxisLength  MinorAxisLength  AspectRation  \\\n",
       "0  0.392083   0.537174         0.802415        -0.088483      1.575236   \n",
       "1 -1.568968  -1.505177        -1.416026        -1.458399     -0.439820   \n",
       "2  0.273923   0.348549        -0.058136         0.592001     -0.825312   \n",
       "3 -2.124227  -2.060628        -1.791250        -2.103582     -0.399619   \n",
       "4  1.845604   1.794633         1.741715         1.871746     -0.103646   \n",
       "\n",
       "   Eccentricity  ConvexArea  EquivDiameter    Extent  Solidity  roundness  \\\n",
       "0      1.552150    0.456110       0.392115 -2.123116 -2.408329  -1.365074   \n",
       "1     -0.431513   -1.565972      -1.568860  0.247973 -0.117745   0.566043   \n",
       "2     -0.831479    0.292580       0.273921 -0.114341 -1.734967  -0.894514   \n",
       "3     -0.389801   -2.121214      -2.123735 -0.877518  0.035769   1.073595   \n",
       "4     -0.083682    1.843038       1.845937  1.370850 -0.280172  -0.239393   \n",
       "\n",
       "   Compactness  ShapeFactor1  ShapeFactor2  ShapeFactor3  ShapeFactor4  \n",
       "0    -1.740993      0.263918     -1.279965     -1.738567     -2.265073  \n",
       "1     0.447656      1.451146      1.164763      0.447418      0.895162  \n",
       "2     0.810696     -0.594451      0.425593      0.811231     -0.120392  \n",
       "3     0.412523      2.125687      1.366835      0.412194      1.246981  \n",
       "4     0.076414     -1.861162     -1.299531      0.075165     -1.123258  "
      ]
     },
     "execution_count": 63,
     "metadata": {},
     "output_type": "execute_result"
    }
   ],
   "source": [
    "x_test.head()"
   ]
  },
  {
   "cell_type": "code",
   "execution_count": 64,
   "id": "9e0cea6e",
   "metadata": {
    "execution": {
     "iopub.execute_input": "2022-05-30T13:17:52.761465Z",
     "iopub.status.busy": "2022-05-30T13:17:52.760712Z",
     "iopub.status.idle": "2022-05-30T13:17:52.768009Z",
     "shell.execute_reply": "2022-05-30T13:17:52.766991Z"
    },
    "papermill": {
     "duration": 0.058686,
     "end_time": "2022-05-30T13:17:52.770319",
     "exception": false,
     "start_time": "2022-05-30T13:17:52.711633",
     "status": "completed"
    },
    "tags": []
   },
   "outputs": [
    {
     "data": {
      "text/plain": [
       "(2709, 16)"
      ]
     },
     "execution_count": 64,
     "metadata": {},
     "output_type": "execute_result"
    }
   ],
   "source": [
    "x_test.shape"
   ]
  },
  {
   "cell_type": "code",
   "execution_count": 65,
   "id": "11b0a7ae",
   "metadata": {
    "execution": {
     "iopub.execute_input": "2022-05-30T13:17:52.865805Z",
     "iopub.status.busy": "2022-05-30T13:17:52.865325Z",
     "iopub.status.idle": "2022-05-30T13:17:52.872138Z",
     "shell.execute_reply": "2022-05-30T13:17:52.870797Z"
    },
    "papermill": {
     "duration": 0.059231,
     "end_time": "2022-05-30T13:17:52.874515",
     "exception": false,
     "start_time": "2022-05-30T13:17:52.815284",
     "status": "completed"
    },
    "tags": []
   },
   "outputs": [],
   "source": [
    "x_test.drop(columns=['AspectRation','Eccentricity'],axis=1,inplace=True)"
   ]
  },
  {
   "cell_type": "code",
   "execution_count": 66,
   "id": "9f8d0b77",
   "metadata": {
    "execution": {
     "iopub.execute_input": "2022-05-30T13:17:52.969334Z",
     "iopub.status.busy": "2022-05-30T13:17:52.968821Z",
     "iopub.status.idle": "2022-05-30T13:17:52.990893Z",
     "shell.execute_reply": "2022-05-30T13:17:52.989773Z"
    },
    "papermill": {
     "duration": 0.071597,
     "end_time": "2022-05-30T13:17:52.993287",
     "exception": false,
     "start_time": "2022-05-30T13:17:52.921690",
     "status": "completed"
    },
    "tags": []
   },
   "outputs": [
    {
     "data": {
      "text/html": [
       "<div>\n",
       "<style scoped>\n",
       "    .dataframe tbody tr th:only-of-type {\n",
       "        vertical-align: middle;\n",
       "    }\n",
       "\n",
       "    .dataframe tbody tr th {\n",
       "        vertical-align: top;\n",
       "    }\n",
       "\n",
       "    .dataframe thead th {\n",
       "        text-align: right;\n",
       "    }\n",
       "</style>\n",
       "<table border=\"1\" class=\"dataframe\">\n",
       "  <thead>\n",
       "    <tr style=\"text-align: right;\">\n",
       "      <th></th>\n",
       "      <th>Area</th>\n",
       "      <th>Perimeter</th>\n",
       "      <th>MajorAxisLength</th>\n",
       "      <th>MinorAxisLength</th>\n",
       "      <th>ConvexArea</th>\n",
       "      <th>EquivDiameter</th>\n",
       "      <th>Extent</th>\n",
       "      <th>Solidity</th>\n",
       "      <th>roundness</th>\n",
       "      <th>Compactness</th>\n",
       "      <th>ShapeFactor1</th>\n",
       "      <th>ShapeFactor2</th>\n",
       "      <th>ShapeFactor3</th>\n",
       "      <th>ShapeFactor4</th>\n",
       "    </tr>\n",
       "  </thead>\n",
       "  <tbody>\n",
       "    <tr>\n",
       "      <th>0</th>\n",
       "      <td>0.392083</td>\n",
       "      <td>0.537174</td>\n",
       "      <td>0.802415</td>\n",
       "      <td>-0.088483</td>\n",
       "      <td>0.456110</td>\n",
       "      <td>0.392115</td>\n",
       "      <td>-2.123116</td>\n",
       "      <td>-2.408329</td>\n",
       "      <td>-1.365074</td>\n",
       "      <td>-1.740993</td>\n",
       "      <td>0.263918</td>\n",
       "      <td>-1.279965</td>\n",
       "      <td>-1.738567</td>\n",
       "      <td>-2.265073</td>\n",
       "    </tr>\n",
       "    <tr>\n",
       "      <th>1</th>\n",
       "      <td>-1.568968</td>\n",
       "      <td>-1.505177</td>\n",
       "      <td>-1.416026</td>\n",
       "      <td>-1.458399</td>\n",
       "      <td>-1.565972</td>\n",
       "      <td>-1.568860</td>\n",
       "      <td>0.247973</td>\n",
       "      <td>-0.117745</td>\n",
       "      <td>0.566043</td>\n",
       "      <td>0.447656</td>\n",
       "      <td>1.451146</td>\n",
       "      <td>1.164763</td>\n",
       "      <td>0.447418</td>\n",
       "      <td>0.895162</td>\n",
       "    </tr>\n",
       "    <tr>\n",
       "      <th>2</th>\n",
       "      <td>0.273923</td>\n",
       "      <td>0.348549</td>\n",
       "      <td>-0.058136</td>\n",
       "      <td>0.592001</td>\n",
       "      <td>0.292580</td>\n",
       "      <td>0.273921</td>\n",
       "      <td>-0.114341</td>\n",
       "      <td>-1.734967</td>\n",
       "      <td>-0.894514</td>\n",
       "      <td>0.810696</td>\n",
       "      <td>-0.594451</td>\n",
       "      <td>0.425593</td>\n",
       "      <td>0.811231</td>\n",
       "      <td>-0.120392</td>\n",
       "    </tr>\n",
       "    <tr>\n",
       "      <th>3</th>\n",
       "      <td>-2.124227</td>\n",
       "      <td>-2.060628</td>\n",
       "      <td>-1.791250</td>\n",
       "      <td>-2.103582</td>\n",
       "      <td>-2.121214</td>\n",
       "      <td>-2.123735</td>\n",
       "      <td>-0.877518</td>\n",
       "      <td>0.035769</td>\n",
       "      <td>1.073595</td>\n",
       "      <td>0.412523</td>\n",
       "      <td>2.125687</td>\n",
       "      <td>1.366835</td>\n",
       "      <td>0.412194</td>\n",
       "      <td>1.246981</td>\n",
       "    </tr>\n",
       "    <tr>\n",
       "      <th>4</th>\n",
       "      <td>1.845604</td>\n",
       "      <td>1.794633</td>\n",
       "      <td>1.741715</td>\n",
       "      <td>1.871746</td>\n",
       "      <td>1.843038</td>\n",
       "      <td>1.845937</td>\n",
       "      <td>1.370850</td>\n",
       "      <td>-0.280172</td>\n",
       "      <td>-0.239393</td>\n",
       "      <td>0.076414</td>\n",
       "      <td>-1.861162</td>\n",
       "      <td>-1.299531</td>\n",
       "      <td>0.075165</td>\n",
       "      <td>-1.123258</td>\n",
       "    </tr>\n",
       "  </tbody>\n",
       "</table>\n",
       "</div>"
      ],
      "text/plain": [
       "       Area  Perimeter  MajorAxisLength  MinorAxisLength  ConvexArea  \\\n",
       "0  0.392083   0.537174         0.802415        -0.088483    0.456110   \n",
       "1 -1.568968  -1.505177        -1.416026        -1.458399   -1.565972   \n",
       "2  0.273923   0.348549        -0.058136         0.592001    0.292580   \n",
       "3 -2.124227  -2.060628        -1.791250        -2.103582   -2.121214   \n",
       "4  1.845604   1.794633         1.741715         1.871746    1.843038   \n",
       "\n",
       "   EquivDiameter    Extent  Solidity  roundness  Compactness  ShapeFactor1  \\\n",
       "0       0.392115 -2.123116 -2.408329  -1.365074    -1.740993      0.263918   \n",
       "1      -1.568860  0.247973 -0.117745   0.566043     0.447656      1.451146   \n",
       "2       0.273921 -0.114341 -1.734967  -0.894514     0.810696     -0.594451   \n",
       "3      -2.123735 -0.877518  0.035769   1.073595     0.412523      2.125687   \n",
       "4       1.845937  1.370850 -0.280172  -0.239393     0.076414     -1.861162   \n",
       "\n",
       "   ShapeFactor2  ShapeFactor3  ShapeFactor4  \n",
       "0     -1.279965     -1.738567     -2.265073  \n",
       "1      1.164763      0.447418      0.895162  \n",
       "2      0.425593      0.811231     -0.120392  \n",
       "3      1.366835      0.412194      1.246981  \n",
       "4     -1.299531      0.075165     -1.123258  "
      ]
     },
     "execution_count": 66,
     "metadata": {},
     "output_type": "execute_result"
    }
   ],
   "source": [
    "x_test.head()"
   ]
  },
  {
   "cell_type": "code",
   "execution_count": 67,
   "id": "5a4f4773",
   "metadata": {
    "execution": {
     "iopub.execute_input": "2022-05-30T13:17:53.088095Z",
     "iopub.status.busy": "2022-05-30T13:17:53.087568Z",
     "iopub.status.idle": "2022-05-30T13:17:53.094852Z",
     "shell.execute_reply": "2022-05-30T13:17:53.093905Z"
    },
    "papermill": {
     "duration": 0.057039,
     "end_time": "2022-05-30T13:17:53.097227",
     "exception": false,
     "start_time": "2022-05-30T13:17:53.040188",
     "status": "completed"
    },
    "tags": []
   },
   "outputs": [
    {
     "data": {
      "text/plain": [
       "(2709, 14)"
      ]
     },
     "execution_count": 67,
     "metadata": {},
     "output_type": "execute_result"
    }
   ],
   "source": [
    "x_test.shape"
   ]
  },
  {
   "cell_type": "code",
   "execution_count": 68,
   "id": "d51f5049",
   "metadata": {
    "execution": {
     "iopub.execute_input": "2022-05-30T13:17:53.192153Z",
     "iopub.status.busy": "2022-05-30T13:17:53.191625Z",
     "iopub.status.idle": "2022-05-30T13:17:54.068092Z",
     "shell.execute_reply": "2022-05-30T13:17:54.066409Z"
    },
    "papermill": {
     "duration": 0.927622,
     "end_time": "2022-05-30T13:17:54.070952",
     "exception": false,
     "start_time": "2022-05-30T13:17:53.143330",
     "status": "completed"
    },
    "tags": []
   },
   "outputs": [],
   "source": [
    "y_pred_test=vc.predict(x_test)"
   ]
  },
  {
   "cell_type": "code",
   "execution_count": 69,
   "id": "81472c9a",
   "metadata": {
    "execution": {
     "iopub.execute_input": "2022-05-30T13:17:54.170944Z",
     "iopub.status.busy": "2022-05-30T13:17:54.170140Z",
     "iopub.status.idle": "2022-05-30T13:17:54.176784Z",
     "shell.execute_reply": "2022-05-30T13:17:54.175883Z"
    },
    "papermill": {
     "duration": 0.058525,
     "end_time": "2022-05-30T13:17:54.179178",
     "exception": false,
     "start_time": "2022-05-30T13:17:54.120653",
     "status": "completed"
    },
    "tags": []
   },
   "outputs": [
    {
     "data": {
      "text/plain": [
       "array([0, 2, 4, ..., 0, 2, 3])"
      ]
     },
     "execution_count": 69,
     "metadata": {},
     "output_type": "execute_result"
    }
   ],
   "source": [
    "y_pred_test"
   ]
  },
  {
   "cell_type": "code",
   "execution_count": 70,
   "id": "09c7346b",
   "metadata": {
    "execution": {
     "iopub.execute_input": "2022-05-30T13:17:54.278363Z",
     "iopub.status.busy": "2022-05-30T13:17:54.277646Z",
     "iopub.status.idle": "2022-05-30T13:17:54.297897Z",
     "shell.execute_reply": "2022-05-30T13:17:54.296958Z"
    },
    "papermill": {
     "duration": 0.07429,
     "end_time": "2022-05-30T13:17:54.300619",
     "exception": false,
     "start_time": "2022-05-30T13:17:54.226329",
     "status": "completed"
    },
    "tags": []
   },
   "outputs": [],
   "source": [
    "df_test=pd.read_csv(\"../input/dry-beans-classification-iti-ai-pro-intake02/test.csv\")"
   ]
  },
  {
   "cell_type": "code",
   "execution_count": 71,
   "id": "87e31c99",
   "metadata": {
    "execution": {
     "iopub.execute_input": "2022-05-30T13:17:54.394078Z",
     "iopub.status.busy": "2022-05-30T13:17:54.393151Z",
     "iopub.status.idle": "2022-05-30T13:17:54.415061Z",
     "shell.execute_reply": "2022-05-30T13:17:54.414211Z"
    },
    "papermill": {
     "duration": 0.070897,
     "end_time": "2022-05-30T13:17:54.417171",
     "exception": false,
     "start_time": "2022-05-30T13:17:54.346274",
     "status": "completed"
    },
    "tags": []
   },
   "outputs": [
    {
     "data": {
      "text/html": [
       "<div>\n",
       "<style scoped>\n",
       "    .dataframe tbody tr th:only-of-type {\n",
       "        vertical-align: middle;\n",
       "    }\n",
       "\n",
       "    .dataframe tbody tr th {\n",
       "        vertical-align: top;\n",
       "    }\n",
       "\n",
       "    .dataframe thead th {\n",
       "        text-align: right;\n",
       "    }\n",
       "</style>\n",
       "<table border=\"1\" class=\"dataframe\">\n",
       "  <thead>\n",
       "    <tr style=\"text-align: right;\">\n",
       "      <th></th>\n",
       "      <th>ID</th>\n",
       "      <th>Area</th>\n",
       "      <th>Perimeter</th>\n",
       "      <th>MajorAxisLength</th>\n",
       "      <th>MinorAxisLength</th>\n",
       "      <th>AspectRation</th>\n",
       "      <th>Eccentricity</th>\n",
       "      <th>ConvexArea</th>\n",
       "      <th>EquivDiameter</th>\n",
       "      <th>Extent</th>\n",
       "      <th>Solidity</th>\n",
       "      <th>roundness</th>\n",
       "      <th>Compactness</th>\n",
       "      <th>ShapeFactor1</th>\n",
       "      <th>ShapeFactor2</th>\n",
       "      <th>ShapeFactor3</th>\n",
       "      <th>ShapeFactor4</th>\n",
       "    </tr>\n",
       "  </thead>\n",
       "  <tbody>\n",
       "    <tr>\n",
       "      <th>0</th>\n",
       "      <td>10834</td>\n",
       "      <td>57659</td>\n",
       "      <td>955.434</td>\n",
       "      <td>387.757607</td>\n",
       "      <td>196.625782</td>\n",
       "      <td>1.972059</td>\n",
       "      <td>0.861896</td>\n",
       "      <td>60188</td>\n",
       "      <td>270.949661</td>\n",
       "      <td>0.620790</td>\n",
       "      <td>0.957982</td>\n",
       "      <td>0.793735</td>\n",
       "      <td>0.698760</td>\n",
       "      <td>0.006725</td>\n",
       "      <td>0.000989</td>\n",
       "      <td>0.488266</td>\n",
       "      <td>0.962889</td>\n",
       "    </tr>\n",
       "    <tr>\n",
       "      <th>1</th>\n",
       "      <td>10835</td>\n",
       "      <td>28772</td>\n",
       "      <td>630.362</td>\n",
       "      <td>229.990785</td>\n",
       "      <td>159.609367</td>\n",
       "      <td>1.440960</td>\n",
       "      <td>0.719993</td>\n",
       "      <td>29127</td>\n",
       "      <td>191.399185</td>\n",
       "      <td>0.767458</td>\n",
       "      <td>0.987812</td>\n",
       "      <td>0.909913</td>\n",
       "      <td>0.832204</td>\n",
       "      <td>0.007994</td>\n",
       "      <td>0.002365</td>\n",
       "      <td>0.692563</td>\n",
       "      <td>0.997956</td>\n",
       "    </tr>\n",
       "    <tr>\n",
       "      <th>2</th>\n",
       "      <td>10836</td>\n",
       "      <td>54677</td>\n",
       "      <td>911.022</td>\n",
       "      <td>308.853903</td>\n",
       "      <td>226.398571</td>\n",
       "      <td>1.364204</td>\n",
       "      <td>0.680198</td>\n",
       "      <td>55858</td>\n",
       "      <td>263.850182</td>\n",
       "      <td>0.753013</td>\n",
       "      <td>0.978857</td>\n",
       "      <td>0.827860</td>\n",
       "      <td>0.854288</td>\n",
       "      <td>0.005649</td>\n",
       "      <td>0.001856</td>\n",
       "      <td>0.729808</td>\n",
       "      <td>0.995607</td>\n",
       "    </tr>\n",
       "    <tr>\n",
       "      <th>3</th>\n",
       "      <td>10837</td>\n",
       "      <td>24827</td>\n",
       "      <td>578.304</td>\n",
       "      <td>214.192699</td>\n",
       "      <td>147.788172</td>\n",
       "      <td>1.449322</td>\n",
       "      <td>0.723831</td>\n",
       "      <td>25121</td>\n",
       "      <td>177.794033</td>\n",
       "      <td>0.716508</td>\n",
       "      <td>0.988297</td>\n",
       "      <td>0.932871</td>\n",
       "      <td>0.830066</td>\n",
       "      <td>0.008627</td>\n",
       "      <td>0.002526</td>\n",
       "      <td>0.689009</td>\n",
       "      <td>0.998596</td>\n",
       "    </tr>\n",
       "    <tr>\n",
       "      <th>4</th>\n",
       "      <td>10838</td>\n",
       "      <td>141850</td>\n",
       "      <td>1432.847</td>\n",
       "      <td>524.923471</td>\n",
       "      <td>346.910920</td>\n",
       "      <td>1.513136</td>\n",
       "      <td>0.750492</td>\n",
       "      <td>143680</td>\n",
       "      <td>424.981211</td>\n",
       "      <td>0.804617</td>\n",
       "      <td>0.987263</td>\n",
       "      <td>0.868240</td>\n",
       "      <td>0.809606</td>\n",
       "      <td>0.003701</td>\n",
       "      <td>0.000981</td>\n",
       "      <td>0.655462</td>\n",
       "      <td>0.991803</td>\n",
       "    </tr>\n",
       "  </tbody>\n",
       "</table>\n",
       "</div>"
      ],
      "text/plain": [
       "      ID    Area  Perimeter  MajorAxisLength  MinorAxisLength  AspectRation  \\\n",
       "0  10834   57659    955.434       387.757607       196.625782      1.972059   \n",
       "1  10835   28772    630.362       229.990785       159.609367      1.440960   \n",
       "2  10836   54677    911.022       308.853903       226.398571      1.364204   \n",
       "3  10837   24827    578.304       214.192699       147.788172      1.449322   \n",
       "4  10838  141850   1432.847       524.923471       346.910920      1.513136   \n",
       "\n",
       "   Eccentricity  ConvexArea  EquivDiameter    Extent  Solidity  roundness  \\\n",
       "0      0.861896       60188     270.949661  0.620790  0.957982   0.793735   \n",
       "1      0.719993       29127     191.399185  0.767458  0.987812   0.909913   \n",
       "2      0.680198       55858     263.850182  0.753013  0.978857   0.827860   \n",
       "3      0.723831       25121     177.794033  0.716508  0.988297   0.932871   \n",
       "4      0.750492      143680     424.981211  0.804617  0.987263   0.868240   \n",
       "\n",
       "   Compactness  ShapeFactor1  ShapeFactor2  ShapeFactor3  ShapeFactor4  \n",
       "0     0.698760      0.006725      0.000989      0.488266      0.962889  \n",
       "1     0.832204      0.007994      0.002365      0.692563      0.997956  \n",
       "2     0.854288      0.005649      0.001856      0.729808      0.995607  \n",
       "3     0.830066      0.008627      0.002526      0.689009      0.998596  \n",
       "4     0.809606      0.003701      0.000981      0.655462      0.991803  "
      ]
     },
     "execution_count": 71,
     "metadata": {},
     "output_type": "execute_result"
    }
   ],
   "source": [
    "df_test.head()"
   ]
  },
  {
   "cell_type": "code",
   "execution_count": 72,
   "id": "396b7bdc",
   "metadata": {
    "execution": {
     "iopub.execute_input": "2022-05-30T13:17:54.513702Z",
     "iopub.status.busy": "2022-05-30T13:17:54.512555Z",
     "iopub.status.idle": "2022-05-30T13:17:54.520134Z",
     "shell.execute_reply": "2022-05-30T13:17:54.518786Z"
    },
    "papermill": {
     "duration": 0.057832,
     "end_time": "2022-05-30T13:17:54.522698",
     "exception": false,
     "start_time": "2022-05-30T13:17:54.464866",
     "status": "completed"
    },
    "tags": []
   },
   "outputs": [],
   "source": [
    "df_test[\"y\"]=y_pred_test"
   ]
  },
  {
   "cell_type": "code",
   "execution_count": 73,
   "id": "40e8b717",
   "metadata": {
    "execution": {
     "iopub.execute_input": "2022-05-30T13:17:54.618829Z",
     "iopub.status.busy": "2022-05-30T13:17:54.618355Z",
     "iopub.status.idle": "2022-05-30T13:17:54.641759Z",
     "shell.execute_reply": "2022-05-30T13:17:54.640651Z"
    },
    "papermill": {
     "duration": 0.074485,
     "end_time": "2022-05-30T13:17:54.644143",
     "exception": false,
     "start_time": "2022-05-30T13:17:54.569658",
     "status": "completed"
    },
    "tags": []
   },
   "outputs": [
    {
     "data": {
      "text/html": [
       "<div>\n",
       "<style scoped>\n",
       "    .dataframe tbody tr th:only-of-type {\n",
       "        vertical-align: middle;\n",
       "    }\n",
       "\n",
       "    .dataframe tbody tr th {\n",
       "        vertical-align: top;\n",
       "    }\n",
       "\n",
       "    .dataframe thead th {\n",
       "        text-align: right;\n",
       "    }\n",
       "</style>\n",
       "<table border=\"1\" class=\"dataframe\">\n",
       "  <thead>\n",
       "    <tr style=\"text-align: right;\">\n",
       "      <th></th>\n",
       "      <th>ID</th>\n",
       "      <th>Area</th>\n",
       "      <th>Perimeter</th>\n",
       "      <th>MajorAxisLength</th>\n",
       "      <th>MinorAxisLength</th>\n",
       "      <th>AspectRation</th>\n",
       "      <th>Eccentricity</th>\n",
       "      <th>ConvexArea</th>\n",
       "      <th>EquivDiameter</th>\n",
       "      <th>Extent</th>\n",
       "      <th>Solidity</th>\n",
       "      <th>roundness</th>\n",
       "      <th>Compactness</th>\n",
       "      <th>ShapeFactor1</th>\n",
       "      <th>ShapeFactor2</th>\n",
       "      <th>ShapeFactor3</th>\n",
       "      <th>ShapeFactor4</th>\n",
       "      <th>y</th>\n",
       "    </tr>\n",
       "  </thead>\n",
       "  <tbody>\n",
       "    <tr>\n",
       "      <th>0</th>\n",
       "      <td>10834</td>\n",
       "      <td>57659</td>\n",
       "      <td>955.434</td>\n",
       "      <td>387.757607</td>\n",
       "      <td>196.625782</td>\n",
       "      <td>1.972059</td>\n",
       "      <td>0.861896</td>\n",
       "      <td>60188</td>\n",
       "      <td>270.949661</td>\n",
       "      <td>0.620790</td>\n",
       "      <td>0.957982</td>\n",
       "      <td>0.793735</td>\n",
       "      <td>0.698760</td>\n",
       "      <td>0.006725</td>\n",
       "      <td>0.000989</td>\n",
       "      <td>0.488266</td>\n",
       "      <td>0.962889</td>\n",
       "      <td>0</td>\n",
       "    </tr>\n",
       "    <tr>\n",
       "      <th>1</th>\n",
       "      <td>10835</td>\n",
       "      <td>28772</td>\n",
       "      <td>630.362</td>\n",
       "      <td>229.990785</td>\n",
       "      <td>159.609367</td>\n",
       "      <td>1.440960</td>\n",
       "      <td>0.719993</td>\n",
       "      <td>29127</td>\n",
       "      <td>191.399185</td>\n",
       "      <td>0.767458</td>\n",
       "      <td>0.987812</td>\n",
       "      <td>0.909913</td>\n",
       "      <td>0.832204</td>\n",
       "      <td>0.007994</td>\n",
       "      <td>0.002365</td>\n",
       "      <td>0.692563</td>\n",
       "      <td>0.997956</td>\n",
       "      <td>2</td>\n",
       "    </tr>\n",
       "    <tr>\n",
       "      <th>2</th>\n",
       "      <td>10836</td>\n",
       "      <td>54677</td>\n",
       "      <td>911.022</td>\n",
       "      <td>308.853903</td>\n",
       "      <td>226.398571</td>\n",
       "      <td>1.364204</td>\n",
       "      <td>0.680198</td>\n",
       "      <td>55858</td>\n",
       "      <td>263.850182</td>\n",
       "      <td>0.753013</td>\n",
       "      <td>0.978857</td>\n",
       "      <td>0.827860</td>\n",
       "      <td>0.854288</td>\n",
       "      <td>0.005649</td>\n",
       "      <td>0.001856</td>\n",
       "      <td>0.729808</td>\n",
       "      <td>0.995607</td>\n",
       "      <td>4</td>\n",
       "    </tr>\n",
       "    <tr>\n",
       "      <th>3</th>\n",
       "      <td>10837</td>\n",
       "      <td>24827</td>\n",
       "      <td>578.304</td>\n",
       "      <td>214.192699</td>\n",
       "      <td>147.788172</td>\n",
       "      <td>1.449322</td>\n",
       "      <td>0.723831</td>\n",
       "      <td>25121</td>\n",
       "      <td>177.794033</td>\n",
       "      <td>0.716508</td>\n",
       "      <td>0.988297</td>\n",
       "      <td>0.932871</td>\n",
       "      <td>0.830066</td>\n",
       "      <td>0.008627</td>\n",
       "      <td>0.002526</td>\n",
       "      <td>0.689009</td>\n",
       "      <td>0.998596</td>\n",
       "      <td>2</td>\n",
       "    </tr>\n",
       "    <tr>\n",
       "      <th>4</th>\n",
       "      <td>10838</td>\n",
       "      <td>141850</td>\n",
       "      <td>1432.847</td>\n",
       "      <td>524.923471</td>\n",
       "      <td>346.910920</td>\n",
       "      <td>1.513136</td>\n",
       "      <td>0.750492</td>\n",
       "      <td>143680</td>\n",
       "      <td>424.981211</td>\n",
       "      <td>0.804617</td>\n",
       "      <td>0.987263</td>\n",
       "      <td>0.868240</td>\n",
       "      <td>0.809606</td>\n",
       "      <td>0.003701</td>\n",
       "      <td>0.000981</td>\n",
       "      <td>0.655462</td>\n",
       "      <td>0.991803</td>\n",
       "      <td>6</td>\n",
       "    </tr>\n",
       "  </tbody>\n",
       "</table>\n",
       "</div>"
      ],
      "text/plain": [
       "      ID    Area  Perimeter  MajorAxisLength  MinorAxisLength  AspectRation  \\\n",
       "0  10834   57659    955.434       387.757607       196.625782      1.972059   \n",
       "1  10835   28772    630.362       229.990785       159.609367      1.440960   \n",
       "2  10836   54677    911.022       308.853903       226.398571      1.364204   \n",
       "3  10837   24827    578.304       214.192699       147.788172      1.449322   \n",
       "4  10838  141850   1432.847       524.923471       346.910920      1.513136   \n",
       "\n",
       "   Eccentricity  ConvexArea  EquivDiameter    Extent  Solidity  roundness  \\\n",
       "0      0.861896       60188     270.949661  0.620790  0.957982   0.793735   \n",
       "1      0.719993       29127     191.399185  0.767458  0.987812   0.909913   \n",
       "2      0.680198       55858     263.850182  0.753013  0.978857   0.827860   \n",
       "3      0.723831       25121     177.794033  0.716508  0.988297   0.932871   \n",
       "4      0.750492      143680     424.981211  0.804617  0.987263   0.868240   \n",
       "\n",
       "   Compactness  ShapeFactor1  ShapeFactor2  ShapeFactor3  ShapeFactor4  y  \n",
       "0     0.698760      0.006725      0.000989      0.488266      0.962889  0  \n",
       "1     0.832204      0.007994      0.002365      0.692563      0.997956  2  \n",
       "2     0.854288      0.005649      0.001856      0.729808      0.995607  4  \n",
       "3     0.830066      0.008627      0.002526      0.689009      0.998596  2  \n",
       "4     0.809606      0.003701      0.000981      0.655462      0.991803  6  "
      ]
     },
     "execution_count": 73,
     "metadata": {},
     "output_type": "execute_result"
    }
   ],
   "source": [
    "df_test.head()"
   ]
  },
  {
   "cell_type": "code",
   "execution_count": 74,
   "id": "fde599b8",
   "metadata": {
    "execution": {
     "iopub.execute_input": "2022-05-30T13:17:54.741410Z",
     "iopub.status.busy": "2022-05-30T13:17:54.740691Z",
     "iopub.status.idle": "2022-05-30T13:17:54.748637Z",
     "shell.execute_reply": "2022-05-30T13:17:54.747728Z"
    },
    "papermill": {
     "duration": 0.059747,
     "end_time": "2022-05-30T13:17:54.751273",
     "exception": false,
     "start_time": "2022-05-30T13:17:54.691526",
     "status": "completed"
    },
    "tags": []
   },
   "outputs": [],
   "source": [
    "df_test['y']=df_test['y'].map({0:'HOROZ', 1:'SEKER', 2:'DERMASON', 3:'SIRA', 4:'BARBUNYA', 5:'CALI',6:'BOMBAY'})"
   ]
  },
  {
   "cell_type": "code",
   "execution_count": 75,
   "id": "811af244",
   "metadata": {
    "execution": {
     "iopub.execute_input": "2022-05-30T13:17:54.847715Z",
     "iopub.status.busy": "2022-05-30T13:17:54.847237Z",
     "iopub.status.idle": "2022-05-30T13:17:54.872755Z",
     "shell.execute_reply": "2022-05-30T13:17:54.871563Z"
    },
    "papermill": {
     "duration": 0.076329,
     "end_time": "2022-05-30T13:17:54.875423",
     "exception": false,
     "start_time": "2022-05-30T13:17:54.799094",
     "status": "completed"
    },
    "tags": []
   },
   "outputs": [
    {
     "data": {
      "text/html": [
       "<div>\n",
       "<style scoped>\n",
       "    .dataframe tbody tr th:only-of-type {\n",
       "        vertical-align: middle;\n",
       "    }\n",
       "\n",
       "    .dataframe tbody tr th {\n",
       "        vertical-align: top;\n",
       "    }\n",
       "\n",
       "    .dataframe thead th {\n",
       "        text-align: right;\n",
       "    }\n",
       "</style>\n",
       "<table border=\"1\" class=\"dataframe\">\n",
       "  <thead>\n",
       "    <tr style=\"text-align: right;\">\n",
       "      <th></th>\n",
       "      <th>ID</th>\n",
       "      <th>Area</th>\n",
       "      <th>Perimeter</th>\n",
       "      <th>MajorAxisLength</th>\n",
       "      <th>MinorAxisLength</th>\n",
       "      <th>AspectRation</th>\n",
       "      <th>Eccentricity</th>\n",
       "      <th>ConvexArea</th>\n",
       "      <th>EquivDiameter</th>\n",
       "      <th>Extent</th>\n",
       "      <th>Solidity</th>\n",
       "      <th>roundness</th>\n",
       "      <th>Compactness</th>\n",
       "      <th>ShapeFactor1</th>\n",
       "      <th>ShapeFactor2</th>\n",
       "      <th>ShapeFactor3</th>\n",
       "      <th>ShapeFactor4</th>\n",
       "      <th>y</th>\n",
       "    </tr>\n",
       "  </thead>\n",
       "  <tbody>\n",
       "    <tr>\n",
       "      <th>0</th>\n",
       "      <td>10834</td>\n",
       "      <td>57659</td>\n",
       "      <td>955.434</td>\n",
       "      <td>387.757607</td>\n",
       "      <td>196.625782</td>\n",
       "      <td>1.972059</td>\n",
       "      <td>0.861896</td>\n",
       "      <td>60188</td>\n",
       "      <td>270.949661</td>\n",
       "      <td>0.620790</td>\n",
       "      <td>0.957982</td>\n",
       "      <td>0.793735</td>\n",
       "      <td>0.698760</td>\n",
       "      <td>0.006725</td>\n",
       "      <td>0.000989</td>\n",
       "      <td>0.488266</td>\n",
       "      <td>0.962889</td>\n",
       "      <td>HOROZ</td>\n",
       "    </tr>\n",
       "    <tr>\n",
       "      <th>1</th>\n",
       "      <td>10835</td>\n",
       "      <td>28772</td>\n",
       "      <td>630.362</td>\n",
       "      <td>229.990785</td>\n",
       "      <td>159.609367</td>\n",
       "      <td>1.440960</td>\n",
       "      <td>0.719993</td>\n",
       "      <td>29127</td>\n",
       "      <td>191.399185</td>\n",
       "      <td>0.767458</td>\n",
       "      <td>0.987812</td>\n",
       "      <td>0.909913</td>\n",
       "      <td>0.832204</td>\n",
       "      <td>0.007994</td>\n",
       "      <td>0.002365</td>\n",
       "      <td>0.692563</td>\n",
       "      <td>0.997956</td>\n",
       "      <td>DERMASON</td>\n",
       "    </tr>\n",
       "    <tr>\n",
       "      <th>2</th>\n",
       "      <td>10836</td>\n",
       "      <td>54677</td>\n",
       "      <td>911.022</td>\n",
       "      <td>308.853903</td>\n",
       "      <td>226.398571</td>\n",
       "      <td>1.364204</td>\n",
       "      <td>0.680198</td>\n",
       "      <td>55858</td>\n",
       "      <td>263.850182</td>\n",
       "      <td>0.753013</td>\n",
       "      <td>0.978857</td>\n",
       "      <td>0.827860</td>\n",
       "      <td>0.854288</td>\n",
       "      <td>0.005649</td>\n",
       "      <td>0.001856</td>\n",
       "      <td>0.729808</td>\n",
       "      <td>0.995607</td>\n",
       "      <td>BARBUNYA</td>\n",
       "    </tr>\n",
       "    <tr>\n",
       "      <th>3</th>\n",
       "      <td>10837</td>\n",
       "      <td>24827</td>\n",
       "      <td>578.304</td>\n",
       "      <td>214.192699</td>\n",
       "      <td>147.788172</td>\n",
       "      <td>1.449322</td>\n",
       "      <td>0.723831</td>\n",
       "      <td>25121</td>\n",
       "      <td>177.794033</td>\n",
       "      <td>0.716508</td>\n",
       "      <td>0.988297</td>\n",
       "      <td>0.932871</td>\n",
       "      <td>0.830066</td>\n",
       "      <td>0.008627</td>\n",
       "      <td>0.002526</td>\n",
       "      <td>0.689009</td>\n",
       "      <td>0.998596</td>\n",
       "      <td>DERMASON</td>\n",
       "    </tr>\n",
       "    <tr>\n",
       "      <th>4</th>\n",
       "      <td>10838</td>\n",
       "      <td>141850</td>\n",
       "      <td>1432.847</td>\n",
       "      <td>524.923471</td>\n",
       "      <td>346.910920</td>\n",
       "      <td>1.513136</td>\n",
       "      <td>0.750492</td>\n",
       "      <td>143680</td>\n",
       "      <td>424.981211</td>\n",
       "      <td>0.804617</td>\n",
       "      <td>0.987263</td>\n",
       "      <td>0.868240</td>\n",
       "      <td>0.809606</td>\n",
       "      <td>0.003701</td>\n",
       "      <td>0.000981</td>\n",
       "      <td>0.655462</td>\n",
       "      <td>0.991803</td>\n",
       "      <td>BOMBAY</td>\n",
       "    </tr>\n",
       "  </tbody>\n",
       "</table>\n",
       "</div>"
      ],
      "text/plain": [
       "      ID    Area  Perimeter  MajorAxisLength  MinorAxisLength  AspectRation  \\\n",
       "0  10834   57659    955.434       387.757607       196.625782      1.972059   \n",
       "1  10835   28772    630.362       229.990785       159.609367      1.440960   \n",
       "2  10836   54677    911.022       308.853903       226.398571      1.364204   \n",
       "3  10837   24827    578.304       214.192699       147.788172      1.449322   \n",
       "4  10838  141850   1432.847       524.923471       346.910920      1.513136   \n",
       "\n",
       "   Eccentricity  ConvexArea  EquivDiameter    Extent  Solidity  roundness  \\\n",
       "0      0.861896       60188     270.949661  0.620790  0.957982   0.793735   \n",
       "1      0.719993       29127     191.399185  0.767458  0.987812   0.909913   \n",
       "2      0.680198       55858     263.850182  0.753013  0.978857   0.827860   \n",
       "3      0.723831       25121     177.794033  0.716508  0.988297   0.932871   \n",
       "4      0.750492      143680     424.981211  0.804617  0.987263   0.868240   \n",
       "\n",
       "   Compactness  ShapeFactor1  ShapeFactor2  ShapeFactor3  ShapeFactor4  \\\n",
       "0     0.698760      0.006725      0.000989      0.488266      0.962889   \n",
       "1     0.832204      0.007994      0.002365      0.692563      0.997956   \n",
       "2     0.854288      0.005649      0.001856      0.729808      0.995607   \n",
       "3     0.830066      0.008627      0.002526      0.689009      0.998596   \n",
       "4     0.809606      0.003701      0.000981      0.655462      0.991803   \n",
       "\n",
       "          y  \n",
       "0     HOROZ  \n",
       "1  DERMASON  \n",
       "2  BARBUNYA  \n",
       "3  DERMASON  \n",
       "4    BOMBAY  "
      ]
     },
     "execution_count": 75,
     "metadata": {},
     "output_type": "execute_result"
    }
   ],
   "source": [
    "df_test.head()"
   ]
  },
  {
   "cell_type": "code",
   "execution_count": 76,
   "id": "8277656b",
   "metadata": {
    "execution": {
     "iopub.execute_input": "2022-05-30T13:17:54.973801Z",
     "iopub.status.busy": "2022-05-30T13:17:54.973317Z",
     "iopub.status.idle": "2022-05-30T13:17:54.989634Z",
     "shell.execute_reply": "2022-05-30T13:17:54.988613Z"
    },
    "papermill": {
     "duration": 0.069986,
     "end_time": "2022-05-30T13:17:54.992296",
     "exception": false,
     "start_time": "2022-05-30T13:17:54.922310",
     "status": "completed"
    },
    "tags": []
   },
   "outputs": [],
   "source": [
    "df_test[['ID', 'y']].to_csv('/kaggle/working/submission.csv', index=False)"
   ]
  },
  {
   "cell_type": "code",
   "execution_count": 77,
   "id": "bd40365d",
   "metadata": {
    "execution": {
     "iopub.execute_input": "2022-05-30T13:17:55.091848Z",
     "iopub.status.busy": "2022-05-30T13:17:55.090994Z",
     "iopub.status.idle": "2022-05-30T13:17:55.885781Z",
     "shell.execute_reply": "2022-05-30T13:17:55.884181Z"
    },
    "papermill": {
     "duration": 0.84764,
     "end_time": "2022-05-30T13:17:55.888773",
     "exception": false,
     "start_time": "2022-05-30T13:17:55.041133",
     "status": "completed"
    },
    "tags": []
   },
   "outputs": [
    {
     "name": "stdout",
     "output_type": "stream",
     "text": [
      "ID,y\r\n",
      "10834,HOROZ\r\n",
      "10835,DERMASON\r\n",
      "10836,BARBUNYA\r\n",
      "10837,DERMASON\r\n",
      "10838,BOMBAY\r\n",
      "10839,DERMASON\r\n",
      "10840,DERMASON\r\n",
      "10841,SEKER\r\n",
      "10842,DERMASON\r\n"
     ]
    }
   ],
   "source": [
    "!head submission.csv"
   ]
  },
  {
   "cell_type": "code",
   "execution_count": null,
   "id": "3ae35030",
   "metadata": {
    "papermill": {
     "duration": 0.048198,
     "end_time": "2022-05-30T13:17:55.983915",
     "exception": false,
     "start_time": "2022-05-30T13:17:55.935717",
     "status": "completed"
    },
    "tags": []
   },
   "outputs": [],
   "source": []
  }
 ],
 "metadata": {
  "kernelspec": {
   "display_name": "Python 3",
   "language": "python",
   "name": "python3"
  },
  "language_info": {
   "codemirror_mode": {
    "name": "ipython",
    "version": 3
   },
   "file_extension": ".py",
   "mimetype": "text/x-python",
   "name": "python",
   "nbconvert_exporter": "python",
   "pygments_lexer": "ipython3",
   "version": "3.7.12"
  },
  "papermill": {
   "default_parameters": {},
   "duration": 295.670412,
   "end_time": "2022-05-30T13:17:57.466851",
   "environment_variables": {},
   "exception": null,
   "input_path": "__notebook__.ipynb",
   "output_path": "__notebook__.ipynb",
   "parameters": {},
   "start_time": "2022-05-30T13:13:01.796439",
   "version": "2.3.4"
  }
 },
 "nbformat": 4,
 "nbformat_minor": 5
}
